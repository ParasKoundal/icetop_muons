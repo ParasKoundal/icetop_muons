{
 "cells": [
  {
   "cell_type": "markdown",
   "metadata": {},
   "source": [
    "## Neural network to predict muon signal for individual showers"
   ]
  },
  {
   "cell_type": "code",
   "execution_count": 1,
   "metadata": {},
   "outputs": [
    {
     "name": "stderr",
     "output_type": "stream",
     "text": [
      "C:\\Users\\jfcre\\Anaconda3\\lib\\site-packages\\h5py\\__init__.py:36: FutureWarning: Conversion of the second argument of issubdtype from `float` to `np.floating` is deprecated. In future, it will be treated as `np.float64 == np.dtype(float).type`.\n",
      "  from ._conv import register_converters as _register_converters\n",
      "Using TensorFlow backend.\n"
     ]
    }
   ],
   "source": [
    "import numpy as np\n",
    "\n",
    "from sklearn.model_selection import train_test_split\n",
    "from sklearn.preprocessing import StandardScaler\n",
    "from keras.models import Sequential\n",
    "from keras.layers import Dense\n",
    "\n",
    "import matplotlib.pyplot as plt"
   ]
  },
  {
   "cell_type": "code",
   "execution_count": 2,
   "metadata": {},
   "outputs": [],
   "source": [
    "np.random.seed(11)"
   ]
  },
  {
   "cell_type": "code",
   "execution_count": 3,
   "metadata": {},
   "outputs": [],
   "source": [
    "# Columns: Run, E_proton, E_iron, Zen, Q400, MuonVEM, nMuon, Type\n",
    "# Note that right now, nMuon is useless\n",
    "data = np.load('./data/NN_data_400m.npy')"
   ]
  },
  {
   "cell_type": "code",
   "execution_count": 4,
   "metadata": {},
   "outputs": [],
   "source": [
    "# convert the python 2 bytes into python 3 format\n",
    "data_ = []\n",
    "for i in range(len(data)):\n",
    "    data_.append([])\n",
    "    for j in range(0,6):\n",
    "        data_[i].append(float(data[i,j]))\n",
    "data = np.array(data_)"
   ]
  },
  {
   "cell_type": "code",
   "execution_count": 5,
   "metadata": {},
   "outputs": [],
   "source": [
    "# look at data logE in (16.0,16.5) and cos(zenith) > 0.9\n",
    "data_ = []\n",
    "for shower in data:\n",
    "    E_proton = shower[1]\n",
    "    E_iron = shower[2]\n",
    "    E_avg = np.sqrt(E_proton*E_iron) # geometric mean\n",
    "    logE = np.log10(E_avg)\n",
    "    zen = shower[3]\n",
    "    if logE >= 16 and logE <= 16.5 and np.cos(zen) > 0.9:\n",
    "        data_.append(shower[1:])\n",
    "data_trimmed = np.array(data_)"
   ]
  },
  {
   "cell_type": "code",
   "execution_count": 6,
   "metadata": {},
   "outputs": [
    {
     "name": "stdout",
     "output_type": "stream",
     "text": [
      "1462\n"
     ]
    }
   ],
   "source": [
    "print(len(data_trimmed))"
   ]
  },
  {
   "cell_type": "code",
   "execution_count": 7,
   "metadata": {},
   "outputs": [],
   "source": [
    "# split into input and target\n",
    "X = data_trimmed[:,0:4]\n",
    "Y = data_trimmed[:,4]"
   ]
  },
  {
   "cell_type": "code",
   "execution_count": 8,
   "metadata": {},
   "outputs": [],
   "source": [
    "# split the data into test and training set\n",
    "x_train, x_test, y_train, y_test = train_test_split(X,Y)"
   ]
  },
  {
   "cell_type": "code",
   "execution_count": 9,
   "metadata": {},
   "outputs": [
    {
     "data": {
      "text/plain": [
       "StandardScaler(copy=True, with_mean=True, with_std=True)"
      ]
     },
     "execution_count": 9,
     "metadata": {},
     "output_type": "execute_result"
    }
   ],
   "source": [
    "# normalize the data because the network will be sensitive\n",
    "# to relative magnitudes\n",
    "scaler = StandardScaler()\n",
    "scaler.fit(x_train)"
   ]
  },
  {
   "cell_type": "code",
   "execution_count": 10,
   "metadata": {
    "scrolled": false
   },
   "outputs": [],
   "source": [
    "# apply the scaler to the sets\n",
    "x_train = scaler.transform(x_train)\n",
    "x_test  = scaler.transform(x_test)"
   ]
  },
  {
   "cell_type": "code",
   "execution_count": 11,
   "metadata": {},
   "outputs": [],
   "source": [
    "# create model\n",
    "model1 = Sequential()\n",
    "model1.add(Dense(4,input_dim=4,activation='relu'))\n",
    "model1.add(Dense(4,activation='relu'))\n",
    "model1.add(Dense(1,activation=None))"
   ]
  },
  {
   "cell_type": "code",
   "execution_count": 12,
   "metadata": {},
   "outputs": [],
   "source": [
    "# compile model\n",
    "# loss function: mean square log error\n",
    "# metric: mean absolute percentage error\n",
    "model1.compile(loss='msle',optimizer='adam',metrics=['mape','mse'])"
   ]
  },
  {
   "cell_type": "code",
   "execution_count": 13,
   "metadata": {
    "scrolled": true
   },
   "outputs": [
    {
     "name": "stdout",
     "output_type": "stream",
     "text": [
      "Epoch 1/75\n",
      "1096/1096 [==============================] - 0s 289us/step - loss: 4.6076 - mean_absolute_percentage_error: 94.4332 - mean_squared_error: 170.4043\n",
      "Epoch 2/75\n",
      "1096/1096 [==============================] - 0s 92us/step - loss: 3.2503 - mean_absolute_percentage_error: 86.3269 - mean_squared_error: 156.3722\n",
      "Epoch 3/75\n",
      "1096/1096 [==============================] - 0s 92us/step - loss: 2.1681 - mean_absolute_percentage_error: 77.6258 - mean_squared_error: 138.5953\n",
      "Epoch 4/75\n",
      "1096/1096 [==============================] - 0s 92us/step - loss: 1.5017 - mean_absolute_percentage_error: 72.7000 - mean_squared_error: 121.1300\n",
      "Epoch 5/75\n",
      "1096/1096 [==============================] - 0s 114us/step - loss: 1.0109 - mean_absolute_percentage_error: 69.4717 - mean_squared_error: 101.3031\n",
      "Epoch 6/75\n",
      "1096/1096 [==============================] - 0s 105us/step - loss: 0.6843 - mean_absolute_percentage_error: 66.5874 - mean_squared_error: 81.6663\n",
      "Epoch 7/75\n",
      "1096/1096 [==============================] - 0s 124us/step - loss: 0.5027 - mean_absolute_percentage_error: 64.7181 - mean_squared_error: 66.7297\n",
      "Epoch 8/75\n",
      "1096/1096 [==============================] - 0s 121us/step - loss: 0.3869 - mean_absolute_percentage_error: 61.2383 - mean_squared_error: 53.9581\n",
      "Epoch 9/75\n",
      "1096/1096 [==============================] - 0s 115us/step - loss: 0.3088 - mean_absolute_percentage_error: 57.4131 - mean_squared_error: 43.6209\n",
      "Epoch 10/75\n",
      "1096/1096 [==============================] - 0s 114us/step - loss: 0.2548 - mean_absolute_percentage_error: 53.0654 - mean_squared_error: 35.8403\n",
      "Epoch 11/75\n",
      "1096/1096 [==============================] - 0s 122us/step - loss: 0.2169 - mean_absolute_percentage_error: 48.9158 - mean_squared_error: 30.3268\n",
      "Epoch 12/75\n",
      "1096/1096 [==============================] - 0s 116us/step - loss: 0.1888 - mean_absolute_percentage_error: 45.4050 - mean_squared_error: 26.3600\n",
      "Epoch 13/75\n",
      "1096/1096 [==============================] - 0s 114us/step - loss: 0.1673 - mean_absolute_percentage_error: 42.4379 - mean_squared_error: 23.4595\n",
      "Epoch 14/75\n",
      "1096/1096 [==============================] - 0s 123us/step - loss: 0.1498 - mean_absolute_percentage_error: 39.6820 - mean_squared_error: 21.2524\n",
      "Epoch 15/75\n",
      "1096/1096 [==============================] - 0s 117us/step - loss: 0.1356 - mean_absolute_percentage_error: 37.1030 - mean_squared_error: 19.6320\n",
      "Epoch 16/75\n",
      "1096/1096 [==============================] - 0s 115us/step - loss: 0.1238 - mean_absolute_percentage_error: 34.8216 - mean_squared_error: 18.2893\n",
      "Epoch 17/75\n",
      "1096/1096 [==============================] - 0s 121us/step - loss: 0.1140 - mean_absolute_percentage_error: 33.0194 - mean_squared_error: 17.0590\n",
      "Epoch 18/75\n",
      "1096/1096 [==============================] - 0s 115us/step - loss: 0.1057 - mean_absolute_percentage_error: 31.7153 - mean_squared_error: 16.0195\n",
      "Epoch 19/75\n",
      "1096/1096 [==============================] - 0s 118us/step - loss: 0.0991 - mean_absolute_percentage_error: 30.1210 - mean_squared_error: 15.2744\n",
      "Epoch 20/75\n",
      "1096/1096 [==============================] - 0s 118us/step - loss: 0.0939 - mean_absolute_percentage_error: 29.3735 - mean_squared_error: 14.5459\n",
      "Epoch 21/75\n",
      "1096/1096 [==============================] - 0s 115us/step - loss: 0.0899 - mean_absolute_percentage_error: 28.2241 - mean_squared_error: 14.1043\n",
      "Epoch 22/75\n",
      "1096/1096 [==============================] - 0s 119us/step - loss: 0.0867 - mean_absolute_percentage_error: 27.6584 - mean_squared_error: 13.6905\n",
      "Epoch 23/75\n",
      "1096/1096 [==============================] - 0s 117us/step - loss: 0.0842 - mean_absolute_percentage_error: 27.2499 - mean_squared_error: 13.3328\n",
      "Epoch 24/75\n",
      "1096/1096 [==============================] - 0s 119us/step - loss: 0.0822 - mean_absolute_percentage_error: 26.9309 - mean_squared_error: 13.0699\n",
      "Epoch 25/75\n",
      "1096/1096 [==============================] - 0s 115us/step - loss: 0.0805 - mean_absolute_percentage_error: 26.6398 - mean_squared_error: 12.8621\n",
      "Epoch 26/75\n",
      "1096/1096 [==============================] - 0s 118us/step - loss: 0.0787 - mean_absolute_percentage_error: 26.0906 - mean_squared_error: 12.6694\n",
      "Epoch 27/75\n",
      "1096/1096 [==============================] - 0s 115us/step - loss: 0.0777 - mean_absolute_percentage_error: 26.2053 - mean_squared_error: 12.4893\n",
      "Epoch 28/75\n",
      "1096/1096 [==============================] - 0s 116us/step - loss: 0.0766 - mean_absolute_percentage_error: 25.7700 - mean_squared_error: 12.4207\n",
      "Epoch 29/75\n",
      "1096/1096 [==============================] - 0s 120us/step - loss: 0.0756 - mean_absolute_percentage_error: 25.5419 - mean_squared_error: 12.2579\n",
      "Epoch 30/75\n",
      "1096/1096 [==============================] - 0s 116us/step - loss: 0.0750 - mean_absolute_percentage_error: 25.6707 - mean_squared_error: 12.2237\n",
      "Epoch 31/75\n",
      "1096/1096 [==============================] - 0s 119us/step - loss: 0.0741 - mean_absolute_percentage_error: 25.3930 - mean_squared_error: 12.1193\n",
      "Epoch 32/75\n",
      "1096/1096 [==============================] - 0s 119us/step - loss: 0.0732 - mean_absolute_percentage_error: 25.3163 - mean_squared_error: 12.0625\n",
      "Epoch 33/75\n",
      "1096/1096 [==============================] - 0s 125us/step - loss: 0.0725 - mean_absolute_percentage_error: 25.2444 - mean_squared_error: 11.8783\n",
      "Epoch 34/75\n",
      "1096/1096 [==============================] - 0s 119us/step - loss: 0.0718 - mean_absolute_percentage_error: 24.8716 - mean_squared_error: 11.9073\n",
      "Epoch 35/75\n",
      "1096/1096 [==============================] - 0s 118us/step - loss: 0.0712 - mean_absolute_percentage_error: 25.0674 - mean_squared_error: 11.7649\n",
      "Epoch 36/75\n",
      "1096/1096 [==============================] - 0s 117us/step - loss: 0.0709 - mean_absolute_percentage_error: 24.8130 - mean_squared_error: 11.8181\n",
      "Epoch 37/75\n",
      "1096/1096 [==============================] - 0s 124us/step - loss: 0.0704 - mean_absolute_percentage_error: 24.9101 - mean_squared_error: 11.6644\n",
      "Epoch 38/75\n",
      "1096/1096 [==============================] - 0s 114us/step - loss: 0.0700 - mean_absolute_percentage_error: 24.6408 - mean_squared_error: 11.6393\n",
      "Epoch 39/75\n",
      "1096/1096 [==============================] - 0s 105us/step - loss: 0.0695 - mean_absolute_percentage_error: 24.5796 - mean_squared_error: 11.7054\n",
      "Epoch 40/75\n",
      "1096/1096 [==============================] - 0s 93us/step - loss: 0.0691 - mean_absolute_percentage_error: 24.6273 - mean_squared_error: 11.5029\n",
      "Epoch 41/75\n",
      "1096/1096 [==============================] - 0s 91us/step - loss: 0.0687 - mean_absolute_percentage_error: 24.4867 - mean_squared_error: 11.5961\n",
      "Epoch 42/75\n",
      "1096/1096 [==============================] - 0s 107us/step - loss: 0.0687 - mean_absolute_percentage_error: 24.5513 - mean_squared_error: 11.4364\n",
      "Epoch 43/75\n",
      "1096/1096 [==============================] - 0s 100us/step - loss: 0.0685 - mean_absolute_percentage_error: 24.2745 - mean_squared_error: 11.6032\n",
      "Epoch 44/75\n",
      "1096/1096 [==============================] - 0s 101us/step - loss: 0.0685 - mean_absolute_percentage_error: 24.5543 - mean_squared_error: 11.4909\n",
      "Epoch 45/75\n",
      "1096/1096 [==============================] - 0s 102us/step - loss: 0.0680 - mean_absolute_percentage_error: 24.2855 - mean_squared_error: 11.5293\n",
      "Epoch 46/75\n",
      "1096/1096 [==============================] - 0s 107us/step - loss: 0.0680 - mean_absolute_percentage_error: 24.1700 - mean_squared_error: 11.5247\n",
      "Epoch 47/75\n",
      "1096/1096 [==============================] - 0s 102us/step - loss: 0.0677 - mean_absolute_percentage_error: 24.3830 - mean_squared_error: 11.4530\n",
      "Epoch 48/75\n",
      "1096/1096 [==============================] - 0s 102us/step - loss: 0.0677 - mean_absolute_percentage_error: 24.2925 - mean_squared_error: 11.4329\n",
      "Epoch 49/75\n",
      "1096/1096 [==============================] - 0s 106us/step - loss: 0.0676 - mean_absolute_percentage_error: 24.0631 - mean_squared_error: 11.5211\n",
      "Epoch 50/75\n",
      "1096/1096 [==============================] - 0s 105us/step - loss: 0.0674 - mean_absolute_percentage_error: 24.0417 - mean_squared_error: 11.4820\n",
      "Epoch 51/75\n",
      "1096/1096 [==============================] - 0s 104us/step - loss: 0.0672 - mean_absolute_percentage_error: 24.3828 - mean_squared_error: 11.3061\n",
      "Epoch 52/75\n",
      "1096/1096 [==============================] - 0s 106us/step - loss: 0.0673 - mean_absolute_percentage_error: 23.9256 - mean_squared_error: 11.4737\n",
      "Epoch 53/75\n",
      "1096/1096 [==============================] - 0s 87us/step - loss: 0.0672 - mean_absolute_percentage_error: 24.2210 - mean_squared_error: 11.4123\n",
      "Epoch 54/75\n",
      "1096/1096 [==============================] - 0s 115us/step - loss: 0.0672 - mean_absolute_percentage_error: 23.9011 - mean_squared_error: 11.5099\n",
      "Epoch 55/75\n",
      "1096/1096 [==============================] - 0s 107us/step - loss: 0.0671 - mean_absolute_percentage_error: 24.1539 - mean_squared_error: 11.3513\n",
      "Epoch 56/75\n",
      "1096/1096 [==============================] - 0s 106us/step - loss: 0.0670 - mean_absolute_percentage_error: 23.9828 - mean_squared_error: 11.4511\n",
      "Epoch 57/75\n",
      "1096/1096 [==============================] - 0s 107us/step - loss: 0.0669 - mean_absolute_percentage_error: 23.9203 - mean_squared_error: 11.4070\n",
      "Epoch 58/75\n",
      "1096/1096 [==============================] - 0s 94us/step - loss: 0.0669 - mean_absolute_percentage_error: 24.0879 - mean_squared_error: 11.3759\n",
      "Epoch 59/75\n",
      "1096/1096 [==============================] - 0s 113us/step - loss: 0.0670 - mean_absolute_percentage_error: 23.9394 - mean_squared_error: 11.3990\n",
      "Epoch 60/75\n",
      "1096/1096 [==============================] - 0s 104us/step - loss: 0.0667 - mean_absolute_percentage_error: 24.0492 - mean_squared_error: 11.3680\n",
      "Epoch 61/75\n",
      "1096/1096 [==============================] - 0s 112us/step - loss: 0.0668 - mean_absolute_percentage_error: 24.1225 - mean_squared_error: 11.3489\n",
      "Epoch 62/75\n",
      "1096/1096 [==============================] - 0s 130us/step - loss: 0.0668 - mean_absolute_percentage_error: 23.9996 - mean_squared_error: 11.3635\n",
      "Epoch 63/75\n",
      "1096/1096 [==============================] - 0s 114us/step - loss: 0.0668 - mean_absolute_percentage_error: 23.8358 - mean_squared_error: 11.4716\n",
      "Epoch 64/75\n",
      "1096/1096 [==============================] - 0s 115us/step - loss: 0.0665 - mean_absolute_percentage_error: 23.8970 - mean_squared_error: 11.4194\n",
      "Epoch 65/75\n",
      "1096/1096 [==============================] - 0s 114us/step - loss: 0.0666 - mean_absolute_percentage_error: 23.9962 - mean_squared_error: 11.3103\n",
      "Epoch 66/75\n",
      "1096/1096 [==============================] - 0s 117us/step - loss: 0.0664 - mean_absolute_percentage_error: 23.9010 - mean_squared_error: 11.3902\n",
      "Epoch 67/75\n",
      "1096/1096 [==============================] - 0s 114us/step - loss: 0.0664 - mean_absolute_percentage_error: 24.0279 - mean_squared_error: 11.3643\n",
      "Epoch 68/75\n",
      "1096/1096 [==============================] - 0s 112us/step - loss: 0.0665 - mean_absolute_percentage_error: 23.8715 - mean_squared_error: 11.3995\n",
      "Epoch 69/75\n",
      "1096/1096 [==============================] - 0s 112us/step - loss: 0.0664 - mean_absolute_percentage_error: 23.9088 - mean_squared_error: 11.3806\n",
      "Epoch 70/75\n",
      "1096/1096 [==============================] - 0s 114us/step - loss: 0.0664 - mean_absolute_percentage_error: 23.8954 - mean_squared_error: 11.3863\n",
      "Epoch 71/75\n",
      "1096/1096 [==============================] - 0s 113us/step - loss: 0.0665 - mean_absolute_percentage_error: 23.8729 - mean_squared_error: 11.3680\n",
      "Epoch 72/75\n",
      "1096/1096 [==============================] - 0s 114us/step - loss: 0.0663 - mean_absolute_percentage_error: 23.8373 - mean_squared_error: 11.3746\n",
      "Epoch 73/75\n",
      "1096/1096 [==============================] - 0s 114us/step - loss: 0.0661 - mean_absolute_percentage_error: 23.9282 - mean_squared_error: 11.3575\n",
      "Epoch 74/75\n",
      "1096/1096 [==============================] - 0s 116us/step - loss: 0.0663 - mean_absolute_percentage_error: 24.0320 - mean_squared_error: 11.2740\n",
      "Epoch 75/75\n",
      "1096/1096 [==============================] - 0s 122us/step - loss: 0.0664 - mean_absolute_percentage_error: 23.8905 - mean_squared_error: 11.3711\n"
     ]
    }
   ],
   "source": [
    "# fit the model to the data\n",
    "history1 = model1.fit(x_train,y_train,epochs=75,batch_size=10)"
   ]
  },
  {
   "cell_type": "code",
   "execution_count": 14,
   "metadata": {},
   "outputs": [
    {
     "data": {
      "image/png": "[encoded data removed]",
      "text/plain": [
       "<matplotlib.figure.Figure at 0x1e917b18630>"
      ]
     },
     "metadata": {},
     "output_type": "display_data"
    }
   ],
   "source": [
    "# plot the metrics vs epoch number\n",
    "\n",
    "fig1,ax1 = plt.subplots(1,1,figsize=(6,5))\n",
    "ax1.plot(history1.history['mean_absolute_percentage_error'],color='green')\n",
    "ax1.set_xlabel('Epoch')\n",
    "ax1.set_ylabel('Mean absolute percentage error',color='green')\n",
    "ax1.tick_params(axis='y', labelcolor='green')\n",
    "\n",
    "ax1_ = ax1.twinx()\n",
    "ax1_.plot(history1.history['mean_squared_error'],color='blue')\n",
    "ax1_.set_ylabel('Mean squared error',color='blue')\n",
    "ax1_.tick_params(axis='y', labelcolor='blue')\n",
    "plt.show()"
   ]
  },
  {
   "cell_type": "code",
   "execution_count": 15,
   "metadata": {},
   "outputs": [],
   "source": [
    "# use the model to make predictions\n",
    "predictions1 = model1.predict(x_test)"
   ]
  },
  {
   "cell_type": "code",
   "execution_count": 16,
   "metadata": {},
   "outputs": [
    {
     "data": {
      "image/png": "[encoded data removed]",
      "text/plain": [
       "<matplotlib.figure.Figure at 0x1e917b182b0>"
      ]
     },
     "metadata": {},
     "output_type": "display_data"
    }
   ],
   "source": [
    "# plot predictions vs true values\n",
    "fig2,ax2 = plt.subplots(1,1,figsize=(5,5))\n",
    "ax2.scatter(y_test,predictions1,marker='.')\n",
    "x = np.linspace(0,35)\n",
    "ax2.plot(x,x,color='r')\n",
    "ax2.set_xlabel('True muon signal (VEM)')\n",
    "ax2.set_ylabel('Predicted muon signal (VEM)')\n",
    "fig2.suptitle(r'$log_{10}(\\ E\\ ) \\in (16.0,16.5),\\quad cos(\\theta) > 0.9$')\n",
    "plt.show()"
   ]
  },
  {
   "cell_type": "code",
   "execution_count": 18,
   "metadata": {},
   "outputs": [
    {
     "data": {
      "image/png": "[encoded data removed]",
      "text/plain": [
       "<matplotlib.figure.Figure at 0x1e919166208>"
      ]
     },
     "metadata": {},
     "output_type": "display_data"
    }
   ],
   "source": [
    "# Plot residuals\n",
    "fig3,ax3=plt.subplots(1,1,figsize=(6,5))\n",
    "residuals1 = [predictions1[i]-y_test[i] for i in range(len(y_test))]\n",
    "ax3.scatter(y_test,residuals1,marker='.')\n",
    "x = np.linspace(0,35)\n",
    "ax3.plot(x,0*x,color='black')\n",
    "ax3.set_xlim(0,35)\n",
    "ax3.set_ylabel('Residual')\n",
    "ax3.set_xlabel('True muon signal (VEM)')\n",
    "fig3.suptitle(\"Sum: {0:.3f}\".format(sum(residuals1)[0]))\n",
    "plt.show()"
   ]
  },
  {
   "cell_type": "code",
   "execution_count": null,
   "metadata": {},
   "outputs": [],
   "source": []
  }
 ],
 "metadata": {
  "kernelspec": {
   "display_name": "Python 3",
   "language": "python",
   "name": "python3"
  },
  "language_info": {
   "codemirror_mode": {
    "name": "ipython",
    "version": 3
   },
   "file_extension": ".py",
   "mimetype": "text/x-python",
   "name": "python",
   "nbconvert_exporter": "python",
   "pygments_lexer": "ipython3",
   "version": "3.6.4"
  }
 },
 "nbformat": 4,
 "nbformat_minor": 2
}
