{
 "cells": [
  {
   "cell_type": "markdown",
   "metadata": {},
   "source": [
    "## First attempt at making a neural network for IceTop muons"
   ]
  },
  {
   "cell_type": "code",
   "execution_count": 1,
   "metadata": {},
   "outputs": [
    {
     "name": "stderr",
     "output_type": "stream",
     "text": [
      "C:\\Users\\jfcre\\Anaconda3\\lib\\site-packages\\h5py\\__init__.py:36: FutureWarning: Conversion of the second argument of issubdtype from `float` to `np.floating` is deprecated. In future, it will be treated as `np.float64 == np.dtype(float).type`.\n",
      "  from ._conv import register_converters as _register_converters\n",
      "Using TensorFlow backend.\n"
     ]
    }
   ],
   "source": [
    "import numpy as np\n",
    "\n",
    "from sklearn.model_selection import train_test_split\n",
    "from sklearn.preprocessing import StandardScaler\n",
    "from keras.models import Sequential\n",
    "from keras.layers import Dense\n",
    "\n",
    "import matplotlib.pyplot as plt"
   ]
  },
  {
   "cell_type": "code",
   "execution_count": 2,
   "metadata": {},
   "outputs": [],
   "source": [
    "np.random.seed(11)"
   ]
  },
  {
   "cell_type": "code",
   "execution_count": 3,
   "metadata": {},
   "outputs": [],
   "source": [
    "# Columns: Run, E_proton, E_iron, Zen, Q400, MuonVEM, nMuon, Type\n",
    "# Note that right now, nMuon is useless\n",
    "data = np.load('./data/NN_data_400m.npy')"
   ]
  },
  {
   "cell_type": "code",
   "execution_count": 4,
   "metadata": {},
   "outputs": [],
   "source": [
    "# convert the python 2 bytes into python 3 format\n",
    "data_ = []\n",
    "for i in range(len(data)):\n",
    "    data_.append([])\n",
    "    for j in range(0,6):\n",
    "        data_[i].append(float(data[i,j]))\n",
    "data = np.array(data_)"
   ]
  },
  {
   "cell_type": "code",
   "execution_count": 5,
   "metadata": {},
   "outputs": [],
   "source": [
    "# look at data logE in (16.0,16.5) and cos(zenith) > 0.9\n",
    "data_ = []\n",
    "for shower in data:\n",
    "    E_proton = shower[1]\n",
    "    E_iron = shower[2]\n",
    "    E_avg = np.sqrt(E_proton*E_iron) # geometric mean\n",
    "    logE = np.log10(E_avg)\n",
    "    zen = shower[3]\n",
    "    if logE >= 16 and logE <= 16.5 and np.cos(zen) > 0.9:\n",
    "        data_.append(shower[1:])\n",
    "data_trimmed = np.array(data_)"
   ]
  },
  {
   "cell_type": "code",
   "execution_count": 6,
   "metadata": {},
   "outputs": [
    {
     "name": "stdout",
     "output_type": "stream",
     "text": [
      "1462\n"
     ]
    }
   ],
   "source": [
    "print(len(data_trimmed))"
   ]
  },
  {
   "cell_type": "code",
   "execution_count": 7,
   "metadata": {},
   "outputs": [],
   "source": [
    "# split into input and target\n",
    "X = data_trimmed[:,0:4]\n",
    "Y = data_trimmed[:,4]"
   ]
  },
  {
   "cell_type": "code",
   "execution_count": 8,
   "metadata": {},
   "outputs": [],
   "source": [
    "# split the data into test and training set\n",
    "x_train, x_test, y_train, y_test = train_test_split(X,Y)"
   ]
  },
  {
   "cell_type": "code",
   "execution_count": 9,
   "metadata": {},
   "outputs": [
    {
     "data": {
      "text/plain": [
       "StandardScaler(copy=True, with_mean=True, with_std=True)"
      ]
     },
     "execution_count": 9,
     "metadata": {},
     "output_type": "execute_result"
    }
   ],
   "source": [
    "# normalize the data because the network will be sensitive\n",
    "# to relative magnitudes\n",
    "scaler = StandardScaler()\n",
    "scaler.fit(x_train)"
   ]
  },
  {
   "cell_type": "code",
   "execution_count": 10,
   "metadata": {
    "scrolled": false
   },
   "outputs": [],
   "source": [
    "# apply the scaler to the sets\n",
    "x_train = scaler.transform(x_train)\n",
    "x_test  = scaler.transform(x_test)"
   ]
  },
  {
   "cell_type": "code",
   "execution_count": 11,
   "metadata": {},
   "outputs": [],
   "source": [
    "# create model\n",
    "model1 = Sequential()\n",
    "model1.add(Dense(4,input_dim=4,activation='relu'))\n",
    "model1.add(Dense(4,activation='relu'))\n",
    "model1.add(Dense(1,activation=None))"
   ]
  },
  {
   "cell_type": "code",
   "execution_count": 12,
   "metadata": {},
   "outputs": [],
   "source": [
    "# compile model\n",
    "# loss function: mean square log error\n",
    "# metric: mean absolute percentage error\n",
    "model1.compile(loss='msle',optimizer='adam',metrics=['mape','mse'])"
   ]
  },
  {
   "cell_type": "code",
   "execution_count": 13,
   "metadata": {
    "scrolled": true
   },
   "outputs": [
    {
     "name": "stdout",
     "output_type": "stream",
     "text": [
      "Epoch 1/75\n",
      "1096/1096 [==============================] - 1s 480us/step - loss: 4.6072 - mean_absolute_percentage_error: 94.4316 - mean_squared_error: 170.4008\n",
      "Epoch 2/75\n",
      "1096/1096 [==============================] - 0s 189us/step - loss: 3.2491 - mean_absolute_percentage_error: 86.3210 - mean_squared_error: 156.3557\n",
      "Epoch 3/75\n",
      "1096/1096 [==============================] - 0s 182us/step - loss: 2.1674 - mean_absolute_percentage_error: 77.6213 - mean_squared_error: 138.5814\n",
      "Epoch 4/75\n",
      "1096/1096 [==============================] - 0s 180us/step - loss: 1.5016 - mean_absolute_percentage_error: 72.6979 - mean_squared_error: 121.1259\n",
      "Epoch 5/75\n",
      "1096/1096 [==============================] - 0s 172us/step - loss: 1.0111 - mean_absolute_percentage_error: 69.4762 - mean_squared_error: 101.3104\n",
      "Epoch 6/75\n",
      "1096/1096 [==============================] - 0s 183us/step - loss: 0.6846 - mean_absolute_percentage_error: 66.5971 - mean_squared_error: 81.6808\n",
      "Epoch 7/75\n",
      "1096/1096 [==============================] - 0s 176us/step - loss: 0.5030 - mean_absolute_percentage_error: 64.7347 - mean_squared_error: 66.7526\n",
      "Epoch 8/75\n",
      "1096/1096 [==============================] - 0s 173us/step - loss: 0.3872 - mean_absolute_percentage_error: 61.2626 - mean_squared_error: 53.9882\n",
      "Epoch 9/75\n",
      "1096/1096 [==============================] - 0s 176us/step - loss: 0.3091 - mean_absolute_percentage_error: 57.4408 - mean_squared_error: 43.6511\n",
      "Epoch 10/75\n",
      "1096/1096 [==============================] - 0s 192us/step - loss: 0.2551 - mean_absolute_percentage_error: 53.1069 - mean_squared_error: 35.8788\n",
      "Epoch 11/75\n",
      "1096/1096 [==============================] - 0s 184us/step - loss: 0.2172 - mean_absolute_percentage_error: 48.9619 - mean_squared_error: 30.3673\n",
      "Epoch 12/75\n",
      "1096/1096 [==============================] - 0s 196us/step - loss: 0.1891 - mean_absolute_percentage_error: 45.4433 - mean_squared_error: 26.3954\n",
      "Epoch 13/75\n",
      "1096/1096 [==============================] - 0s 174us/step - loss: 0.1675 - mean_absolute_percentage_error: 42.4593 - mean_squared_error: 23.4837\n",
      "Epoch 14/75\n",
      "1096/1096 [==============================] - 0s 174us/step - loss: 0.1500 - mean_absolute_percentage_error: 39.7232 - mean_squared_error: 21.2771\n",
      "Epoch 15/75\n",
      "1096/1096 [==============================] - 0s 171us/step - loss: 0.1359 - mean_absolute_percentage_error: 37.1468 - mean_squared_error: 19.6552\n",
      "Epoch 16/75\n",
      "1096/1096 [==============================] - 0s 191us/step - loss: 0.1240 - mean_absolute_percentage_error: 34.8682 - mean_squared_error: 18.3117\n",
      "Epoch 17/75\n",
      "1096/1096 [==============================] - 0s 176us/step - loss: 0.1142 - mean_absolute_percentage_error: 33.0635 - mean_squared_error: 17.0799\n",
      "Epoch 18/75\n",
      "1096/1096 [==============================] - 0s 173us/step - loss: 0.1058 - mean_absolute_percentage_error: 31.7540 - mean_squared_error: 16.0376\n",
      "Epoch 19/75\n",
      "1096/1096 [==============================] - 0s 185us/step - loss: 0.0993 - mean_absolute_percentage_error: 30.1597 - mean_squared_error: 15.2897\n",
      "Epoch 20/75\n",
      "1096/1096 [==============================] - 0s 173us/step - loss: 0.0941 - mean_absolute_percentage_error: 29.4055 - mean_squared_error: 14.5588\n",
      "Epoch 21/75\n",
      "1096/1096 [==============================] - 0s 177us/step - loss: 0.0900 - mean_absolute_percentage_error: 28.2501 - mean_squared_error: 14.1145\n",
      "Epoch 22/75\n",
      "1096/1096 [==============================] - 0s 179us/step - loss: 0.0868 - mean_absolute_percentage_error: 27.6750 - mean_squared_error: 13.6987\n",
      "Epoch 23/75\n",
      "1096/1096 [==============================] - 0s 174us/step - loss: 0.0843 - mean_absolute_percentage_error: 27.2628 - mean_squared_error: 13.3392\n",
      "Epoch 24/75\n",
      "1096/1096 [==============================] - 0s 172us/step - loss: 0.0822 - mean_absolute_percentage_error: 26.9388 - mean_squared_error: 13.0733\n",
      "Epoch 25/75\n",
      "1096/1096 [==============================] - 0s 172us/step - loss: 0.0806 - mean_absolute_percentage_error: 26.6467 - mean_squared_error: 12.8635\n",
      "Epoch 26/75\n",
      "1096/1096 [==============================] - 0s 186us/step - loss: 0.0787 - mean_absolute_percentage_error: 26.0954 - mean_squared_error: 12.6692\n",
      "Epoch 27/75\n",
      "1096/1096 [==============================] - 0s 171us/step - loss: 0.0777 - mean_absolute_percentage_error: 26.2041 - mean_squared_error: 12.4875\n",
      "Epoch 28/75\n",
      "1096/1096 [==============================] - 0s 175us/step - loss: 0.0766 - mean_absolute_percentage_error: 25.7665 - mean_squared_error: 12.4190\n",
      "Epoch 29/75\n",
      "1096/1096 [==============================] - 0s 169us/step - loss: 0.0755 - mean_absolute_percentage_error: 25.5385 - mean_squared_error: 12.2560\n",
      "Epoch 30/75\n",
      "1096/1096 [==============================] - 0s 170us/step - loss: 0.0750 - mean_absolute_percentage_error: 25.6672 - mean_squared_error: 12.2217\n",
      "Epoch 31/75\n",
      "1096/1096 [==============================] - 0s 184us/step - loss: 0.0741 - mean_absolute_percentage_error: 25.3896 - mean_squared_error: 12.1175\n",
      "Epoch 32/75\n",
      "1096/1096 [==============================] - 0s 169us/step - loss: 0.0732 - mean_absolute_percentage_error: 25.3130 - mean_squared_error: 12.0606\n",
      "Epoch 33/75\n",
      "1096/1096 [==============================] - 0s 169us/step - loss: 0.0725 - mean_absolute_percentage_error: 25.2416 - mean_squared_error: 11.8769\n",
      "Epoch 34/75\n",
      "1096/1096 [==============================] - 0s 175us/step - loss: 0.0718 - mean_absolute_percentage_error: 24.8688 - mean_squared_error: 11.9067\n",
      "Epoch 35/75\n",
      "1096/1096 [==============================] - 0s 177us/step - loss: 0.0712 - mean_absolute_percentage_error: 25.0590 - mean_squared_error: 11.7649\n",
      "Epoch 36/75\n",
      "1096/1096 [==============================] - 0s 181us/step - loss: 0.0709 - mean_absolute_percentage_error: 24.8123 - mean_squared_error: 11.8175\n",
      "Epoch 37/75\n",
      "1096/1096 [==============================] - 0s 171us/step - loss: 0.0704 - mean_absolute_percentage_error: 24.9095 - mean_squared_error: 11.6641\n",
      "Epoch 38/75\n",
      "1096/1096 [==============================] - 0s 174us/step - loss: 0.0700 - mean_absolute_percentage_error: 24.6404 - mean_squared_error: 11.6391\n",
      "Epoch 39/75\n",
      "1096/1096 [==============================] - 0s 179us/step - loss: 0.0695 - mean_absolute_percentage_error: 24.5792 - mean_squared_error: 11.7047\n",
      "Epoch 40/75\n",
      "1096/1096 [==============================] - 0s 171us/step - loss: 0.0691 - mean_absolute_percentage_error: 24.6284 - mean_squared_error: 11.5026\n",
      "Epoch 41/75\n",
      "1096/1096 [==============================] - 0s 175us/step - loss: 0.0687 - mean_absolute_percentage_error: 24.4863 - mean_squared_error: 11.5954\n",
      "Epoch 42/75\n",
      "1096/1096 [==============================] - 0s 198us/step - loss: 0.0687 - mean_absolute_percentage_error: 24.5508 - mean_squared_error: 11.4359\n",
      "Epoch 43/75\n",
      "1096/1096 [==============================] - 0s 173us/step - loss: 0.0685 - mean_absolute_percentage_error: 24.2781 - mean_squared_error: 11.6017\n",
      "Epoch 44/75\n",
      "1096/1096 [==============================] - 0s 174us/step - loss: 0.0685 - mean_absolute_percentage_error: 24.5516 - mean_squared_error: 11.4905\n",
      "Epoch 45/75\n",
      "1096/1096 [==============================] - 0s 175us/step - loss: 0.0680 - mean_absolute_percentage_error: 24.2852 - mean_squared_error: 11.5285\n",
      "Epoch 46/75\n",
      "1096/1096 [==============================] - 0s 176us/step - loss: 0.0680 - mean_absolute_percentage_error: 24.1788 - mean_squared_error: 11.5264\n",
      "Epoch 47/75\n",
      "1096/1096 [==============================] - 0s 184us/step - loss: 0.0677 - mean_absolute_percentage_error: 24.3796 - mean_squared_error: 11.4528\n",
      "Epoch 48/75\n",
      "1096/1096 [==============================] - 0s 172us/step - loss: 0.0677 - mean_absolute_percentage_error: 24.2878 - mean_squared_error: 11.4324\n",
      "Epoch 49/75\n",
      "1096/1096 [==============================] - 0s 175us/step - loss: 0.0676 - mean_absolute_percentage_error: 24.0617 - mean_squared_error: 11.5206\n",
      "Epoch 50/75\n",
      "1096/1096 [==============================] - 0s 177us/step - loss: 0.0674 - mean_absolute_percentage_error: 24.0397 - mean_squared_error: 11.4815\n",
      "Epoch 51/75\n",
      "1096/1096 [==============================] - 0s 174us/step - loss: 0.0671 - mean_absolute_percentage_error: 24.3787 - mean_squared_error: 11.3061\n",
      "Epoch 52/75\n"
     ]
    },
    {
     "name": "stdout",
     "output_type": "stream",
     "text": [
      "1096/1096 [==============================] - 0s 177us/step - loss: 0.0673 - mean_absolute_percentage_error: 23.9238 - mean_squared_error: 11.4734\n",
      "Epoch 53/75\n",
      "1096/1096 [==============================] - 0s 176us/step - loss: 0.0672 - mean_absolute_percentage_error: 24.2197 - mean_squared_error: 11.4119\n",
      "Epoch 54/75\n",
      "1096/1096 [==============================] - 0s 181us/step - loss: 0.0672 - mean_absolute_percentage_error: 23.9010 - mean_squared_error: 11.5096\n",
      "Epoch 55/75\n",
      "1096/1096 [==============================] - 0s 186us/step - loss: 0.0671 - mean_absolute_percentage_error: 24.1467 - mean_squared_error: 11.3469\n",
      "Epoch 56/75\n",
      "1096/1096 [==============================] - 0s 202us/step - loss: 0.0670 - mean_absolute_percentage_error: 23.9859 - mean_squared_error: 11.4495\n",
      "Epoch 57/75\n",
      "1096/1096 [==============================] - 0s 185us/step - loss: 0.0669 - mean_absolute_percentage_error: 23.9133 - mean_squared_error: 11.4065\n",
      "Epoch 58/75\n",
      "1096/1096 [==============================] - 0s 179us/step - loss: 0.0669 - mean_absolute_percentage_error: 24.1008 - mean_squared_error: 11.3752\n",
      "Epoch 59/75\n",
      "1096/1096 [==============================] - 0s 175us/step - loss: 0.0670 - mean_absolute_percentage_error: 23.9383 - mean_squared_error: 11.3976\n",
      "Epoch 60/75\n",
      "1096/1096 [==============================] - 0s 174us/step - loss: 0.0667 - mean_absolute_percentage_error: 24.0502 - mean_squared_error: 11.3678\n",
      "Epoch 61/75\n",
      "1096/1096 [==============================] - 0s 175us/step - loss: 0.0667 - mean_absolute_percentage_error: 24.1209 - mean_squared_error: 11.3491\n",
      "Epoch 62/75\n",
      "1096/1096 [==============================] - 0s 176us/step - loss: 0.0667 - mean_absolute_percentage_error: 24.0018 - mean_squared_error: 11.3639\n",
      "Epoch 63/75\n",
      "1096/1096 [==============================] - 0s 174us/step - loss: 0.0668 - mean_absolute_percentage_error: 23.8351 - mean_squared_error: 11.4717\n",
      "Epoch 64/75\n",
      "1096/1096 [==============================] - 0s 173us/step - loss: 0.0665 - mean_absolute_percentage_error: 23.8963 - mean_squared_error: 11.4194\n",
      "Epoch 65/75\n",
      "1096/1096 [==============================] - 0s 174us/step - loss: 0.0666 - mean_absolute_percentage_error: 24.0014 - mean_squared_error: 11.3107\n",
      "Epoch 66/75\n",
      "1096/1096 [==============================] - 0s 172us/step - loss: 0.0664 - mean_absolute_percentage_error: 23.9065 - mean_squared_error: 11.3921\n",
      "Epoch 67/75\n",
      "1096/1096 [==============================] - 0s 181us/step - loss: 0.0664 - mean_absolute_percentage_error: 24.0263 - mean_squared_error: 11.3673\n",
      "Epoch 68/75\n",
      "1096/1096 [==============================] - 0s 177us/step - loss: 0.0665 - mean_absolute_percentage_error: 23.8715 - mean_squared_error: 11.3996\n",
      "Epoch 69/75\n",
      "1096/1096 [==============================] - 0s 174us/step - loss: 0.0664 - mean_absolute_percentage_error: 23.9024 - mean_squared_error: 11.3805\n",
      "Epoch 70/75\n",
      "1096/1096 [==============================] - 0s 173us/step - loss: 0.0664 - mean_absolute_percentage_error: 23.8879 - mean_squared_error: 11.3853\n",
      "Epoch 71/75\n",
      "1096/1096 [==============================] - 0s 175us/step - loss: 0.0665 - mean_absolute_percentage_error: 23.8727 - mean_squared_error: 11.3679\n",
      "Epoch 72/75\n",
      "1096/1096 [==============================] - 0s 175us/step - loss: 0.0663 - mean_absolute_percentage_error: 23.8342 - mean_squared_error: 11.3751\n",
      "Epoch 73/75\n",
      "1096/1096 [==============================] - 0s 171us/step - loss: 0.0661 - mean_absolute_percentage_error: 23.9302 - mean_squared_error: 11.3576\n",
      "Epoch 74/75\n",
      "1096/1096 [==============================] - 0s 177us/step - loss: 0.0663 - mean_absolute_percentage_error: 24.0338 - mean_squared_error: 11.2743\n",
      "Epoch 75/75\n",
      "1096/1096 [==============================] - 0s 172us/step - loss: 0.0664 - mean_absolute_percentage_error: 23.9069 - mean_squared_error: 11.3711\n"
     ]
    }
   ],
   "source": [
    "# fit the model to the data\n",
    "history1 = model1.fit(x_train,y_train,epochs=75,batch_size=10)"
   ]
  },
  {
   "cell_type": "code",
   "execution_count": 14,
   "metadata": {},
   "outputs": [
    {
     "data": {
      "image/png": "[encoded data removed]",
      "text/plain": [
       "<matplotlib.figure.Figure at 0x1f768008630>"
      ]
     },
     "metadata": {},
     "output_type": "display_data"
    }
   ],
   "source": [
    "# plot the metrics vs epoch number\n",
    "\n",
    "fig1,ax1 = plt.subplots(1,1,figsize=(6,5))\n",
    "ax1.plot(history1.history['mean_absolute_percentage_error'],color='green')\n",
    "ax1.set_xlabel('Epoch')\n",
    "ax1.set_ylabel('Mean absolute percentage error',color='green')\n",
    "ax1.tick_params(axis='y', labelcolor='green')\n",
    "\n",
    "ax1_ = ax1.twinx()\n",
    "ax1_.plot(history1.history['mean_squared_error'],color='blue')\n",
    "ax1_.set_ylabel('Mean squared error',color='blue')\n",
    "ax1_.tick_params(axis='y', labelcolor='blue')\n",
    "plt.show()"
   ]
  },
  {
   "cell_type": "code",
   "execution_count": 15,
   "metadata": {},
   "outputs": [],
   "source": [
    "# use the model to make predictions\n",
    "predictions1 = model1.predict(x_test)"
   ]
  },
  {
   "cell_type": "code",
   "execution_count": 16,
   "metadata": {},
   "outputs": [
    {
     "data": {
      "image/png": "[encoded data removed]",
      "text/plain": [
       "<matplotlib.figure.Figure at 0x1f767fff048>"
      ]
     },
     "metadata": {},
     "output_type": "display_data"
    }
   ],
   "source": [
    "# plot predictions vs true values\n",
    "fig2,ax2 = plt.subplots(1,1,figsize=(5,5))\n",
    "ax2.scatter(y_test,predictions1,marker='.')\n",
    "x = np.linspace(0,35)\n",
    "ax2.plot(x,x,color='r')\n",
    "ax2.set_xlabel('True muon PEs')\n",
    "ax2.set_ylabel('Predicted muon PEs')\n",
    "fig2.suptitle(r'$log_{10}(\\ E\\ ) \\in (16.0,16.5),\\quad cos(\\theta) > 0.9$')\n",
    "plt.show()"
   ]
  },
  {
   "cell_type": "code",
   "execution_count": 17,
   "metadata": {},
   "outputs": [
    {
     "data": {
      "image/png": "[encoded data removed]",
      "text/plain": [
       "<matplotlib.figure.Figure at 0x1f767e9fb38>"
      ]
     },
     "metadata": {},
     "output_type": "display_data"
    }
   ],
   "source": [
    "# Plot residuals\n",
    "fig3,ax3=plt.subplots(1,1,figsize=(6,5))\n",
    "residuals1 = [predictions1[i]-y_test[i] for i in range(len(y_test))]\n",
    "ax3.scatter(y_test,residuals1,marker='.')\n",
    "x = np.linspace(0,35)\n",
    "ax3.plot(x,0*x,color='black')\n",
    "ax3.set_xlim(0,35)\n",
    "ax3.set_ylabel('Residual')\n",
    "ax3.set_xlabel('True muon PEs')\n",
    "fig3.suptitle(\"Sum: {0:.3f}\".format(sum(residuals1)[0]))\n",
    "plt.show()"
   ]
  },
  {
   "cell_type": "code",
   "execution_count": null,
   "metadata": {},
   "outputs": [],
   "source": []
  }
 ],
 "metadata": {
  "kernelspec": {
   "display_name": "Python 3",
   "language": "python",
   "name": "python3"
  },
  "language_info": {
   "codemirror_mode": {
    "name": "ipython",
    "version": 3
   },
   "file_extension": ".py",
   "mimetype": "text/x-python",
   "name": "python",
   "nbconvert_exporter": "python",
   "pygments_lexer": "ipython3",
   "version": "3.6.4"
  }
 },
 "nbformat": 4,
 "nbformat_minor": 2
}
