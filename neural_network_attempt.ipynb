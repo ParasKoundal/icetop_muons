{
 "cells": [
  {
   "cell_type": "markdown",
   "metadata": {},
   "source": [
    "## First attempt at making a neural network for IceTop muons"
   ]
  },
  {
   "cell_type": "code",
   "execution_count": 1,
   "metadata": {},
   "outputs": [
    {
     "name": "stderr",
     "output_type": "stream",
     "text": [
      "C:\\Users\\jfcre\\Anaconda3\\lib\\site-packages\\h5py\\__init__.py:36: FutureWarning: Conversion of the second argument of issubdtype from `float` to `np.floating` is deprecated. In future, it will be treated as `np.float64 == np.dtype(float).type`.\n",
      "  from ._conv import register_converters as _register_converters\n",
      "Using TensorFlow backend.\n"
     ]
    }
   ],
   "source": [
    "import numpy as np\n",
    "\n",
    "from sklearn.model_selection import train_test_split\n",
    "from sklearn.preprocessing import StandardScaler\n",
    "from keras.models import Sequential\n",
    "from keras.layers import Dense\n",
    "\n",
    "import matplotlib.pyplot as plt"
   ]
  },
  {
   "cell_type": "code",
   "execution_count": 2,
   "metadata": {},
   "outputs": [],
   "source": [
    "np.random.seed(11)"
   ]
  },
  {
   "cell_type": "code",
   "execution_count": 3,
   "metadata": {},
   "outputs": [],
   "source": [
    "# Columns: E_proton, E_iron, Zen, Q400, MuonVEM, nMuon, Type\n",
    "# Note that right now, nMuon is useless\n",
    "data = np.load('./data/NN_data_400m.npy')"
   ]
  },
  {
   "cell_type": "code",
   "execution_count": 4,
   "metadata": {},
   "outputs": [],
   "source": [
    "# convert the python 2 bytes into python 3 format\n",
    "data_ = []\n",
    "for i in range(len(data)):\n",
    "    data_.append([])\n",
    "    for j in range(0,6):\n",
    "        data_[i].append(float(data[i,j]))\n",
    "data = np.array(data_)"
   ]
  },
  {
   "cell_type": "code",
   "execution_count": 5,
   "metadata": {},
   "outputs": [],
   "source": [
    "# look at data logE in (16.0,16.5) and cos(zenith) > 0.9\n",
    "data_ = []\n",
    "for shower in data:\n",
    "    E_proton = shower[0]\n",
    "    E_iron = shower[1]\n",
    "    E_avg = np.sqrt(E_proton*E_iron) # geometric mean\n",
    "    logE = np.log10(E_avg)\n",
    "    zen = shower[2]\n",
    "    if logE >= 16 and logE <= 16.5 and np.cos(zen) > 0.9:\n",
    "        data_.append(shower)\n",
    "data_ = np.array(data_)"
   ]
  },
  {
   "cell_type": "code",
   "execution_count": 6,
   "metadata": {},
   "outputs": [
    {
     "name": "stdout",
     "output_type": "stream",
     "text": [
      "1462\n"
     ]
    }
   ],
   "source": [
    "print(len(data_))"
   ]
  },
  {
   "cell_type": "code",
   "execution_count": 7,
   "metadata": {},
   "outputs": [],
   "source": [
    "# split into input and target\n",
    "X = data_[:,0:4]\n",
    "Y = data_[:,4]"
   ]
  },
  {
   "cell_type": "code",
   "execution_count": 8,
   "metadata": {},
   "outputs": [],
   "source": [
    "# split the data into test and training set\n",
    "x_train, x_test, y_train, y_test = train_test_split(X,Y)"
   ]
  },
  {
   "cell_type": "code",
   "execution_count": 9,
   "metadata": {},
   "outputs": [
    {
     "data": {
      "text/plain": [
       "StandardScaler(copy=True, with_mean=True, with_std=True)"
      ]
     },
     "execution_count": 9,
     "metadata": {},
     "output_type": "execute_result"
    }
   ],
   "source": [
    "# normalize the data because the network will be sensitive\n",
    "# to relative magnitudes\n",
    "scaler = StandardScaler()\n",
    "scaler.fit(x_train)"
   ]
  },
  {
   "cell_type": "code",
   "execution_count": 10,
   "metadata": {
    "scrolled": false
   },
   "outputs": [],
   "source": [
    "# apply the scaler to the sets\n",
    "x_train = scaler.transform(x_train)\n",
    "x_test  = scaler.transform(x_test)"
   ]
  },
  {
   "cell_type": "code",
   "execution_count": 11,
   "metadata": {},
   "outputs": [],
   "source": [
    "# create model\n",
    "model1 = Sequential()\n",
    "model1.add(Dense(4,input_dim=4,activation='relu'))\n",
    "model1.add(Dense(4,activation='relu'))\n",
    "model1.add(Dense(1,activation=None))"
   ]
  },
  {
   "cell_type": "code",
   "execution_count": 12,
   "metadata": {},
   "outputs": [],
   "source": [
    "# compile model\n",
    "# loss function: mean square log error\n",
    "# metric: mean absolute percentage error\n",
    "model1.compile(loss='msle',optimizer='adam',metrics=['mape','mse'])"
   ]
  },
  {
   "cell_type": "code",
   "execution_count": 13,
   "metadata": {
    "scrolled": true
   },
   "outputs": [
    {
     "name": "stdout",
     "output_type": "stream",
     "text": [
      "Epoch 1/60\n",
      "1096/1096 [==============================] - 1s 661us/step - loss: 4.6072 - mean_absolute_percentage_error: 94.4316 - mean_squared_error: 170.4008\n",
      "Epoch 2/60\n",
      "1096/1096 [==============================] - 0s 316us/step - loss: 3.2495 - mean_absolute_percentage_error: 86.3243 - mean_squared_error: 156.3609\n",
      "Epoch 3/60\n",
      "1096/1096 [==============================] - 0s 182us/step - loss: 2.1678 - mean_absolute_percentage_error: 77.6242 - mean_squared_error: 138.5896\n",
      "Epoch 4/60\n",
      "1096/1096 [==============================] - 0s 182us/step - loss: 1.5018 - mean_absolute_percentage_error: 72.6997 - mean_squared_error: 121.1345\n",
      "Epoch 5/60\n",
      "1096/1096 [==============================] - 0s 173us/step - loss: 1.0113 - mean_absolute_percentage_error: 69.4772 - mean_squared_error: 101.3189\n",
      "Epoch 6/60\n",
      "1096/1096 [==============================] - 0s 192us/step - loss: 0.6847 - mean_absolute_percentage_error: 66.5992 - mean_squared_error: 81.6897\n",
      "Epoch 7/60\n",
      "1096/1096 [==============================] - 0s 173us/step - loss: 0.5031 - mean_absolute_percentage_error: 64.7449 - mean_squared_error: 66.7641\n",
      "Epoch 8/60\n",
      "1096/1096 [==============================] - 0s 185us/step - loss: 0.3873 - mean_absolute_percentage_error: 61.2711 - mean_squared_error: 53.9974\n",
      "Epoch 9/60\n",
      "1096/1096 [==============================] - 0s 177us/step - loss: 0.3092 - mean_absolute_percentage_error: 57.4481 - mean_squared_error: 43.6578\n",
      "Epoch 10/60\n",
      "1096/1096 [==============================] - 0s 176us/step - loss: 0.2552 - mean_absolute_percentage_error: 53.1167 - mean_squared_error: 35.8849\n",
      "Epoch 11/60\n",
      "1096/1096 [==============================] - 0s 177us/step - loss: 0.2173 - mean_absolute_percentage_error: 48.9771 - mean_squared_error: 30.3740\n",
      "Epoch 12/60\n",
      "1096/1096 [==============================] - 0s 173us/step - loss: 0.1891 - mean_absolute_percentage_error: 45.4544 - mean_squared_error: 26.3995\n",
      "Epoch 13/60\n",
      "1096/1096 [==============================] - 0s 174us/step - loss: 0.1675 - mean_absolute_percentage_error: 42.4650 - mean_squared_error: 23.4839\n",
      "Epoch 14/60\n",
      "1096/1096 [==============================] - 0s 172us/step - loss: 0.1501 - mean_absolute_percentage_error: 39.7248 - mean_squared_error: 21.2758\n",
      "Epoch 15/60\n",
      "1096/1096 [==============================] - 0s 173us/step - loss: 0.1359 - mean_absolute_percentage_error: 37.1479 - mean_squared_error: 19.6537\n",
      "Epoch 16/60\n",
      "1096/1096 [==============================] - 0s 175us/step - loss: 0.1240 - mean_absolute_percentage_error: 34.8727 - mean_squared_error: 18.3102\n",
      "Epoch 17/60\n",
      "1096/1096 [==============================] - 0s 179us/step - loss: 0.1142 - mean_absolute_percentage_error: 33.0663 - mean_squared_error: 17.0790\n",
      "Epoch 18/60\n",
      "1096/1096 [==============================] - 0s 177us/step - loss: 0.1058 - mean_absolute_percentage_error: 31.7557 - mean_squared_error: 16.0368\n",
      "Epoch 19/60\n",
      "1096/1096 [==============================] - 0s 175us/step - loss: 0.0993 - mean_absolute_percentage_error: 30.1608 - mean_squared_error: 15.2891\n",
      "Epoch 20/60\n",
      "1096/1096 [==============================] - 0s 195us/step - loss: 0.0941 - mean_absolute_percentage_error: 29.4061 - mean_squared_error: 14.5582\n",
      "Epoch 21/60\n",
      "1096/1096 [==============================] - 0s 152us/step - loss: 0.0900 - mean_absolute_percentage_error: 28.2501 - mean_squared_error: 14.1139\n",
      "Epoch 22/60\n",
      "1096/1096 [==============================] - 0s 169us/step - loss: 0.0868 - mean_absolute_percentage_error: 27.6751 - mean_squared_error: 13.6979\n",
      "Epoch 23/60\n",
      "1096/1096 [==============================] - 0s 176us/step - loss: 0.0843 - mean_absolute_percentage_error: 27.2629 - mean_squared_error: 13.3386\n",
      "Epoch 24/60\n",
      "1096/1096 [==============================] - 0s 157us/step - loss: 0.0822 - mean_absolute_percentage_error: 26.9390 - mean_squared_error: 13.0735\n",
      "Epoch 25/60\n",
      "1096/1096 [==============================] - 0s 161us/step - loss: 0.0806 - mean_absolute_percentage_error: 26.6462 - mean_squared_error: 12.8637\n",
      "Epoch 26/60\n",
      "1096/1096 [==============================] - 0s 184us/step - loss: 0.0787 - mean_absolute_percentage_error: 26.0946 - mean_squared_error: 12.6695\n",
      "Epoch 27/60\n",
      "1096/1096 [==============================] - 0s 172us/step - loss: 0.0777 - mean_absolute_percentage_error: 26.2036 - mean_squared_error: 12.4876\n",
      "Epoch 28/60\n",
      "1096/1096 [==============================] - 0s 172us/step - loss: 0.0766 - mean_absolute_percentage_error: 25.7669 - mean_squared_error: 12.4181\n",
      "Epoch 29/60\n",
      "1096/1096 [==============================] - 0s 189us/step - loss: 0.0756 - mean_absolute_percentage_error: 25.5356 - mean_squared_error: 12.2544\n",
      "Epoch 30/60\n",
      "1096/1096 [==============================] - 0s 171us/step - loss: 0.0750 - mean_absolute_percentage_error: 25.6721 - mean_squared_error: 12.2214\n",
      "Epoch 31/60\n",
      "1096/1096 [==============================] - 0s 171us/step - loss: 0.0741 - mean_absolute_percentage_error: 25.3932 - mean_squared_error: 12.1214\n",
      "Epoch 32/60\n",
      "1096/1096 [==============================] - 0s 186us/step - loss: 0.0733 - mean_absolute_percentage_error: 25.3251 - mean_squared_error: 12.0692\n",
      "Epoch 33/60\n",
      "1096/1096 [==============================] - 0s 182us/step - loss: 0.0726 - mean_absolute_percentage_error: 25.2594 - mean_squared_error: 11.8841\n",
      "Epoch 34/60\n",
      "1096/1096 [==============================] - 0s 188us/step - loss: 0.0719 - mean_absolute_percentage_error: 24.8816 - mean_squared_error: 11.9116\n",
      "Epoch 35/60\n",
      "1096/1096 [==============================] - 0s 141us/step - loss: 0.0713 - mean_absolute_percentage_error: 25.0630 - mean_squared_error: 11.7711\n",
      "Epoch 36/60\n",
      "1096/1096 [==============================] - 0s 130us/step - loss: 0.0709 - mean_absolute_percentage_error: 24.8220 - mean_squared_error: 11.8199\n",
      "Epoch 37/60\n",
      "1096/1096 [==============================] - 0s 185us/step - loss: 0.0705 - mean_absolute_percentage_error: 24.9197 - mean_squared_error: 11.6668\n",
      "Epoch 38/60\n",
      "1096/1096 [==============================] - 0s 186us/step - loss: 0.0700 - mean_absolute_percentage_error: 24.6478 - mean_squared_error: 11.6415\n",
      "Epoch 39/60\n",
      "1096/1096 [==============================] - 0s 175us/step - loss: 0.0695 - mean_absolute_percentage_error: 24.5856 - mean_squared_error: 11.7074\n",
      "Epoch 40/60\n",
      "1096/1096 [==============================] - 0s 183us/step - loss: 0.0691 - mean_absolute_percentage_error: 24.6325 - mean_squared_error: 11.5043\n",
      "Epoch 41/60\n",
      "1096/1096 [==============================] - 0s 178us/step - loss: 0.0687 - mean_absolute_percentage_error: 24.4929 - mean_squared_error: 11.5967\n",
      "Epoch 42/60\n",
      "1096/1096 [==============================] - 0s 176us/step - loss: 0.0687 - mean_absolute_percentage_error: 24.5562 - mean_squared_error: 11.4372\n",
      "Epoch 43/60\n",
      "1096/1096 [==============================] - 0s 180us/step - loss: 0.0685 - mean_absolute_percentage_error: 24.2799 - mean_squared_error: 11.6034\n",
      "Epoch 44/60\n",
      "1096/1096 [==============================] - 0s 182us/step - loss: 0.0685 - mean_absolute_percentage_error: 24.5601 - mean_squared_error: 11.4915\n",
      "Epoch 45/60\n",
      "1096/1096 [==============================] - 0s 175us/step - loss: 0.0680 - mean_absolute_percentage_error: 24.2899 - mean_squared_error: 11.5298\n",
      "Epoch 46/60\n",
      "1096/1096 [==============================] - 0s 174us/step - loss: 0.0680 - mean_absolute_percentage_error: 24.1732 - mean_squared_error: 11.5251\n",
      "Epoch 47/60\n",
      "1096/1096 [==============================] - 0s 182us/step - loss: 0.0677 - mean_absolute_percentage_error: 24.3863 - mean_squared_error: 11.4533\n",
      "Epoch 48/60\n",
      "1096/1096 [==============================] - 0s 181us/step - loss: 0.0677 - mean_absolute_percentage_error: 24.2955 - mean_squared_error: 11.4333\n",
      "Epoch 49/60\n",
      "1096/1096 [==============================] - 0s 176us/step - loss: 0.0676 - mean_absolute_percentage_error: 24.0657 - mean_squared_error: 11.5212\n",
      "Epoch 50/60\n",
      "1096/1096 [==============================] - 0s 192us/step - loss: 0.0674 - mean_absolute_percentage_error: 24.0559 - mean_squared_error: 11.4832\n",
      "Epoch 51/60\n",
      "1096/1096 [==============================] - 0s 186us/step - loss: 0.0672 - mean_absolute_percentage_error: 24.3818 - mean_squared_error: 11.3071\n",
      "Epoch 52/60\n"
     ]
    },
    {
     "name": "stdout",
     "output_type": "stream",
     "text": [
      "1096/1096 [==============================] - 0s 181us/step - loss: 0.0673 - mean_absolute_percentage_error: 23.9272 - mean_squared_error: 11.4740\n",
      "Epoch 53/60\n",
      "1096/1096 [==============================] - 0s 176us/step - loss: 0.0672 - mean_absolute_percentage_error: 24.2220 - mean_squared_error: 11.4125\n",
      "Epoch 54/60\n",
      "1096/1096 [==============================] - 0s 191us/step - loss: 0.0672 - mean_absolute_percentage_error: 23.9029 - mean_squared_error: 11.5103\n",
      "Epoch 55/60\n",
      "1096/1096 [==============================] - 0s 173us/step - loss: 0.0671 - mean_absolute_percentage_error: 24.1551 - mean_squared_error: 11.3516\n",
      "Epoch 56/60\n",
      "1096/1096 [==============================] - 0s 192us/step - loss: 0.0670 - mean_absolute_percentage_error: 23.9841 - mean_squared_error: 11.4511\n",
      "Epoch 57/60\n",
      "1096/1096 [==============================] - 0s 177us/step - loss: 0.0669 - mean_absolute_percentage_error: 23.9187 - mean_squared_error: 11.4072\n",
      "Epoch 58/60\n",
      "1096/1096 [==============================] - 0s 193us/step - loss: 0.0669 - mean_absolute_percentage_error: 24.0889 - mean_squared_error: 11.3761\n",
      "Epoch 59/60\n",
      "1096/1096 [==============================] - 0s 172us/step - loss: 0.0670 - mean_absolute_percentage_error: 23.9408 - mean_squared_error: 11.3992\n",
      "Epoch 60/60\n",
      "1096/1096 [==============================] - 0s 185us/step - loss: 0.0667 - mean_absolute_percentage_error: 24.0499 - mean_squared_error: 11.3680\n"
     ]
    }
   ],
   "source": [
    "# fit the model to the data\n",
    "history1 = model1.fit(x_train,y_train,epochs=60,batch_size=10)"
   ]
  },
  {
   "cell_type": "code",
   "execution_count": 14,
   "metadata": {},
   "outputs": [
    {
     "data": {
      "image/png": "[encoded data removed]",
      "text/plain": [
       "<matplotlib.figure.Figure at 0x1a818f4c5f8>"
      ]
     },
     "metadata": {},
     "output_type": "display_data"
    }
   ],
   "source": [
    "# plot the metrics vs epoch number\n",
    "\n",
    "fig1,ax1 = plt.subplots(1,1,figsize=(6,5))\n",
    "ax1.plot(history1.history['mean_absolute_percentage_error'],color='green')\n",
    "ax1.set_xlabel('Epoch')\n",
    "ax1.set_ylabel('Mean absolute percentage error',color='green')\n",
    "ax1.tick_params(axis='y', labelcolor='green')\n",
    "\n",
    "ax1_ = ax1.twinx()\n",
    "ax1_.plot(history1.history['mean_squared_error'],color='blue')\n",
    "ax1_.set_ylabel('Mean squared error',color='blue')\n",
    "ax1_.tick_params(axis='y', labelcolor='blue')\n",
    "plt.show()"
   ]
  },
  {
   "cell_type": "code",
   "execution_count": 15,
   "metadata": {},
   "outputs": [],
   "source": [
    "# use the model to make predictions\n",
    "predictions1 = model1.predict(x_test)"
   ]
  },
  {
   "cell_type": "code",
   "execution_count": 16,
   "metadata": {},
   "outputs": [
    {
     "data": {
      "image/png": "[encoded data removed]",
      "text/plain": [
       "<matplotlib.figure.Figure at 0x1a818f43710>"
      ]
     },
     "metadata": {},
     "output_type": "display_data"
    }
   ],
   "source": [
    "# plot predictions vs true values\n",
    "fig2,ax2 = plt.subplots(1,1,figsize=(5,5))\n",
    "ax2.scatter(y_test,predictions1,marker='.')\n",
    "x = np.linspace(0,35)\n",
    "ax2.plot(x,x,color='r')\n",
    "ax2.set_xlabel('True muon PEs')\n",
    "ax2.set_ylabel('Predicted muon PEs')\n",
    "fig2.suptitle(r'$log_{10}(\\ E\\ ) \\in (16.0,16.5),\\quad cos(\\theta) > 0.9$')\n",
    "plt.show()"
   ]
  },
  {
   "cell_type": "code",
   "execution_count": 17,
   "metadata": {},
   "outputs": [
    {
     "data": {
      "image/png": "[encoded data removed]",
      "text/plain": [
       "<matplotlib.figure.Figure at 0x1a818e4c7b8>"
      ]
     },
     "metadata": {},
     "output_type": "display_data"
    }
   ],
   "source": [
    "# Plot residuals\n",
    "fig3,ax3=plt.subplots(1,1,figsize=(6,5))\n",
    "residuals1 = [predictions1[i]-y_test[i] for i in range(len(y_test))]\n",
    "ax3.scatter(y_test,residuals1,marker='.')\n",
    "x = np.linspace(0,35)\n",
    "ax3.plot(x,0*x,color='black')\n",
    "ax3.set_xlim(0,35)\n",
    "ax3.set_ylabel('Residual')\n",
    "ax3.set_xlabel('True muon PEs')\n",
    "plt.show()"
   ]
  },
  {
   "cell_type": "code",
   "execution_count": null,
   "metadata": {},
   "outputs": [],
   "source": []
  }
 ],
 "metadata": {
  "kernelspec": {
   "display_name": "Python 3",
   "language": "python",
   "name": "python3"
  },
  "language_info": {
   "codemirror_mode": {
    "name": "ipython",
    "version": 3
   },
   "file_extension": ".py",
   "mimetype": "text/x-python",
   "name": "python",
   "nbconvert_exporter": "python",
   "pygments_lexer": "ipython3",
   "version": "3.6.4"
  }
 },
 "nbformat": 4,
 "nbformat_minor": 2
}
