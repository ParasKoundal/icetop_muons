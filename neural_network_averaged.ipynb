{
 "cells": [
  {
   "cell_type": "markdown",
   "metadata": {},
   "source": [
    "## Neural network to predict muon signal for averaged showers"
   ]
  },
  {
   "cell_type": "code",
   "execution_count": 1,
   "metadata": {},
   "outputs": [
    {
     "name": "stderr",
     "output_type": "stream",
     "text": [
      "C:\\Users\\jfcre\\Anaconda3\\lib\\site-packages\\h5py\\__init__.py:36: FutureWarning: Conversion of the second argument of issubdtype from `float` to `np.floating` is deprecated. In future, it will be treated as `np.float64 == np.dtype(float).type`.\n",
      "  from ._conv import register_converters as _register_converters\n",
      "Using TensorFlow backend.\n"
     ]
    }
   ],
   "source": [
    "import numpy as np\n",
    "\n",
    "from sklearn.model_selection import train_test_split\n",
    "from sklearn.preprocessing import StandardScaler\n",
    "from keras.models import Sequential\n",
    "from keras.layers import Dense\n",
    "\n",
    "import matplotlib.pyplot as plt\n",
    "from sklearn.metrics import mean_squared_error,r2_score"
   ]
  },
  {
   "cell_type": "code",
   "execution_count": 2,
   "metadata": {},
   "outputs": [],
   "source": [
    "np.random.seed(11)"
   ]
  },
  {
   "cell_type": "code",
   "execution_count": 3,
   "metadata": {},
   "outputs": [],
   "source": [
    "# This data was averaged for each run\n",
    "# Columns: Run, E_proton, E_iron, Zen, Q400, MuonVEM, nMuon, Type\n",
    "# Note that right now, nMuon is useless\n",
    "data = np.load('./data/NN_data_400m_avg.npy')"
   ]
  },
  {
   "cell_type": "code",
   "execution_count": 4,
   "metadata": {},
   "outputs": [],
   "source": [
    "# convert the python 2 bytes into python 3 format\n",
    "data_ = []\n",
    "for i in range(len(data)):\n",
    "    data_.append([])\n",
    "    for j in range(0,7):\n",
    "        data_[i].append(float(data[i,j]))\n",
    "data = np.array(data_)"
   ]
  },
  {
   "cell_type": "code",
   "execution_count": 5,
   "metadata": {},
   "outputs": [],
   "source": [
    "# look at data logE in (16.0,16.5) and cos(zenith) > 0.9\n",
    "data_ = []\n",
    "for shower in data:\n",
    "    E_proton = shower[1]\n",
    "    E_iron = shower[2]\n",
    "    E_avg = np.sqrt(E_proton*E_iron) # geometric mean\n",
    "    logE = np.log10(E_avg)\n",
    "    zen = shower[3]\n",
    "    if logE >= 16 and logE <= 16.5 and np.cos(zen) > 0.9:\n",
    "        data_.append(shower)\n",
    "data_trimmed = np.array(data_)"
   ]
  },
  {
   "cell_type": "code",
   "execution_count": 6,
   "metadata": {},
   "outputs": [
    {
     "name": "stdout",
     "output_type": "stream",
     "text": [
      "454\n"
     ]
    }
   ],
   "source": [
    "print(len(data_trimmed))"
   ]
  },
  {
   "cell_type": "code",
   "execution_count": 7,
   "metadata": {},
   "outputs": [],
   "source": [
    "# split into input and target\n",
    "X = data_trimmed[:,0:5]\n",
    "Y = data_trimmed[:,5]"
   ]
  },
  {
   "cell_type": "code",
   "execution_count": 8,
   "metadata": {},
   "outputs": [],
   "source": [
    "# split the data into test and training set\n",
    "x_train, x_test, y_train, y_test = train_test_split(X,Y)"
   ]
  },
  {
   "cell_type": "code",
   "execution_count": 9,
   "metadata": {},
   "outputs": [],
   "source": [
    "runs_train = x_train[:,0]\n",
    "runs_test  = x_test[:,0]\n",
    "\n",
    "x_train = np.delete(x_train,0,axis=1)\n",
    "x_test  = np.delete(x_test,0,axis=1)"
   ]
  },
  {
   "cell_type": "code",
   "execution_count": 10,
   "metadata": {},
   "outputs": [
    {
     "data": {
      "text/plain": [
       "StandardScaler(copy=True, with_mean=True, with_std=True)"
      ]
     },
     "execution_count": 10,
     "metadata": {},
     "output_type": "execute_result"
    }
   ],
   "source": [
    "# normalize the data because the network will be sensitive\n",
    "# to relative magnitudes\n",
    "scaler = StandardScaler()\n",
    "scaler.fit(x_train)"
   ]
  },
  {
   "cell_type": "code",
   "execution_count": 11,
   "metadata": {},
   "outputs": [],
   "source": [
    "# apply the scaler to the sets\n",
    "x_train = scaler.transform(x_train)\n",
    "x_test  = scaler.transform(x_test)"
   ]
  },
  {
   "cell_type": "code",
   "execution_count": 12,
   "metadata": {},
   "outputs": [],
   "source": [
    "# create model\n",
    "model1 = Sequential()\n",
    "model1.add(Dense(4,input_dim=4,activation='relu'))\n",
    "model1.add(Dense(4,activation='relu'))\n",
    "model1.add(Dense(1,activation=None))"
   ]
  },
  {
   "cell_type": "code",
   "execution_count": 13,
   "metadata": {},
   "outputs": [],
   "source": [
    "# compile model\n",
    "# loss function: mean square log error\n",
    "# metric: mean absolute percentage error\n",
    "model1.compile(loss='mse',optimizer='adam',metrics=['mape','mse'])"
   ]
  },
  {
   "cell_type": "code",
   "execution_count": 14,
   "metadata": {},
   "outputs": [
    {
     "name": "stdout",
     "output_type": "stream",
     "text": [
      "Epoch 1/150\n",
      "340/340 [==============================] - 0s 542us/step - loss: 178.3052 - mean_absolute_percentage_error: 109.2853 - mean_squared_error: 178.3052\n",
      "Epoch 2/150\n",
      "340/340 [==============================] - 0s 114us/step - loss: 172.9244 - mean_absolute_percentage_error: 106.4435 - mean_squared_error: 172.9244\n",
      "Epoch 3/150\n",
      "340/340 [==============================] - 0s 108us/step - loss: 167.6662 - mean_absolute_percentage_error: 103.8928 - mean_squared_error: 167.6662\n",
      "Epoch 4/150\n",
      "340/340 [==============================] - 0s 117us/step - loss: 162.4684 - mean_absolute_percentage_error: 101.4955 - mean_squared_error: 162.4684\n",
      "Epoch 5/150\n",
      "340/340 [==============================] - 0s 117us/step - loss: 157.0555 - mean_absolute_percentage_error: 99.3392 - mean_squared_error: 157.0555\n",
      "Epoch 6/150\n",
      "340/340 [==============================] - 0s 111us/step - loss: 151.6815 - mean_absolute_percentage_error: 97.2708 - mean_squared_error: 151.6815\n",
      "Epoch 7/150\n",
      "340/340 [==============================] - 0s 108us/step - loss: 145.9688 - mean_absolute_percentage_error: 95.1564 - mean_squared_error: 145.9688\n",
      "Epoch 8/150\n",
      "340/340 [==============================] - 0s 120us/step - loss: 139.9879 - mean_absolute_percentage_error: 93.0578 - mean_squared_error: 139.9879\n",
      "Epoch 9/150\n",
      "340/340 [==============================] - 0s 111us/step - loss: 133.5171 - mean_absolute_percentage_error: 90.9697 - mean_squared_error: 133.5171\n",
      "Epoch 10/150\n",
      "340/340 [==============================] - 0s 141us/step - loss: 126.8535 - mean_absolute_percentage_error: 88.7131 - mean_squared_error: 126.8535\n",
      "Epoch 11/150\n",
      "340/340 [==============================] - 0s 132us/step - loss: 119.6566 - mean_absolute_percentage_error: 86.2656 - mean_squared_error: 119.6566\n",
      "Epoch 12/150\n",
      "340/340 [==============================] - 0s 132us/step - loss: 112.1077 - mean_absolute_percentage_error: 83.6405 - mean_squared_error: 112.1077\n",
      "Epoch 13/150\n",
      "340/340 [==============================] - 0s 144us/step - loss: 104.1430 - mean_absolute_percentage_error: 80.6524 - mean_squared_error: 104.1430\n",
      "Epoch 14/150\n",
      "340/340 [==============================] - 0s 132us/step - loss: 96.2695 - mean_absolute_percentage_error: 77.3013 - mean_squared_error: 96.2695\n",
      "Epoch 15/150\n",
      "340/340 [==============================] - 0s 120us/step - loss: 88.2310 - mean_absolute_percentage_error: 73.8818 - mean_squared_error: 88.2310\n",
      "Epoch 16/150\n",
      "340/340 [==============================] - 0s 135us/step - loss: 80.6482 - mean_absolute_percentage_error: 70.5950 - mean_squared_error: 80.6482\n",
      "Epoch 17/150\n",
      "340/340 [==============================] - 0s 129us/step - loss: 73.5391 - mean_absolute_percentage_error: 67.4689 - mean_squared_error: 73.5391\n",
      "Epoch 18/150\n",
      "340/340 [==============================] - 0s 135us/step - loss: 66.7467 - mean_absolute_percentage_error: 64.5610 - mean_squared_error: 66.7467\n",
      "Epoch 19/150\n",
      "340/340 [==============================] - 0s 129us/step - loss: 60.5234 - mean_absolute_percentage_error: 61.6521 - mean_squared_error: 60.5234\n",
      "Epoch 20/150\n",
      "340/340 [==============================] - 0s 135us/step - loss: 54.8545 - mean_absolute_percentage_error: 58.9114 - mean_squared_error: 54.8545\n",
      "Epoch 21/150\n",
      "340/340 [==============================] - 0s 129us/step - loss: 49.8964 - mean_absolute_percentage_error: 56.3569 - mean_squared_error: 49.8964\n",
      "Epoch 22/150\n",
      "340/340 [==============================] - 0s 138us/step - loss: 45.4693 - mean_absolute_percentage_error: 53.8002 - mean_squared_error: 45.4693\n",
      "Epoch 23/150\n",
      "340/340 [==============================] - 0s 144us/step - loss: 41.5239 - mean_absolute_percentage_error: 51.3704 - mean_squared_error: 41.5239\n",
      "Epoch 24/150\n",
      "340/340 [==============================] - 0s 132us/step - loss: 37.9853 - mean_absolute_percentage_error: 48.9645 - mean_squared_error: 37.9853\n",
      "Epoch 25/150\n",
      "340/340 [==============================] - 0s 135us/step - loss: 34.5748 - mean_absolute_percentage_error: 46.4151 - mean_squared_error: 34.5748\n",
      "Epoch 26/150\n",
      "340/340 [==============================] - 0s 129us/step - loss: 30.9777 - mean_absolute_percentage_error: 43.1842 - mean_squared_error: 30.9777\n",
      "Epoch 27/150\n",
      "340/340 [==============================] - 0s 153us/step - loss: 27.2395 - mean_absolute_percentage_error: 39.6461 - mean_squared_error: 27.2395\n",
      "Epoch 28/150\n",
      "340/340 [==============================] - 0s 141us/step - loss: 23.4583 - mean_absolute_percentage_error: 35.5607 - mean_squared_error: 23.4583\n",
      "Epoch 29/150\n",
      "340/340 [==============================] - 0s 141us/step - loss: 20.4719 - mean_absolute_percentage_error: 32.8420 - mean_squared_error: 20.4719\n",
      "Epoch 30/150\n",
      "340/340 [==============================] - 0s 129us/step - loss: 18.0473 - mean_absolute_percentage_error: 31.1314 - mean_squared_error: 18.0473\n",
      "Epoch 31/150\n",
      "340/340 [==============================] - 0s 129us/step - loss: 16.2858 - mean_absolute_percentage_error: 30.4044 - mean_squared_error: 16.2858\n",
      "Epoch 32/150\n",
      "340/340 [==============================] - 0s 138us/step - loss: 15.1092 - mean_absolute_percentage_error: 30.4732 - mean_squared_error: 15.1092\n",
      "Epoch 33/150\n",
      "340/340 [==============================] - 0s 132us/step - loss: 14.0892 - mean_absolute_percentage_error: 30.2584 - mean_squared_error: 14.0892\n",
      "Epoch 34/150\n",
      "340/340 [==============================] - 0s 135us/step - loss: 13.3481 - mean_absolute_percentage_error: 29.9878 - mean_squared_error: 13.3481\n",
      "Epoch 35/150\n",
      "340/340 [==============================] - 0s 132us/step - loss: 12.6708 - mean_absolute_percentage_error: 29.5241 - mean_squared_error: 12.6708\n",
      "Epoch 36/150\n",
      "340/340 [==============================] - 0s 132us/step - loss: 12.0806 - mean_absolute_percentage_error: 29.0088 - mean_squared_error: 12.0806\n",
      "Epoch 37/150\n",
      "340/340 [==============================] - 0s 135us/step - loss: 11.4700 - mean_absolute_percentage_error: 28.2126 - mean_squared_error: 11.4700\n",
      "Epoch 38/150\n",
      "340/340 [==============================] - 0s 123us/step - loss: 10.8952 - mean_absolute_percentage_error: 27.2768 - mean_squared_error: 10.8952\n",
      "Epoch 39/150\n",
      "340/340 [==============================] - 0s 126us/step - loss: 10.3775 - mean_absolute_percentage_error: 26.6226 - mean_squared_error: 10.3775\n",
      "Epoch 40/150\n",
      "340/340 [==============================] - 0s 126us/step - loss: 9.8658 - mean_absolute_percentage_error: 25.8127 - mean_squared_error: 9.8658\n",
      "Epoch 41/150\n",
      "340/340 [==============================] - 0s 132us/step - loss: 9.4226 - mean_absolute_percentage_error: 25.0717 - mean_squared_error: 9.4226\n",
      "Epoch 42/150\n",
      "340/340 [==============================] - 0s 123us/step - loss: 9.0343 - mean_absolute_percentage_error: 24.3716 - mean_squared_error: 9.0343\n",
      "Epoch 43/150\n",
      "340/340 [==============================] - 0s 120us/step - loss: 8.6968 - mean_absolute_percentage_error: 23.8673 - mean_squared_error: 8.6968\n",
      "Epoch 44/150\n",
      "340/340 [==============================] - 0s 126us/step - loss: 8.4184 - mean_absolute_percentage_error: 23.2738 - mean_squared_error: 8.4184\n",
      "Epoch 45/150\n",
      "340/340 [==============================] - 0s 123us/step - loss: 8.1650 - mean_absolute_percentage_error: 22.7811 - mean_squared_error: 8.1650\n",
      "Epoch 46/150\n",
      "340/340 [==============================] - 0s 135us/step - loss: 7.9404 - mean_absolute_percentage_error: 22.3107 - mean_squared_error: 7.9404\n",
      "Epoch 47/150\n",
      "340/340 [==============================] - 0s 129us/step - loss: 7.7280 - mean_absolute_percentage_error: 21.8902 - mean_squared_error: 7.7280\n",
      "Epoch 48/150\n",
      "340/340 [==============================] - 0s 126us/step - loss: 7.5454 - mean_absolute_percentage_error: 21.3589 - mean_squared_error: 7.5454\n",
      "Epoch 49/150\n",
      "340/340 [==============================] - 0s 129us/step - loss: 7.3572 - mean_absolute_percentage_error: 20.9862 - mean_squared_error: 7.3572\n",
      "Epoch 50/150\n",
      "340/340 [==============================] - 0s 120us/step - loss: 7.1965 - mean_absolute_percentage_error: 20.6414 - mean_squared_error: 7.1965\n",
      "Epoch 51/150\n",
      "340/340 [==============================] - 0s 112us/step - loss: 7.0345 - mean_absolute_percentage_error: 20.2287 - mean_squared_error: 7.0345\n",
      "Epoch 52/150\n"
     ]
    },
    {
     "name": "stdout",
     "output_type": "stream",
     "text": [
      "340/340 [==============================] - 0s 114us/step - loss: 6.9034 - mean_absolute_percentage_error: 19.8545 - mean_squared_error: 6.9034\n",
      "Epoch 53/150\n",
      "340/340 [==============================] - 0s 126us/step - loss: 6.7711 - mean_absolute_percentage_error: 19.4984 - mean_squared_error: 6.7711\n",
      "Epoch 54/150\n",
      "340/340 [==============================] - 0s 120us/step - loss: 6.6656 - mean_absolute_percentage_error: 19.3967 - mean_squared_error: 6.6656\n",
      "Epoch 55/150\n",
      "340/340 [==============================] - 0s 138us/step - loss: 6.5213 - mean_absolute_percentage_error: 18.8108 - mean_squared_error: 6.5213\n",
      "Epoch 56/150\n",
      "340/340 [==============================] - 0s 138us/step - loss: 6.4068 - mean_absolute_percentage_error: 18.4180 - mean_squared_error: 6.4068\n",
      "Epoch 57/150\n",
      "340/340 [==============================] - 0s 129us/step - loss: 6.3132 - mean_absolute_percentage_error: 18.3360 - mean_squared_error: 6.3132\n",
      "Epoch 58/150\n",
      "340/340 [==============================] - 0s 126us/step - loss: 6.2087 - mean_absolute_percentage_error: 17.8951 - mean_squared_error: 6.2087\n",
      "Epoch 59/150\n",
      "340/340 [==============================] - 0s 126us/step - loss: 6.1420 - mean_absolute_percentage_error: 17.8410 - mean_squared_error: 6.1420\n",
      "Epoch 60/150\n",
      "340/340 [==============================] - 0s 123us/step - loss: 6.0292 - mean_absolute_percentage_error: 17.7175 - mean_squared_error: 6.0292\n",
      "Epoch 61/150\n",
      "340/340 [==============================] - 0s 129us/step - loss: 5.9513 - mean_absolute_percentage_error: 17.4319 - mean_squared_error: 5.9513\n",
      "Epoch 62/150\n",
      "340/340 [==============================] - 0s 129us/step - loss: 5.8756 - mean_absolute_percentage_error: 17.1959 - mean_squared_error: 5.8756\n",
      "Epoch 63/150\n",
      "340/340 [==============================] - 0s 132us/step - loss: 5.8115 - mean_absolute_percentage_error: 17.1607 - mean_squared_error: 5.8115\n",
      "Epoch 64/150\n",
      "340/340 [==============================] - 0s 126us/step - loss: 5.7382 - mean_absolute_percentage_error: 17.0258 - mean_squared_error: 5.7382\n",
      "Epoch 65/150\n",
      "340/340 [==============================] - 0s 135us/step - loss: 5.6826 - mean_absolute_percentage_error: 16.9546 - mean_squared_error: 5.6826\n",
      "Epoch 66/150\n",
      "340/340 [==============================] - 0s 129us/step - loss: 5.6284 - mean_absolute_percentage_error: 16.6927 - mean_squared_error: 5.6284\n",
      "Epoch 67/150\n",
      "340/340 [==============================] - 0s 129us/step - loss: 5.5650 - mean_absolute_percentage_error: 16.6870 - mean_squared_error: 5.5650\n",
      "Epoch 68/150\n",
      "340/340 [==============================] - 0s 123us/step - loss: 5.5350 - mean_absolute_percentage_error: 16.6443 - mean_squared_error: 5.5350\n",
      "Epoch 69/150\n",
      "340/340 [==============================] - 0s 141us/step - loss: 5.4993 - mean_absolute_percentage_error: 16.6560 - mean_squared_error: 5.4993\n",
      "Epoch 70/150\n",
      "340/340 [==============================] - 0s 138us/step - loss: 5.4532 - mean_absolute_percentage_error: 16.4577 - mean_squared_error: 5.4532\n",
      "Epoch 71/150\n",
      "340/340 [==============================] - 0s 144us/step - loss: 5.4357 - mean_absolute_percentage_error: 16.4084 - mean_squared_error: 5.4357\n",
      "Epoch 72/150\n",
      "340/340 [==============================] - 0s 126us/step - loss: 5.3909 - mean_absolute_percentage_error: 16.3012 - mean_squared_error: 5.3909\n",
      "Epoch 73/150\n",
      "340/340 [==============================] - 0s 123us/step - loss: 5.3710 - mean_absolute_percentage_error: 16.1999 - mean_squared_error: 5.3710\n",
      "Epoch 74/150\n",
      "340/340 [==============================] - 0s 117us/step - loss: 5.3370 - mean_absolute_percentage_error: 16.2429 - mean_squared_error: 5.3370\n",
      "Epoch 75/150\n",
      "340/340 [==============================] - 0s 109us/step - loss: 5.3193 - mean_absolute_percentage_error: 16.0944 - mean_squared_error: 5.3193\n",
      "Epoch 76/150\n",
      "340/340 [==============================] - 0s 111us/step - loss: 5.3037 - mean_absolute_percentage_error: 16.2341 - mean_squared_error: 5.3037\n",
      "Epoch 77/150\n",
      "340/340 [==============================] - 0s 111us/step - loss: 5.2957 - mean_absolute_percentage_error: 16.0761 - mean_squared_error: 5.2957\n",
      "Epoch 78/150\n",
      "340/340 [==============================] - 0s 108us/step - loss: 5.2567 - mean_absolute_percentage_error: 16.0258 - mean_squared_error: 5.2567\n",
      "Epoch 79/150\n",
      "340/340 [==============================] - 0s 108us/step - loss: 5.2494 - mean_absolute_percentage_error: 16.0205 - mean_squared_error: 5.2494\n",
      "Epoch 80/150\n",
      "340/340 [==============================] - 0s 111us/step - loss: 5.2380 - mean_absolute_percentage_error: 16.0745 - mean_squared_error: 5.2380\n",
      "Epoch 81/150\n",
      "340/340 [==============================] - 0s 111us/step - loss: 5.2225 - mean_absolute_percentage_error: 15.9405 - mean_squared_error: 5.2225\n",
      "Epoch 82/150\n",
      "340/340 [==============================] - 0s 106us/step - loss: 5.2596 - mean_absolute_percentage_error: 16.0089 - mean_squared_error: 5.2596\n",
      "Epoch 83/150\n",
      "340/340 [==============================] - 0s 109us/step - loss: 5.2105 - mean_absolute_percentage_error: 16.0826 - mean_squared_error: 5.2105\n",
      "Epoch 84/150\n",
      "340/340 [==============================] - 0s 109us/step - loss: 5.1903 - mean_absolute_percentage_error: 15.7970 - mean_squared_error: 5.1903\n",
      "Epoch 85/150\n",
      "340/340 [==============================] - 0s 111us/step - loss: 5.1849 - mean_absolute_percentage_error: 15.9574 - mean_squared_error: 5.1849\n",
      "Epoch 86/150\n",
      "340/340 [==============================] - 0s 111us/step - loss: 5.1888 - mean_absolute_percentage_error: 15.7468 - mean_squared_error: 5.1888\n",
      "Epoch 87/150\n",
      "340/340 [==============================] - 0s 111us/step - loss: 5.1616 - mean_absolute_percentage_error: 15.9804 - mean_squared_error: 5.1616\n",
      "Epoch 88/150\n",
      "340/340 [==============================] - 0s 112us/step - loss: 5.1576 - mean_absolute_percentage_error: 15.7676 - mean_squared_error: 5.1576\n",
      "Epoch 89/150\n",
      "340/340 [==============================] - 0s 105us/step - loss: 5.1635 - mean_absolute_percentage_error: 15.8618 - mean_squared_error: 5.1635\n",
      "Epoch 90/150\n",
      "340/340 [==============================] - 0s 106us/step - loss: 5.1414 - mean_absolute_percentage_error: 15.9266 - mean_squared_error: 5.1414\n",
      "Epoch 91/150\n",
      "340/340 [==============================] - 0s 103us/step - loss: 5.1286 - mean_absolute_percentage_error: 15.7720 - mean_squared_error: 5.1286\n",
      "Epoch 92/150\n",
      "340/340 [==============================] - 0s 109us/step - loss: 5.1128 - mean_absolute_percentage_error: 15.7283 - mean_squared_error: 5.1128\n",
      "Epoch 93/150\n",
      "340/340 [==============================] - 0s 111us/step - loss: 5.0998 - mean_absolute_percentage_error: 15.6440 - mean_squared_error: 5.0998\n",
      "Epoch 94/150\n",
      "340/340 [==============================] - 0s 109us/step - loss: 5.0851 - mean_absolute_percentage_error: 15.8470 - mean_squared_error: 5.0851\n",
      "Epoch 95/150\n",
      "340/340 [==============================] - 0s 111us/step - loss: 5.0845 - mean_absolute_percentage_error: 15.7631 - mean_squared_error: 5.0845\n",
      "Epoch 96/150\n",
      "340/340 [==============================] - 0s 114us/step - loss: 5.0973 - mean_absolute_percentage_error: 15.8468 - mean_squared_error: 5.0973\n",
      "Epoch 97/150\n",
      "340/340 [==============================] - 0s 103us/step - loss: 5.0663 - mean_absolute_percentage_error: 15.6104 - mean_squared_error: 5.0663\n",
      "Epoch 98/150\n",
      "340/340 [==============================] - 0s 109us/step - loss: 5.0580 - mean_absolute_percentage_error: 15.6198 - mean_squared_error: 5.0580\n",
      "Epoch 99/150\n",
      "340/340 [==============================] - 0s 103us/step - loss: 5.0524 - mean_absolute_percentage_error: 15.6763 - mean_squared_error: 5.0524\n",
      "Epoch 100/150\n",
      "340/340 [==============================] - 0s 106us/step - loss: 5.0436 - mean_absolute_percentage_error: 15.6679 - mean_squared_error: 5.0436\n",
      "Epoch 101/150\n",
      "340/340 [==============================] - 0s 106us/step - loss: 5.0377 - mean_absolute_percentage_error: 15.6899 - mean_squared_error: 5.0377\n",
      "Epoch 102/150\n",
      "340/340 [==============================] - 0s 103us/step - loss: 5.0284 - mean_absolute_percentage_error: 15.6195 - mean_squared_error: 5.0284\n",
      "Epoch 103/150\n",
      "340/340 [==============================] - 0s 103us/step - loss: 5.0205 - mean_absolute_percentage_error: 15.7162 - mean_squared_error: 5.0205\n",
      "Epoch 104/150\n"
     ]
    },
    {
     "name": "stdout",
     "output_type": "stream",
     "text": [
      "340/340 [==============================] - 0s 103us/step - loss: 5.0098 - mean_absolute_percentage_error: 15.6369 - mean_squared_error: 5.0098\n",
      "Epoch 105/150\n",
      "340/340 [==============================] - 0s 103us/step - loss: 5.0061 - mean_absolute_percentage_error: 15.5337 - mean_squared_error: 5.0061\n",
      "Epoch 106/150\n",
      "340/340 [==============================] - 0s 109us/step - loss: 5.0042 - mean_absolute_percentage_error: 15.6769 - mean_squared_error: 5.0042\n",
      "Epoch 107/150\n",
      "340/340 [==============================] - 0s 103us/step - loss: 5.0008 - mean_absolute_percentage_error: 15.5560 - mean_squared_error: 5.0008\n",
      "Epoch 108/150\n",
      "340/340 [==============================] - 0s 103us/step - loss: 4.9770 - mean_absolute_percentage_error: 15.6042 - mean_squared_error: 4.9770\n",
      "Epoch 109/150\n",
      "340/340 [==============================] - 0s 108us/step - loss: 4.9638 - mean_absolute_percentage_error: 15.5518 - mean_squared_error: 4.9638\n",
      "Epoch 110/150\n",
      "340/340 [==============================] - 0s 106us/step - loss: 4.9688 - mean_absolute_percentage_error: 15.3943 - mean_squared_error: 4.9688\n",
      "Epoch 111/150\n",
      "340/340 [==============================] - 0s 109us/step - loss: 4.9574 - mean_absolute_percentage_error: 15.4488 - mean_squared_error: 4.9574\n",
      "Epoch 112/150\n",
      "340/340 [==============================] - 0s 120us/step - loss: 4.9502 - mean_absolute_percentage_error: 15.6202 - mean_squared_error: 4.9502\n",
      "Epoch 113/150\n",
      "340/340 [==============================] - 0s 111us/step - loss: 4.9818 - mean_absolute_percentage_error: 15.5804 - mean_squared_error: 4.9818\n",
      "Epoch 114/150\n",
      "340/340 [==============================] - 0s 109us/step - loss: 4.9615 - mean_absolute_percentage_error: 15.3360 - mean_squared_error: 4.9615\n",
      "Epoch 115/150\n",
      "340/340 [==============================] - 0s 106us/step - loss: 4.9501 - mean_absolute_percentage_error: 15.4548 - mean_squared_error: 4.9501\n",
      "Epoch 116/150\n",
      "340/340 [==============================] - 0s 111us/step - loss: 4.9604 - mean_absolute_percentage_error: 15.5413 - mean_squared_error: 4.9604\n",
      "Epoch 117/150\n",
      "340/340 [==============================] - 0s 109us/step - loss: 4.9285 - mean_absolute_percentage_error: 15.4771 - mean_squared_error: 4.9285\n",
      "Epoch 118/150\n",
      "340/340 [==============================] - 0s 106us/step - loss: 4.9218 - mean_absolute_percentage_error: 15.4122 - mean_squared_error: 4.9218\n",
      "Epoch 119/150\n",
      "340/340 [==============================] - 0s 109us/step - loss: 4.9251 - mean_absolute_percentage_error: 15.3950 - mean_squared_error: 4.9251\n",
      "Epoch 120/150\n",
      "340/340 [==============================] - 0s 111us/step - loss: 4.9276 - mean_absolute_percentage_error: 15.4701 - mean_squared_error: 4.9276\n",
      "Epoch 121/150\n",
      "340/340 [==============================] - 0s 109us/step - loss: 4.9259 - mean_absolute_percentage_error: 15.4403 - mean_squared_error: 4.9259\n",
      "Epoch 122/150\n",
      "340/340 [==============================] - 0s 109us/step - loss: 4.9058 - mean_absolute_percentage_error: 15.3840 - mean_squared_error: 4.9058\n",
      "Epoch 123/150\n",
      "340/340 [==============================] - 0s 111us/step - loss: 4.9155 - mean_absolute_percentage_error: 15.4046 - mean_squared_error: 4.9155\n",
      "Epoch 124/150\n",
      "340/340 [==============================] - 0s 111us/step - loss: 4.8980 - mean_absolute_percentage_error: 15.2696 - mean_squared_error: 4.8980\n",
      "Epoch 125/150\n",
      "340/340 [==============================] - 0s 106us/step - loss: 4.8975 - mean_absolute_percentage_error: 15.3396 - mean_squared_error: 4.8975\n",
      "Epoch 126/150\n",
      "340/340 [==============================] - 0s 109us/step - loss: 4.8909 - mean_absolute_percentage_error: 15.3815 - mean_squared_error: 4.8909\n",
      "Epoch 127/150\n",
      "340/340 [==============================] - 0s 106us/step - loss: 4.9041 - mean_absolute_percentage_error: 15.3327 - mean_squared_error: 4.9041\n",
      "Epoch 128/150\n",
      "340/340 [==============================] - 0s 109us/step - loss: 4.8946 - mean_absolute_percentage_error: 15.3233 - mean_squared_error: 4.8946\n",
      "Epoch 129/150\n",
      "340/340 [==============================] - 0s 106us/step - loss: 4.8896 - mean_absolute_percentage_error: 15.2155 - mean_squared_error: 4.8896\n",
      "Epoch 130/150\n",
      "340/340 [==============================] - 0s 100us/step - loss: 4.8876 - mean_absolute_percentage_error: 15.4555 - mean_squared_error: 4.8876\n",
      "Epoch 131/150\n",
      "340/340 [==============================] - 0s 109us/step - loss: 4.8731 - mean_absolute_percentage_error: 15.2719 - mean_squared_error: 4.8731\n",
      "Epoch 132/150\n",
      "340/340 [==============================] - 0s 106us/step - loss: 4.8932 - mean_absolute_percentage_error: 15.3121 - mean_squared_error: 4.8932\n",
      "Epoch 133/150\n",
      "340/340 [==============================] - 0s 106us/step - loss: 4.9021 - mean_absolute_percentage_error: 15.2284 - mean_squared_error: 4.9021\n",
      "Epoch 134/150\n",
      "340/340 [==============================] - 0s 109us/step - loss: 4.8671 - mean_absolute_percentage_error: 15.2410 - mean_squared_error: 4.8671\n",
      "Epoch 135/150\n",
      "340/340 [==============================] - 0s 111us/step - loss: 4.8918 - mean_absolute_percentage_error: 15.2256 - mean_squared_error: 4.8918\n",
      "Epoch 136/150\n",
      "340/340 [==============================] - 0s 111us/step - loss: 4.8547 - mean_absolute_percentage_error: 15.3082 - mean_squared_error: 4.8547\n",
      "Epoch 137/150\n",
      "340/340 [==============================] - 0s 106us/step - loss: 4.8902 - mean_absolute_percentage_error: 15.3441 - mean_squared_error: 4.8902\n",
      "Epoch 138/150\n",
      "340/340 [==============================] - 0s 112us/step - loss: 4.8943 - mean_absolute_percentage_error: 15.0511 - mean_squared_error: 4.8943\n",
      "Epoch 139/150\n",
      "340/340 [==============================] - 0s 123us/step - loss: 4.8879 - mean_absolute_percentage_error: 15.2827 - mean_squared_error: 4.8879\n",
      "Epoch 140/150\n",
      "340/340 [==============================] - 0s 111us/step - loss: 4.8678 - mean_absolute_percentage_error: 15.1397 - mean_squared_error: 4.8678\n",
      "Epoch 141/150\n",
      "340/340 [==============================] - 0s 111us/step - loss: 4.8906 - mean_absolute_percentage_error: 15.2890 - mean_squared_error: 4.8906\n",
      "Epoch 142/150\n",
      "340/340 [==============================] - 0s 109us/step - loss: 4.8410 - mean_absolute_percentage_error: 15.1809 - mean_squared_error: 4.8410\n",
      "Epoch 143/150\n",
      "340/340 [==============================] - 0s 117us/step - loss: 4.8407 - mean_absolute_percentage_error: 15.0738 - mean_squared_error: 4.8407\n",
      "Epoch 144/150\n",
      "340/340 [==============================] - 0s 120us/step - loss: 4.8492 - mean_absolute_percentage_error: 15.0552 - mean_squared_error: 4.8492\n",
      "Epoch 145/150\n",
      "340/340 [==============================] - 0s 126us/step - loss: 4.8723 - mean_absolute_percentage_error: 15.3326 - mean_squared_error: 4.8723\n",
      "Epoch 146/150\n",
      "340/340 [==============================] - 0s 123us/step - loss: 4.8662 - mean_absolute_percentage_error: 15.0965 - mean_squared_error: 4.8662\n",
      "Epoch 147/150\n",
      "340/340 [==============================] - 0s 112us/step - loss: 4.8531 - mean_absolute_percentage_error: 15.2385 - mean_squared_error: 4.8531\n",
      "Epoch 148/150\n",
      "340/340 [==============================] - 0s 123us/step - loss: 4.8539 - mean_absolute_percentage_error: 15.0849 - mean_squared_error: 4.8539\n",
      "Epoch 149/150\n",
      "340/340 [==============================] - 0s 123us/step - loss: 4.8398 - mean_absolute_percentage_error: 15.1309 - mean_squared_error: 4.8398\n",
      "Epoch 150/150\n",
      "340/340 [==============================] - 0s 126us/step - loss: 4.8333 - mean_absolute_percentage_error: 15.0583 - mean_squared_error: 4.8333\n"
     ]
    }
   ],
   "source": [
    "# fit the model to the data\n",
    "history1 = model1.fit(x_train,y_train,epochs=150,batch_size=10)"
   ]
  },
  {
   "cell_type": "code",
   "execution_count": 15,
   "metadata": {},
   "outputs": [
    {
     "data": {
      "image/png": "[encoded data removed]",
      "text/plain": [
       "<matplotlib.figure.Figure at 0x160a20df9b0>"
      ]
     },
     "metadata": {},
     "output_type": "display_data"
    }
   ],
   "source": [
    "# plot the metrics vs epoch number\n",
    "\n",
    "fig1,ax1 = plt.subplots(1,1,figsize=(6,5))\n",
    "ax1.plot(history1.history['mean_absolute_percentage_error'],color='green')\n",
    "ax1.set_xlabel('Epoch')\n",
    "ax1.set_ylabel('Mean absolute percentage error',color='green')\n",
    "ax1.tick_params(axis='y', labelcolor='green')\n",
    "\n",
    "ax1_ = ax1.twinx()\n",
    "ax1_.plot(history1.history['mean_squared_error'],color='blue')\n",
    "ax1_.set_ylabel('Mean squared error',color='blue')\n",
    "ax1_.tick_params(axis='y', labelcolor='blue')\n",
    "plt.show()"
   ]
  },
  {
   "cell_type": "code",
   "execution_count": 16,
   "metadata": {},
   "outputs": [],
   "source": [
    "# use the model to make predictions\n",
    "predictions1 = model1.predict(x_test)"
   ]
  },
  {
   "cell_type": "code",
   "execution_count": 17,
   "metadata": {},
   "outputs": [
    {
     "data": {
      "image/png": "[encoded data removed]",
      "text/plain": [
       "<matplotlib.figure.Figure at 0x160a0f90dd8>"
      ]
     },
     "metadata": {},
     "output_type": "display_data"
    }
   ],
   "source": [
    "# plot predictions vs true values\n",
    "\n",
    "PREDICTION = predictions1\n",
    "TRUTH      = y_test\n",
    "\n",
    "fig2,ax2 = plt.subplots(1,1,figsize=(5,5))\n",
    "# prediction vs truth\n",
    "ax2.scatter(TRUTH,PREDICTION,marker='.')\n",
    "# line y=x\n",
    "xmax = int(1.1*max(TRUTH)+0.5)\n",
    "x = np.linspace(-1,xmax)\n",
    "ax2.plot(x,x,color='r')\n",
    "# stats\n",
    "rmse = np.sqrt(mean_squared_error(TRUTH,PREDICTION))\n",
    "R2 = r2_score(TRUTH,PREDICTION)\n",
    "ax2.text(0.05,0.93,'RMSE = {0:.3f}'.format(rmse),transform=ax2.transAxes,fontsize=12)\n",
    "ax2.text(0.05,0.865,'$R^2$ = {0:.3f}'.format(R2),transform=ax2.transAxes,fontsize=12)\n",
    "# axes\n",
    "ax2.set_xlabel('True muon signal (VEM)')\n",
    "ax2.set_ylabel('Predicted muon signal (VEM)')\n",
    "ax2.set_xlim(-1,xmax)\n",
    "ax2.set_ylim(-1,xmax)\n",
    "# title\n",
    "fig2.suptitle(r'$log_{10}(\\ E\\ ) \\in (16.0,16.5),\\quad cos(\\theta) > 0.9$')\n",
    "\n",
    "plt.show()"
   ]
  },
  {
   "cell_type": "code",
   "execution_count": 18,
   "metadata": {},
   "outputs": [
    {
     "data": {
      "image/png": "[encoded data removed]",
      "text/plain": [
       "<matplotlib.figure.Figure at 0x160a25882e8>"
      ]
     },
     "metadata": {},
     "output_type": "display_data"
    }
   ],
   "source": [
    "# Plot residuals\n",
    "fig3,ax3=plt.subplots(1,1,figsize=(6,5))\n",
    "residuals1 = [predictions1[i]-y_test[i] for i in range(len(y_test))]\n",
    "ax3.scatter(y_test,residuals1,marker='.')\n",
    "x = np.linspace(0,35)\n",
    "ax3.plot(x,0*x,color='black')\n",
    "ax3.set_xlim(0,35)\n",
    "ax3.set_ylabel('Residual')\n",
    "ax3.set_xlabel('True muon signal (VEM)')\n",
    "fig3.suptitle(\"Sum: {0:.3f}\".format(sum(residuals1)[0]))\n",
    "plt.show()"
   ]
  },
  {
   "cell_type": "markdown",
   "metadata": {},
   "source": [
    "#### Applying the averaged network to the original data"
   ]
  },
  {
   "cell_type": "code",
   "execution_count": 19,
   "metadata": {},
   "outputs": [],
   "source": [
    "# unaveraged data\n",
    "# Columns: Run, E_proton, E_iron, Zen, Q400, MuonVEM, nMuon, Type\n",
    "# Note that right now, nMuon is useless\n",
    "data2 = np.load('./data/NN_data_400m.npy')"
   ]
  },
  {
   "cell_type": "code",
   "execution_count": 20,
   "metadata": {},
   "outputs": [],
   "source": [
    "# convert the python 2 bytes into python 3 format\n",
    "data_ = []\n",
    "for i in range(len(data2)):\n",
    "    data_.append([])\n",
    "    for j in range(0,6):\n",
    "        data_[i].append(float(data2[i,j]))\n",
    "data2 = np.array(data_)"
   ]
  },
  {
   "cell_type": "code",
   "execution_count": 21,
   "metadata": {},
   "outputs": [],
   "source": [
    "data2_ = []\n",
    "for shower in data2:\n",
    "    if shower[0] in runs_test:\n",
    "        data2_.append(shower)\n",
    "data2 = data2_"
   ]
  },
  {
   "cell_type": "code",
   "execution_count": 22,
   "metadata": {},
   "outputs": [],
   "source": [
    "# look at data logE in (16.0,16.5) and cos(zenith) > 0.9\n",
    "data_ = []\n",
    "for shower in data2:\n",
    "    E_proton = shower[1]\n",
    "    E_iron = shower[2]\n",
    "    E_avg = np.sqrt(E_proton*E_iron) # geometric mean\n",
    "    logE = np.log10(E_avg)\n",
    "    zen = shower[3]\n",
    "    if logE >= 16 and logE <= 16.5 and np.cos(zen) > 0.9:\n",
    "        data_.append(shower[1:])\n",
    "data_trimmed2 = np.array(data_)"
   ]
  },
  {
   "cell_type": "code",
   "execution_count": 23,
   "metadata": {},
   "outputs": [
    {
     "name": "stdout",
     "output_type": "stream",
     "text": [
      "377\n"
     ]
    }
   ],
   "source": [
    "print(len(data_trimmed2))"
   ]
  },
  {
   "cell_type": "code",
   "execution_count": 24,
   "metadata": {},
   "outputs": [],
   "source": [
    "# split into input and target\n",
    "X2 = data_trimmed2[:,0:4]\n",
    "Y2 = data_trimmed2[:,4]"
   ]
  },
  {
   "cell_type": "code",
   "execution_count": 25,
   "metadata": {},
   "outputs": [],
   "source": [
    "x2 = scaler.transform(X2)"
   ]
  },
  {
   "cell_type": "code",
   "execution_count": 26,
   "metadata": {},
   "outputs": [],
   "source": [
    "# use the model to make predictions\n",
    "predictions2 = model1.predict(x2)"
   ]
  },
  {
   "cell_type": "code",
   "execution_count": 27,
   "metadata": {},
   "outputs": [
    {
     "data": {
      "image/png": "[encoded data removed]",
      "text/plain": [
       "<matplotlib.figure.Figure at 0x160a0f5e048>"
      ]
     },
     "metadata": {},
     "output_type": "display_data"
    }
   ],
   "source": [
    "# plot predictions vs true values\n",
    "\n",
    "PREDICTION = predictions2\n",
    "TRUTH      = Y2\n",
    "\n",
    "fig4,ax4 = plt.subplots(1,1,figsize=(5,5))\n",
    "# prediction vs truth\n",
    "ax4.scatter(TRUTH,PREDICTION,marker='.')\n",
    "# line y=x\n",
    "xmax = int(1.1*max(TRUTH)+0.5)\n",
    "x = np.linspace(-1,xmax)\n",
    "ax4.plot(x,x,color='r')\n",
    "# stats\n",
    "rmse = np.sqrt(mean_squared_error(TRUTH,PREDICTION))\n",
    "R2 = r2_score(TRUTH,PREDICTION)\n",
    "ax4.text(0.05,0.93,'RMSE = {0:.3f}'.format(rmse),transform=ax4.transAxes,fontsize=12)\n",
    "ax4.text(0.05,0.865,'$R^2$ = {0:.3f}'.format(R2),transform=ax4.transAxes,fontsize=12)\n",
    "# axes\n",
    "ax4.set_xlabel('True muon signal (VEM)')\n",
    "ax4.set_ylabel('Predicted muon signal (VEM)')\n",
    "ax4.set_xlim(-1,xmax)\n",
    "ax4.set_ylim(-1,xmax)\n",
    "# title\n",
    "fig4.suptitle(r'$log_{10}(\\ E\\ ) \\in (16.0,16.5),\\quad cos(\\theta) > 0.9$')\n",
    "\n",
    "plt.show()"
   ]
  },
  {
   "cell_type": "code",
   "execution_count": 28,
   "metadata": {},
   "outputs": [
    {
     "data": {
      "image/png": "[encoded data removed]",
      "text/plain": [
       "<matplotlib.figure.Figure at 0x160a25d7748>"
      ]
     },
     "metadata": {},
     "output_type": "display_data"
    }
   ],
   "source": [
    "# Plot residuals\n",
    "fig5,ax5=plt.subplots(1,1,figsize=(6,5))\n",
    "residuals2 = [predictions2[i]-Y2[i] for i in range(len(Y2))]\n",
    "ax5.scatter(Y2,residuals2,marker='.')\n",
    "x = np.linspace(0,40)\n",
    "ax5.plot(x,0*x,color='black')\n",
    "ax5.set_xlim(0,40)\n",
    "ax5.set_ylabel('Residual')\n",
    "ax5.set_xlabel('True muon signal (VEM)')\n",
    "fig5.suptitle(\"Sum: {0:.3f}\".format(sum(residuals1)[0]))\n",
    "plt.show()"
   ]
  },
  {
   "cell_type": "code",
   "execution_count": null,
   "metadata": {},
   "outputs": [],
   "source": []
  }
 ],
 "metadata": {
  "kernelspec": {
   "display_name": "Python 3",
   "language": "python",
   "name": "python3"
  },
  "language_info": {
   "codemirror_mode": {
    "name": "ipython",
    "version": 3
   },
   "file_extension": ".py",
   "mimetype": "text/x-python",
   "name": "python",
   "nbconvert_exporter": "python",
   "pygments_lexer": "ipython3",
   "version": "3.6.4"
  }
 },
 "nbformat": 4,
 "nbformat_minor": 2
}
