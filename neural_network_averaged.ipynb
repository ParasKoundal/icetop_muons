{
 "cells": [
  {
   "cell_type": "markdown",
   "metadata": {},
   "source": [
    "## Neural network to predict muon signal for averaged showers"
   ]
  },
  {
   "cell_type": "code",
   "execution_count": 18,
   "metadata": {},
   "outputs": [],
   "source": [
    "import numpy as np\n",
    "\n",
    "from sklearn.model_selection import train_test_split\n",
    "from sklearn.preprocessing import StandardScaler\n",
    "from keras.models import Sequential\n",
    "from keras.layers import Dense\n",
    "\n",
    "import matplotlib.pyplot as plt\n",
    "from sklearn.metrics import mean_squared_error,r2_score"
   ]
  },
  {
   "cell_type": "code",
   "execution_count": 2,
   "metadata": {},
   "outputs": [],
   "source": [
    "np.random.seed(11)"
   ]
  },
  {
   "cell_type": "code",
   "execution_count": 3,
   "metadata": {},
   "outputs": [],
   "source": [
    "# This data was averaged for each run\n",
    "# Columns: Run, E_proton, E_iron, Zen, Q400, MuonVEM, nMuon, Type\n",
    "# Note that right now, nMuon is useless\n",
    "data = np.load('./data/NN_data_400m_avg.npy')"
   ]
  },
  {
   "cell_type": "code",
   "execution_count": 4,
   "metadata": {},
   "outputs": [],
   "source": [
    "# convert the python 2 bytes into python 3 format\n",
    "data_ = []\n",
    "for i in range(len(data)):\n",
    "    data_.append([])\n",
    "    for j in range(0,7):\n",
    "        data_[i].append(float(data[i,j]))\n",
    "data = np.array(data_)"
   ]
  },
  {
   "cell_type": "code",
   "execution_count": 5,
   "metadata": {},
   "outputs": [],
   "source": [
    "# look at data logE in (16.0,16.5) and cos(zenith) > 0.9\n",
    "data_ = []\n",
    "for shower in data:\n",
    "    E_proton = shower[1]\n",
    "    E_iron = shower[2]\n",
    "    E_avg = np.sqrt(E_proton*E_iron) # geometric mean\n",
    "    logE = np.log10(E_avg)\n",
    "    zen = shower[3]\n",
    "    if logE >= 16 and logE <= 16.5 and np.cos(zen) > 0.9:\n",
    "        data_.append(shower)\n",
    "data_trimmed = np.array(data_)"
   ]
  },
  {
   "cell_type": "code",
   "execution_count": 6,
   "metadata": {},
   "outputs": [
    {
     "name": "stdout",
     "output_type": "stream",
     "text": [
      "454\n"
     ]
    }
   ],
   "source": [
    "print(len(data_trimmed))"
   ]
  },
  {
   "cell_type": "code",
   "execution_count": 7,
   "metadata": {},
   "outputs": [],
   "source": [
    "# split into input and target\n",
    "X = data_trimmed[:,0:5]\n",
    "Y = data_trimmed[:,5]"
   ]
  },
  {
   "cell_type": "code",
   "execution_count": 8,
   "metadata": {},
   "outputs": [],
   "source": [
    "# split the data into test and training set\n",
    "x_train, x_test, y_train, y_test = train_test_split(X,Y)"
   ]
  },
  {
   "cell_type": "code",
   "execution_count": 9,
   "metadata": {},
   "outputs": [],
   "source": [
    "runs_train = x_train[:,0]\n",
    "runs_test  = x_test[:,0]\n",
    "\n",
    "x_train = np.delete(x_train,0,axis=1)\n",
    "x_test  = np.delete(x_test,0,axis=1)"
   ]
  },
  {
   "cell_type": "code",
   "execution_count": 10,
   "metadata": {},
   "outputs": [
    {
     "data": {
      "text/plain": [
       "StandardScaler(copy=True, with_mean=True, with_std=True)"
      ]
     },
     "execution_count": 10,
     "metadata": {},
     "output_type": "execute_result"
    }
   ],
   "source": [
    "# normalize the data because the network will be sensitive\n",
    "# to relative magnitudes\n",
    "scaler = StandardScaler()\n",
    "scaler.fit(x_train)"
   ]
  },
  {
   "cell_type": "code",
   "execution_count": 11,
   "metadata": {},
   "outputs": [],
   "source": [
    "# apply the scaler to the sets\n",
    "x_train = scaler.transform(x_train)\n",
    "x_test  = scaler.transform(x_test)"
   ]
  },
  {
   "cell_type": "code",
   "execution_count": 12,
   "metadata": {},
   "outputs": [],
   "source": [
    "# create model\n",
    "model1 = Sequential()\n",
    "model1.add(Dense(4,input_dim=4,activation='relu'))\n",
    "model1.add(Dense(4,activation='relu'))\n",
    "model1.add(Dense(1,activation=None))"
   ]
  },
  {
   "cell_type": "code",
   "execution_count": 13,
   "metadata": {},
   "outputs": [],
   "source": [
    "# compile model\n",
    "# loss function: mean square log error\n",
    "# metric: mean absolute percentage error\n",
    "model1.compile(loss='msle',optimizer='adam',metrics=['mape','mse'])"
   ]
  },
  {
   "cell_type": "code",
   "execution_count": 14,
   "metadata": {},
   "outputs": [
    {
     "name": "stdout",
     "output_type": "stream",
     "text": [
      "Epoch 1/150\n",
      "340/340 [==============================] - 0s 1ms/step - loss: 5.8637 - mean_absolute_percentage_error: 110.1782 - mean_squared_error: 179.3322\n",
      "Epoch 2/150\n",
      "340/340 [==============================] - 0s 116us/step - loss: 5.5973 - mean_absolute_percentage_error: 108.7370 - mean_squared_error: 175.6202\n",
      "Epoch 3/150\n",
      "340/340 [==============================] - 0s 139us/step - loss: 5.3022 - mean_absolute_percentage_error: 107.1013 - mean_squared_error: 171.2572\n",
      "Epoch 4/150\n",
      "340/340 [==============================] - 0s 141us/step - loss: 5.0246 - mean_absolute_percentage_error: 105.4662 - mean_squared_error: 167.0703\n",
      "Epoch 5/150\n",
      "340/340 [==============================] - 0s 180us/step - loss: 4.7686 - mean_absolute_percentage_error: 103.8453 - mean_squared_error: 162.7205\n",
      "Epoch 6/150\n",
      "340/340 [==============================] - 0s 187us/step - loss: 4.5373 - mean_absolute_percentage_error: 102.1193 - mean_squared_error: 158.3501\n",
      "Epoch 7/150\n",
      "340/340 [==============================] - 0s 176us/step - loss: 4.3077 - mean_absolute_percentage_error: 100.0286 - mean_squared_error: 153.6610\n",
      "Epoch 8/150\n",
      "340/340 [==============================] - 0s 192us/step - loss: 4.0856 - mean_absolute_percentage_error: 97.8269 - mean_squared_error: 148.8331\n",
      "Epoch 9/150\n",
      "340/340 [==============================] - 0s 178us/step - loss: 3.8553 - mean_absolute_percentage_error: 95.5775 - mean_squared_error: 143.7032\n",
      "Epoch 10/150\n",
      "340/340 [==============================] - 0s 193us/step - loss: 3.6130 - mean_absolute_percentage_error: 93.2066 - mean_squared_error: 138.6151\n",
      "Epoch 11/150\n",
      "340/340 [==============================] - 0s 185us/step - loss: 3.2983 - mean_absolute_percentage_error: 90.5439 - mean_squared_error: 133.1282\n",
      "Epoch 12/150\n",
      "340/340 [==============================] - 0s 191us/step - loss: 2.9085 - mean_absolute_percentage_error: 88.0831 - mean_squared_error: 127.6792\n",
      "Epoch 13/150\n",
      "340/340 [==============================] - 0s 180us/step - loss: 2.6694 - mean_absolute_percentage_error: 86.4044 - mean_squared_error: 122.9594\n",
      "Epoch 14/150\n",
      "340/340 [==============================] - 0s 193us/step - loss: 2.4669 - mean_absolute_percentage_error: 84.8360 - mean_squared_error: 118.5235\n",
      "Epoch 15/150\n",
      "340/340 [==============================] - 0s 198us/step - loss: 2.2328 - mean_absolute_percentage_error: 82.9166 - mean_squared_error: 113.4702\n",
      "Epoch 16/150\n",
      "340/340 [==============================] - 0s 185us/step - loss: 1.9590 - mean_absolute_percentage_error: 80.2301 - mean_squared_error: 107.8729\n",
      "Epoch 17/150\n",
      "340/340 [==============================] - 0s 185us/step - loss: 1.6709 - mean_absolute_percentage_error: 76.8584 - mean_squared_error: 101.8066\n",
      "Epoch 18/150\n",
      "340/340 [==============================] - 0s 138us/step - loss: 1.4006 - mean_absolute_percentage_error: 72.7909 - mean_squared_error: 94.4261\n",
      "Epoch 19/150\n",
      "340/340 [==============================] - 0s 127us/step - loss: 1.1717 - mean_absolute_percentage_error: 68.5178 - mean_squared_error: 86.7610\n",
      "Epoch 20/150\n",
      "340/340 [==============================] - 0s 129us/step - loss: 0.9786 - mean_absolute_percentage_error: 64.1360 - mean_squared_error: 79.3075\n",
      "Epoch 21/150\n",
      "340/340 [==============================] - 0s 182us/step - loss: 0.8210 - mean_absolute_percentage_error: 60.1101 - mean_squared_error: 72.3966\n",
      "Epoch 22/150\n",
      "340/340 [==============================] - 0s 191us/step - loss: 0.6929 - mean_absolute_percentage_error: 55.8626 - mean_squared_error: 66.1087\n",
      "Epoch 23/150\n",
      "340/340 [==============================] - 0s 186us/step - loss: 0.5903 - mean_absolute_percentage_error: 52.8249 - mean_squared_error: 60.1195\n",
      "Epoch 24/150\n",
      "340/340 [==============================] - 0s 205us/step - loss: 0.5085 - mean_absolute_percentage_error: 50.0112 - mean_squared_error: 54.8699\n",
      "Epoch 25/150\n",
      "340/340 [==============================] - 0s 193us/step - loss: 0.4444 - mean_absolute_percentage_error: 47.8994 - mean_squared_error: 50.2934\n",
      "Epoch 26/150\n",
      "340/340 [==============================] - 0s 194us/step - loss: 0.3926 - mean_absolute_percentage_error: 46.2592 - mean_squared_error: 46.1103\n",
      "Epoch 27/150\n",
      "340/340 [==============================] - 0s 201us/step - loss: 0.3520 - mean_absolute_percentage_error: 45.2534 - mean_squared_error: 42.5381\n",
      "Epoch 28/150\n",
      "340/340 [==============================] - 0s 183us/step - loss: 0.3184 - mean_absolute_percentage_error: 44.1311 - mean_squared_error: 39.3268\n",
      "Epoch 29/150\n",
      "340/340 [==============================] - 0s 193us/step - loss: 0.2914 - mean_absolute_percentage_error: 43.5396 - mean_squared_error: 36.6535\n",
      "Epoch 30/150\n",
      "340/340 [==============================] - 0s 193us/step - loss: 0.2683 - mean_absolute_percentage_error: 42.8270 - mean_squared_error: 34.1112\n",
      "Epoch 31/150\n",
      "340/340 [==============================] - 0s 185us/step - loss: 0.2491 - mean_absolute_percentage_error: 42.0933 - mean_squared_error: 31.9603\n",
      "Epoch 32/150\n",
      "340/340 [==============================] - 0s 188us/step - loss: 0.2327 - mean_absolute_percentage_error: 41.3881 - mean_squared_error: 30.0674\n",
      "Epoch 33/150\n",
      "340/340 [==============================] - 0s 199us/step - loss: 0.2180 - mean_absolute_percentage_error: 40.7291 - mean_squared_error: 28.2508\n",
      "Epoch 34/150\n",
      "340/340 [==============================] - 0s 185us/step - loss: 0.2057 - mean_absolute_percentage_error: 40.0438 - mean_squared_error: 26.6952\n",
      "Epoch 35/150\n",
      "340/340 [==============================] - 0s 192us/step - loss: 0.1939 - mean_absolute_percentage_error: 39.3166 - mean_squared_error: 25.2456\n",
      "Epoch 36/150\n",
      "340/340 [==============================] - 0s 185us/step - loss: 0.1838 - mean_absolute_percentage_error: 38.6483 - mean_squared_error: 23.8954\n",
      "Epoch 37/150\n",
      "340/340 [==============================] - 0s 179us/step - loss: 0.1744 - mean_absolute_percentage_error: 37.9324 - mean_squared_error: 22.7078\n",
      "Epoch 38/150\n",
      "340/340 [==============================] - 0s 184us/step - loss: 0.1656 - mean_absolute_percentage_error: 37.1875 - mean_squared_error: 21.5564\n",
      "Epoch 39/150\n",
      "340/340 [==============================] - 0s 199us/step - loss: 0.1580 - mean_absolute_percentage_error: 36.4400 - mean_squared_error: 20.5545\n",
      "Epoch 40/150\n",
      "340/340 [==============================] - 0s 191us/step - loss: 0.1505 - mean_absolute_percentage_error: 35.7740 - mean_squared_error: 19.5856\n",
      "Epoch 41/150\n",
      "340/340 [==============================] - 0s 182us/step - loss: 0.1437 - mean_absolute_percentage_error: 35.0765 - mean_squared_error: 18.6836\n",
      "Epoch 42/150\n",
      "340/340 [==============================] - 0s 185us/step - loss: 0.1374 - mean_absolute_percentage_error: 34.3181 - mean_squared_error: 17.8625\n",
      "Epoch 43/150\n",
      "340/340 [==============================] - 0s 188us/step - loss: 0.1317 - mean_absolute_percentage_error: 33.6505 - mean_squared_error: 17.1429\n",
      "Epoch 44/150\n",
      "340/340 [==============================] - 0s 149us/step - loss: 0.1261 - mean_absolute_percentage_error: 32.8985 - mean_squared_error: 16.4583\n",
      "Epoch 45/150\n",
      "340/340 [==============================] - 0s 151us/step - loss: 0.1210 - mean_absolute_percentage_error: 32.2203 - mean_squared_error: 15.8382\n",
      "Epoch 46/150\n",
      "340/340 [==============================] - 0s 136us/step - loss: 0.1162 - mean_absolute_percentage_error: 31.5646 - mean_squared_error: 15.2228\n",
      "Epoch 47/150\n",
      "340/340 [==============================] - 0s 149us/step - loss: 0.1116 - mean_absolute_percentage_error: 30.9398 - mean_squared_error: 14.6721\n",
      "Epoch 48/150\n",
      "340/340 [==============================] - 0s 150us/step - loss: 0.1074 - mean_absolute_percentage_error: 30.2839 - mean_squared_error: 14.1762\n",
      "Epoch 49/150\n",
      "340/340 [==============================] - 0s 153us/step - loss: 0.1031 - mean_absolute_percentage_error: 29.6653 - mean_squared_error: 13.6554\n",
      "Epoch 50/150\n",
      "340/340 [==============================] - 0s 179us/step - loss: 0.0993 - mean_absolute_percentage_error: 29.0612 - mean_squared_error: 13.1820\n",
      "Epoch 51/150\n",
      "340/340 [==============================] - 0s 182us/step - loss: 0.0956 - mean_absolute_percentage_error: 28.4347 - mean_squared_error: 12.7551\n",
      "Epoch 52/150\n",
      "340/340 [==============================] - 0s 189us/step - loss: 0.0921 - mean_absolute_percentage_error: 27.8635 - mean_squared_error: 12.3467\n",
      "Epoch 53/150\n"
     ]
    },
    {
     "name": "stdout",
     "output_type": "stream",
     "text": [
      "340/340 [==============================] - 0s 175us/step - loss: 0.0889 - mean_absolute_percentage_error: 27.3455 - mean_squared_error: 11.9631\n",
      "Epoch 54/150\n",
      "340/340 [==============================] - 0s 177us/step - loss: 0.0859 - mean_absolute_percentage_error: 26.8909 - mean_squared_error: 11.6213\n",
      "Epoch 55/150\n",
      "340/340 [==============================] - 0s 174us/step - loss: 0.0829 - mean_absolute_percentage_error: 26.2820 - mean_squared_error: 11.2849\n",
      "Epoch 56/150\n",
      "340/340 [==============================] - 0s 190us/step - loss: 0.0802 - mean_absolute_percentage_error: 25.7752 - mean_squared_error: 10.9896\n",
      "Epoch 57/150\n",
      "340/340 [==============================] - 0s 187us/step - loss: 0.0778 - mean_absolute_percentage_error: 25.3605 - mean_squared_error: 10.7048\n",
      "Epoch 58/150\n",
      "340/340 [==============================] - 0s 179us/step - loss: 0.0754 - mean_absolute_percentage_error: 24.8600 - mean_squared_error: 10.4182\n",
      "Epoch 59/150\n",
      "340/340 [==============================] - 0s 194us/step - loss: 0.0732 - mean_absolute_percentage_error: 24.4595 - mean_squared_error: 10.1544\n",
      "Epoch 60/150\n",
      "340/340 [==============================] - 0s 193us/step - loss: 0.0711 - mean_absolute_percentage_error: 24.0940 - mean_squared_error: 9.9160\n",
      "Epoch 61/150\n",
      "340/340 [==============================] - 0s 185us/step - loss: 0.0691 - mean_absolute_percentage_error: 23.7204 - mean_squared_error: 9.6897\n",
      "Epoch 62/150\n",
      "340/340 [==============================] - 0s 190us/step - loss: 0.0673 - mean_absolute_percentage_error: 23.2629 - mean_squared_error: 9.5075\n",
      "Epoch 63/150\n",
      "340/340 [==============================] - 0s 191us/step - loss: 0.0656 - mean_absolute_percentage_error: 22.9651 - mean_squared_error: 9.3143\n",
      "Epoch 64/150\n",
      "340/340 [==============================] - 0s 194us/step - loss: 0.0640 - mean_absolute_percentage_error: 22.6480 - mean_squared_error: 9.1529\n",
      "Epoch 65/150\n",
      "340/340 [==============================] - 0s 194us/step - loss: 0.0625 - mean_absolute_percentage_error: 22.3886 - mean_squared_error: 8.9719\n",
      "Epoch 66/150\n",
      "340/340 [==============================] - 0s 179us/step - loss: 0.0610 - mean_absolute_percentage_error: 22.0482 - mean_squared_error: 8.8238\n",
      "Epoch 67/150\n",
      "340/340 [==============================] - 0s 174us/step - loss: 0.0598 - mean_absolute_percentage_error: 21.8272 - mean_squared_error: 8.6761\n",
      "Epoch 68/150\n",
      "340/340 [==============================] - 0s 183us/step - loss: 0.0586 - mean_absolute_percentage_error: 21.6584 - mean_squared_error: 8.5142\n",
      "Epoch 69/150\n",
      "340/340 [==============================] - 0s 139us/step - loss: 0.0575 - mean_absolute_percentage_error: 21.5056 - mean_squared_error: 8.3834\n",
      "Epoch 70/150\n",
      "340/340 [==============================] - 0s 176us/step - loss: 0.0563 - mean_absolute_percentage_error: 21.2226 - mean_squared_error: 8.2529\n",
      "Epoch 71/150\n",
      "340/340 [==============================] - 0s 191us/step - loss: 0.0553 - mean_absolute_percentage_error: 21.0084 - mean_squared_error: 8.1416\n",
      "Epoch 72/150\n",
      "340/340 [==============================] - 0s 184us/step - loss: 0.0542 - mean_absolute_percentage_error: 20.7314 - mean_squared_error: 8.0266\n",
      "Epoch 73/150\n",
      "340/340 [==============================] - 0s 187us/step - loss: 0.0533 - mean_absolute_percentage_error: 20.5096 - mean_squared_error: 7.9197\n",
      "Epoch 74/150\n",
      "340/340 [==============================] - 0s 193us/step - loss: 0.0523 - mean_absolute_percentage_error: 20.3347 - mean_squared_error: 7.7915\n",
      "Epoch 75/150\n",
      "340/340 [==============================] - 0s 186us/step - loss: 0.0514 - mean_absolute_percentage_error: 20.1480 - mean_squared_error: 7.6743\n",
      "Epoch 76/150\n",
      "340/340 [==============================] - 0s 152us/step - loss: 0.0506 - mean_absolute_percentage_error: 19.9573 - mean_squared_error: 7.5669\n",
      "Epoch 77/150\n",
      "340/340 [==============================] - 0s 123us/step - loss: 0.0497 - mean_absolute_percentage_error: 19.7403 - mean_squared_error: 7.4678\n",
      "Epoch 78/150\n",
      "340/340 [==============================] - 0s 136us/step - loss: 0.0488 - mean_absolute_percentage_error: 19.5963 - mean_squared_error: 7.3398\n",
      "Epoch 79/150\n",
      "340/340 [==============================] - 0s 187us/step - loss: 0.0482 - mean_absolute_percentage_error: 19.4115 - mean_squared_error: 7.2582\n",
      "Epoch 80/150\n",
      "340/340 [==============================] - 0s 184us/step - loss: 0.0474 - mean_absolute_percentage_error: 19.2832 - mean_squared_error: 7.1485\n",
      "Epoch 81/150\n",
      "340/340 [==============================] - 0s 184us/step - loss: 0.0466 - mean_absolute_percentage_error: 19.1166 - mean_squared_error: 7.0385\n",
      "Epoch 82/150\n",
      "340/340 [==============================] - 0s 203us/step - loss: 0.0459 - mean_absolute_percentage_error: 18.9199 - mean_squared_error: 6.9602\n",
      "Epoch 83/150\n",
      "340/340 [==============================] - 0s 175us/step - loss: 0.0453 - mean_absolute_percentage_error: 18.8116 - mean_squared_error: 6.8671\n",
      "Epoch 84/150\n",
      "340/340 [==============================] - 0s 184us/step - loss: 0.0446 - mean_absolute_percentage_error: 18.6233 - mean_squared_error: 6.7907\n",
      "Epoch 85/150\n",
      "340/340 [==============================] - 0s 183us/step - loss: 0.0441 - mean_absolute_percentage_error: 18.5906 - mean_squared_error: 6.6822\n",
      "Epoch 86/150\n",
      "340/340 [==============================] - 0s 179us/step - loss: 0.0434 - mean_absolute_percentage_error: 18.2941 - mean_squared_error: 6.6285\n",
      "Epoch 87/150\n",
      "340/340 [==============================] - 0s 203us/step - loss: 0.0427 - mean_absolute_percentage_error: 18.2274 - mean_squared_error: 6.5377\n",
      "Epoch 88/150\n",
      "340/340 [==============================] - 0s 183us/step - loss: 0.0421 - mean_absolute_percentage_error: 17.9943 - mean_squared_error: 6.4819\n",
      "Epoch 89/150\n",
      "340/340 [==============================] - 0s 174us/step - loss: 0.0415 - mean_absolute_percentage_error: 17.9074 - mean_squared_error: 6.4060\n",
      "Epoch 90/150\n",
      "340/340 [==============================] - 0s 183us/step - loss: 0.0410 - mean_absolute_percentage_error: 17.8507 - mean_squared_error: 6.3317\n",
      "Epoch 91/150\n",
      "340/340 [==============================] - 0s 184us/step - loss: 0.0405 - mean_absolute_percentage_error: 17.6539 - mean_squared_error: 6.2838\n",
      "Epoch 92/150\n",
      "340/340 [==============================] - 0s 189us/step - loss: 0.0400 - mean_absolute_percentage_error: 17.5760 - mean_squared_error: 6.2109\n",
      "Epoch 93/150\n",
      "340/340 [==============================] - 0s 190us/step - loss: 0.0395 - mean_absolute_percentage_error: 17.3440 - mean_squared_error: 6.1699\n",
      "Epoch 94/150\n",
      "340/340 [==============================] - 0s 193us/step - loss: 0.0390 - mean_absolute_percentage_error: 17.4125 - mean_squared_error: 6.0855\n",
      "Epoch 95/150\n",
      "340/340 [==============================] - 0s 162us/step - loss: 0.0386 - mean_absolute_percentage_error: 17.2085 - mean_squared_error: 6.0562\n",
      "Epoch 96/150\n",
      "340/340 [==============================] - 0s 174us/step - loss: 0.0382 - mean_absolute_percentage_error: 17.1680 - mean_squared_error: 6.0024\n",
      "Epoch 97/150\n",
      "340/340 [==============================] - 0s 141us/step - loss: 0.0377 - mean_absolute_percentage_error: 16.9419 - mean_squared_error: 5.9722\n",
      "Epoch 98/150\n",
      "340/340 [==============================] - 0s 192us/step - loss: 0.0374 - mean_absolute_percentage_error: 16.9024 - mean_squared_error: 5.9183\n",
      "Epoch 99/150\n",
      "340/340 [==============================] - 0s 179us/step - loss: 0.0370 - mean_absolute_percentage_error: 16.8370 - mean_squared_error: 5.8782\n",
      "Epoch 100/150\n",
      "340/340 [==============================] - 0s 192us/step - loss: 0.0367 - mean_absolute_percentage_error: 16.7625 - mean_squared_error: 5.8338\n",
      "Epoch 101/150\n",
      "340/340 [==============================] - 0s 181us/step - loss: 0.0364 - mean_absolute_percentage_error: 16.6703 - mean_squared_error: 5.8135\n",
      "Epoch 102/150\n",
      "340/340 [==============================] - 0s 187us/step - loss: 0.0360 - mean_absolute_percentage_error: 16.5885 - mean_squared_error: 5.7790\n",
      "Epoch 103/150\n",
      "340/340 [==============================] - 0s 170us/step - loss: 0.0358 - mean_absolute_percentage_error: 16.6208 - mean_squared_error: 5.7389\n",
      "Epoch 104/150\n",
      "340/340 [==============================] - 0s 175us/step - loss: 0.0354 - mean_absolute_percentage_error: 16.5070 - mean_squared_error: 5.7067\n",
      "Epoch 105/150\n"
     ]
    },
    {
     "name": "stdout",
     "output_type": "stream",
     "text": [
      "340/340 [==============================] - 0s 197us/step - loss: 0.0351 - mean_absolute_percentage_error: 16.3338 - mean_squared_error: 5.6930\n",
      "Epoch 106/150\n",
      "340/340 [==============================] - 0s 183us/step - loss: 0.0351 - mean_absolute_percentage_error: 16.4843 - mean_squared_error: 5.6650\n",
      "Epoch 107/150\n",
      "340/340 [==============================] - 0s 197us/step - loss: 0.0346 - mean_absolute_percentage_error: 16.2255 - mean_squared_error: 5.6309\n",
      "Epoch 108/150\n",
      "340/340 [==============================] - 0s 183us/step - loss: 0.0345 - mean_absolute_percentage_error: 16.2741 - mean_squared_error: 5.5994\n",
      "Epoch 109/150\n",
      "340/340 [==============================] - 0s 176us/step - loss: 0.0341 - mean_absolute_percentage_error: 16.1388 - mean_squared_error: 5.5762\n",
      "Epoch 110/150\n",
      "340/340 [==============================] - 0s 196us/step - loss: 0.0340 - mean_absolute_percentage_error: 16.0433 - mean_squared_error: 5.5799\n",
      "Epoch 111/150\n",
      "340/340 [==============================] - 0s 195us/step - loss: 0.0337 - mean_absolute_percentage_error: 15.9734 - mean_squared_error: 5.5546\n",
      "Epoch 112/150\n",
      "340/340 [==============================] - 0s 182us/step - loss: 0.0336 - mean_absolute_percentage_error: 16.0933 - mean_squared_error: 5.5271\n",
      "Epoch 113/150\n",
      "340/340 [==============================] - 0s 179us/step - loss: 0.0335 - mean_absolute_percentage_error: 15.9958 - mean_squared_error: 5.5292\n",
      "Epoch 114/150\n",
      "340/340 [==============================] - 0s 188us/step - loss: 0.0333 - mean_absolute_percentage_error: 15.8391 - mean_squared_error: 5.5250\n",
      "Epoch 115/150\n",
      "340/340 [==============================] - 0s 173us/step - loss: 0.0332 - mean_absolute_percentage_error: 15.9629 - mean_squared_error: 5.4992\n",
      "Epoch 116/150\n",
      "340/340 [==============================] - 0s 178us/step - loss: 0.0330 - mean_absolute_percentage_error: 15.9505 - mean_squared_error: 5.4817\n",
      "Epoch 117/150\n",
      "340/340 [==============================] - 0s 193us/step - loss: 0.0330 - mean_absolute_percentage_error: 15.8328 - mean_squared_error: 5.4789\n",
      "Epoch 118/150\n",
      "340/340 [==============================] - 0s 177us/step - loss: 0.0328 - mean_absolute_percentage_error: 15.8822 - mean_squared_error: 5.4539\n",
      "Epoch 119/150\n",
      "340/340 [==============================] - 0s 179us/step - loss: 0.0327 - mean_absolute_percentage_error: 15.7842 - mean_squared_error: 5.4502\n",
      "Epoch 120/150\n",
      "340/340 [==============================] - 0s 182us/step - loss: 0.0325 - mean_absolute_percentage_error: 15.8523 - mean_squared_error: 5.4410\n",
      "Epoch 121/150\n",
      "340/340 [==============================] - 0s 177us/step - loss: 0.0324 - mean_absolute_percentage_error: 15.7980 - mean_squared_error: 5.4174\n",
      "Epoch 122/150\n",
      "340/340 [==============================] - 0s 172us/step - loss: 0.0322 - mean_absolute_percentage_error: 15.6907 - mean_squared_error: 5.4061\n",
      "Epoch 123/150\n",
      "340/340 [==============================] - 0s 192us/step - loss: 0.0321 - mean_absolute_percentage_error: 15.7359 - mean_squared_error: 5.3966\n",
      "Epoch 124/150\n",
      "340/340 [==============================] - 0s 185us/step - loss: 0.0320 - mean_absolute_percentage_error: 15.6108 - mean_squared_error: 5.3922\n",
      "Epoch 125/150\n",
      "340/340 [==============================] - 0s 184us/step - loss: 0.0320 - mean_absolute_percentage_error: 15.6276 - mean_squared_error: 5.3784\n",
      "Epoch 126/150\n",
      "340/340 [==============================] - 0s 177us/step - loss: 0.0318 - mean_absolute_percentage_error: 15.6317 - mean_squared_error: 5.3606\n",
      "Epoch 127/150\n",
      "340/340 [==============================] - 0s 183us/step - loss: 0.0317 - mean_absolute_percentage_error: 15.6792 - mean_squared_error: 5.3481\n",
      "Epoch 128/150\n",
      "340/340 [==============================] - 0s 190us/step - loss: 0.0316 - mean_absolute_percentage_error: 15.6591 - mean_squared_error: 5.3364\n",
      "Epoch 129/150\n",
      "340/340 [==============================] - 0s 189us/step - loss: 0.0314 - mean_absolute_percentage_error: 15.5266 - mean_squared_error: 5.3302\n",
      "Epoch 130/150\n",
      "340/340 [==============================] - 0s 177us/step - loss: 0.0314 - mean_absolute_percentage_error: 15.5847 - mean_squared_error: 5.3164\n",
      "Epoch 131/150\n",
      "340/340 [==============================] - 0s 186us/step - loss: 0.0312 - mean_absolute_percentage_error: 15.5307 - mean_squared_error: 5.3027\n",
      "Epoch 132/150\n",
      "340/340 [==============================] - 0s 180us/step - loss: 0.0312 - mean_absolute_percentage_error: 15.5081 - mean_squared_error: 5.2983\n",
      "Epoch 133/150\n",
      "340/340 [==============================] - 0s 181us/step - loss: 0.0311 - mean_absolute_percentage_error: 15.5255 - mean_squared_error: 5.2889\n",
      "Epoch 134/150\n",
      "340/340 [==============================] - 0s 188us/step - loss: 0.0310 - mean_absolute_percentage_error: 15.5107 - mean_squared_error: 5.2710\n",
      "Epoch 135/150\n",
      "340/340 [==============================] - 0s 187us/step - loss: 0.0309 - mean_absolute_percentage_error: 15.4776 - mean_squared_error: 5.2798\n",
      "Epoch 136/150\n",
      "340/340 [==============================] - 0s 185us/step - loss: 0.0309 - mean_absolute_percentage_error: 15.5414 - mean_squared_error: 5.2600\n",
      "Epoch 137/150\n",
      "340/340 [==============================] - 0s 178us/step - loss: 0.0308 - mean_absolute_percentage_error: 15.4721 - mean_squared_error: 5.2544\n",
      "Epoch 138/150\n",
      "340/340 [==============================] - 0s 178us/step - loss: 0.0307 - mean_absolute_percentage_error: 15.3031 - mean_squared_error: 5.2627\n",
      "Epoch 139/150\n",
      "340/340 [==============================] - 0s 201us/step - loss: 0.0307 - mean_absolute_percentage_error: 15.4336 - mean_squared_error: 5.2388\n",
      "Epoch 140/150\n",
      "340/340 [==============================] - 0s 200us/step - loss: 0.0305 - mean_absolute_percentage_error: 15.3819 - mean_squared_error: 5.2325\n",
      "Epoch 141/150\n",
      "340/340 [==============================] - 0s 169us/step - loss: 0.0305 - mean_absolute_percentage_error: 15.4003 - mean_squared_error: 5.2300\n",
      "Epoch 142/150\n",
      "340/340 [==============================] - 0s 137us/step - loss: 0.0303 - mean_absolute_percentage_error: 15.3654 - mean_squared_error: 5.2070\n",
      "Epoch 143/150\n",
      "340/340 [==============================] - 0s 147us/step - loss: 0.0303 - mean_absolute_percentage_error: 15.3397 - mean_squared_error: 5.1997\n",
      "Epoch 144/150\n",
      "340/340 [==============================] - 0s 143us/step - loss: 0.0304 - mean_absolute_percentage_error: 15.2668 - mean_squared_error: 5.2131\n",
      "Epoch 145/150\n",
      "340/340 [==============================] - 0s 179us/step - loss: 0.0302 - mean_absolute_percentage_error: 15.4524 - mean_squared_error: 5.1996\n",
      "Epoch 146/150\n",
      "340/340 [==============================] - 0s 166us/step - loss: 0.0302 - mean_absolute_percentage_error: 15.3457 - mean_squared_error: 5.1976\n",
      "Epoch 147/150\n",
      "340/340 [==============================] - 0s 181us/step - loss: 0.0300 - mean_absolute_percentage_error: 15.2869 - mean_squared_error: 5.1830\n",
      "Epoch 148/150\n",
      "340/340 [==============================] - 0s 178us/step - loss: 0.0300 - mean_absolute_percentage_error: 15.2462 - mean_squared_error: 5.1788\n",
      "Epoch 149/150\n",
      "340/340 [==============================] - 0s 185us/step - loss: 0.0300 - mean_absolute_percentage_error: 15.3504 - mean_squared_error: 5.1651\n",
      "Epoch 150/150\n",
      "340/340 [==============================] - 0s 192us/step - loss: 0.0298 - mean_absolute_percentage_error: 15.2137 - mean_squared_error: 5.1593\n"
     ]
    }
   ],
   "source": [
    "# fit the model to the data\n",
    "history1 = model1.fit(x_train,y_train,epochs=150,batch_size=10)"
   ]
  },
  {
   "cell_type": "code",
   "execution_count": 15,
   "metadata": {},
   "outputs": [
    {
     "data": {
      "image/png": "[encoded data removed]",
      "text/plain": [
       "<matplotlib.figure.Figure at 0x19f4d11fc50>"
      ]
     },
     "metadata": {},
     "output_type": "display_data"
    }
   ],
   "source": [
    "# plot the metrics vs epoch number\n",
    "\n",
    "fig1,ax1 = plt.subplots(1,1,figsize=(6,5))\n",
    "ax1.plot(history1.history['mean_absolute_percentage_error'],color='green')\n",
    "ax1.set_xlabel('Epoch')\n",
    "ax1.set_ylabel('Mean absolute percentage error',color='green')\n",
    "ax1.tick_params(axis='y', labelcolor='green')\n",
    "\n",
    "ax1_ = ax1.twinx()\n",
    "ax1_.plot(history1.history['mean_squared_error'],color='blue')\n",
    "ax1_.set_ylabel('Mean squared error',color='blue')\n",
    "ax1_.tick_params(axis='y', labelcolor='blue')\n",
    "plt.show()"
   ]
  },
  {
   "cell_type": "code",
   "execution_count": 16,
   "metadata": {},
   "outputs": [],
   "source": [
    "# use the model to make predictions\n",
    "predictions1 = model1.predict(x_test)"
   ]
  },
  {
   "cell_type": "code",
   "execution_count": 20,
   "metadata": {},
   "outputs": [
    {
     "data": {
      "image/png": "[encoded data removed]",
      "text/plain": [
       "<matplotlib.figure.Figure at 0x19f4e393320>"
      ]
     },
     "metadata": {},
     "output_type": "display_data"
    }
   ],
   "source": [
    "# plot predictions vs true values\n",
    "\n",
    "PREDICTION = predictions1\n",
    "TRUTH      = y_test\n",
    "\n",
    "fig2,ax2 = plt.subplots(1,1,figsize=(5,5))\n",
    "# prediction vs truth\n",
    "ax2.scatter(TRUTH,PREDICTION,marker='.')\n",
    "# line y=x\n",
    "xmax = int(1.1*max(TRUTH)+0.5)\n",
    "x = np.linspace(-1,xmax)\n",
    "ax2.plot(x,x,color='r')\n",
    "# stats\n",
    "R2 = r2_score(TRUTH,PREDICTION)\n",
    "rmse = np.sqrt(mean_squared_error(TRUTH,PREDICTION))\n",
    "ax2.text(0.05,0.93,'RMSE = {0:.3f}'.format(rmse),transform=ax2.transAxes,fontsize=12)\n",
    "ax2.text(0.05,0.865,'$R^2$ = {0:.3f}'.format(R2),transform=ax2.transAxes,fontsize=12)\n",
    "# axes\n",
    "ax2.set_xlabel('True muon signal (VEM)')\n",
    "ax2.set_ylabel('Predicted muon signal (VEM)')\n",
    "ax2.set_xlim(-1,xmax)\n",
    "ax2.set_ylim(-1,xmax)\n",
    "# title\n",
    "fig2.suptitle(r'$log_{10}(\\ E\\ ) \\in (16.0,16.5),\\quad cos(\\theta) > 0.9$')\n",
    "\n",
    "plt.show()"
   ]
  },
  {
   "cell_type": "code",
   "execution_count": 22,
   "metadata": {},
   "outputs": [
    {
     "data": {
      "image/png": "[encoded data removed]",
      "text/plain": [
       "<matplotlib.figure.Figure at 0x19f4e7d4208>"
      ]
     },
     "metadata": {},
     "output_type": "display_data"
    }
   ],
   "source": [
    "# Plot residuals\n",
    "fig3,ax3=plt.subplots(1,1,figsize=(6,5))\n",
    "residuals1 = [predictions1[i]-y_test[i] for i in range(len(y_test))]\n",
    "ax3.scatter(y_test,residuals1,marker='.')\n",
    "x = np.linspace(0,35)\n",
    "ax3.plot(x,0*x,color='black')\n",
    "ax3.set_xlim(0,35)\n",
    "ax3.set_ylabel('Residual')\n",
    "ax3.set_xlabel('True muon signal (VEM)')\n",
    "fig3.suptitle(\"Sum: {0:.3f}\".format(sum(residuals1)[0]))\n",
    "plt.show()"
   ]
  },
  {
   "cell_type": "markdown",
   "metadata": {},
   "source": [
    "#### Applying the averaged network to the original data"
   ]
  },
  {
   "cell_type": "code",
   "execution_count": 23,
   "metadata": {},
   "outputs": [],
   "source": [
    "# unaveraged data\n",
    "# Columns: Run, E_proton, E_iron, Zen, Q400, MuonVEM, nMuon, Type\n",
    "# Note that right now, nMuon is useless\n",
    "data2 = np.load('./data/NN_data_400m.npy')"
   ]
  },
  {
   "cell_type": "code",
   "execution_count": 24,
   "metadata": {},
   "outputs": [],
   "source": [
    "# convert the python 2 bytes into python 3 format\n",
    "data_ = []\n",
    "for i in range(len(data2)):\n",
    "    data_.append([])\n",
    "    for j in range(0,6):\n",
    "        data_[i].append(float(data2[i,j]))\n",
    "data2 = np.array(data_)"
   ]
  },
  {
   "cell_type": "code",
   "execution_count": 25,
   "metadata": {},
   "outputs": [],
   "source": [
    "data2_ = []\n",
    "for shower in data2:\n",
    "    if shower[0] in runs_test:\n",
    "        data2_.append(shower)\n",
    "data2 = data2_"
   ]
  },
  {
   "cell_type": "code",
   "execution_count": 26,
   "metadata": {},
   "outputs": [],
   "source": [
    "# look at data logE in (16.0,16.5) and cos(zenith) > 0.9\n",
    "data_ = []\n",
    "for shower in data2:\n",
    "    E_proton = shower[1]\n",
    "    E_iron = shower[2]\n",
    "    E_avg = np.sqrt(E_proton*E_iron) # geometric mean\n",
    "    logE = np.log10(E_avg)\n",
    "    zen = shower[3]\n",
    "    if logE >= 16 and logE <= 16.5 and np.cos(zen) > 0.9:\n",
    "        data_.append(shower[1:])\n",
    "data_trimmed2 = np.array(data_)"
   ]
  },
  {
   "cell_type": "code",
   "execution_count": 27,
   "metadata": {},
   "outputs": [
    {
     "name": "stdout",
     "output_type": "stream",
     "text": [
      "377\n"
     ]
    }
   ],
   "source": [
    "print(len(data_trimmed2))"
   ]
  },
  {
   "cell_type": "code",
   "execution_count": 28,
   "metadata": {},
   "outputs": [],
   "source": [
    "# split into input and target\n",
    "X2 = data_trimmed2[:,0:4]\n",
    "Y2 = data_trimmed2[:,4]"
   ]
  },
  {
   "cell_type": "code",
   "execution_count": 29,
   "metadata": {},
   "outputs": [],
   "source": [
    "x2 = scaler.transform(X2)"
   ]
  },
  {
   "cell_type": "code",
   "execution_count": 30,
   "metadata": {},
   "outputs": [],
   "source": [
    "# use the model to make predictions\n",
    "predictions2 = model1.predict(x2)"
   ]
  },
  {
   "cell_type": "code",
   "execution_count": 32,
   "metadata": {},
   "outputs": [
    {
     "data": {
      "image/png": "[encoded data removed]",
      "text/plain": [
       "<matplotlib.figure.Figure at 0x19f4ec49a90>"
      ]
     },
     "metadata": {},
     "output_type": "display_data"
    }
   ],
   "source": [
    "# plot predictions vs true values\n",
    "\n",
    "PREDICTION = predictions2\n",
    "TRUTH      = Y2\n",
    "\n",
    "fig4,ax4 = plt.subplots(1,1,figsize=(5,5))\n",
    "# prediction vs truth\n",
    "ax4.scatter(TRUTH,PREDICTION,marker='.')\n",
    "# line y=x\n",
    "xmax = int(1.1*max(TRUTH)+0.5)\n",
    "x = np.linspace(-1,xmax)\n",
    "ax4.plot(x,x,color='r')\n",
    "# stats\n",
    "R2 = r2_score(TRUTH,PREDICTION)\n",
    "rmse = np.sqrt(mean_squared_error(TRUTH,PREDICTION))\n",
    "ax4.text(0.05,0.93,'RMSE = {0:.3f}'.format(rmse),transform=ax4.transAxes,fontsize=12)\n",
    "ax4.text(0.05,0.865,'$R^2$ = {0:.3f}'.format(R2),transform=ax4.transAxes,fontsize=12)\n",
    "# axes\n",
    "ax4.set_xlabel('True muon signal (VEM)')\n",
    "ax4.set_ylabel('Predicted muon signal (VEM)')\n",
    "ax4.set_xlim(-1,xmax)\n",
    "ax4.set_ylim(-1,xmax)\n",
    "# title\n",
    "fig4.suptitle(r'$log_{10}(\\ E\\ ) \\in (16.0,16.5),\\quad cos(\\theta) > 0.9$')\n",
    "\n",
    "plt.show()"
   ]
  },
  {
   "cell_type": "code",
   "execution_count": 34,
   "metadata": {},
   "outputs": [
    {
     "data": {
      "image/png": "[encoded data removed]",
      "text/plain": [
       "<matplotlib.figure.Figure at 0x23cfbfe3a58>"
      ]
     },
     "metadata": {},
     "output_type": "display_data"
    }
   ],
   "source": [
    "# Plot residuals\n",
    "fig5,ax5=plt.subplots(1,1,figsize=(6,5))\n",
    "residuals2 = [predictions2[i]-Y2[i] for i in range(len(Y2))]\n",
    "ax5.scatter(Y2,residuals2,marker='.')\n",
    "x = np.linspace(0,40)\n",
    "ax5.plot(x,0*x,color='black')\n",
    "ax5.set_xlim(0,40)\n",
    "ax5.set_ylabel('Residual')\n",
    "ax5.set_xlabel('True muon signal (VEM)')\n",
    "fig5.suptitle(\"Sum: {0:.3f}\".format(sum(residuals1)[0]))\n",
    "plt.show()"
   ]
  },
  {
   "cell_type": "code",
   "execution_count": null,
   "metadata": {},
   "outputs": [],
   "source": []
  }
 ],
 "metadata": {
  "kernelspec": {
   "display_name": "Python 3",
   "language": "python",
   "name": "python3"
  },
  "language_info": {
   "codemirror_mode": {
    "name": "ipython",
    "version": 3
   },
   "file_extension": ".py",
   "mimetype": "text/x-python",
   "name": "python",
   "nbconvert_exporter": "python",
   "pygments_lexer": "ipython3",
   "version": "3.6.4"
  }
 },
 "nbformat": 4,
 "nbformat_minor": 2
}
