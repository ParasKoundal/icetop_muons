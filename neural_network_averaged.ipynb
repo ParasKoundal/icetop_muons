{
 "cells": [
  {
   "cell_type": "code",
   "execution_count": 1,
   "metadata": {},
   "outputs": [
    {
     "name": "stderr",
     "output_type": "stream",
     "text": [
      "C:\\Users\\jfcre\\Anaconda3\\lib\\site-packages\\h5py\\__init__.py:36: FutureWarning: Conversion of the second argument of issubdtype from `float` to `np.floating` is deprecated. In future, it will be treated as `np.float64 == np.dtype(float).type`.\n",
      "  from ._conv import register_converters as _register_converters\n",
      "Using TensorFlow backend.\n"
     ]
    }
   ],
   "source": [
    "import numpy as np\n",
    "\n",
    "from sklearn.model_selection import train_test_split\n",
    "from sklearn.preprocessing import StandardScaler\n",
    "from keras.models import Sequential\n",
    "from keras.layers import Dense\n",
    "\n",
    "import matplotlib.pyplot as plt"
   ]
  },
  {
   "cell_type": "code",
   "execution_count": 2,
   "metadata": {},
   "outputs": [],
   "source": [
    "np.random.seed(11)"
   ]
  },
  {
   "cell_type": "code",
   "execution_count": 3,
   "metadata": {},
   "outputs": [],
   "source": [
    "# This data was averaged for each run\n",
    "# Columns: E_proton, E_iron, Zen, Q400, MuonVEM, nMuon, Type\n",
    "# Note that right now, nMuon is useless\n",
    "data = np.load('./data/NN_data_400m_avg.npy')"
   ]
  },
  {
   "cell_type": "code",
   "execution_count": 4,
   "metadata": {},
   "outputs": [],
   "source": [
    "# convert the python 2 bytes into python 3 format\n",
    "data_ = []\n",
    "for i in range(len(data)):\n",
    "    data_.append([])\n",
    "    for j in range(0,6):\n",
    "        data_[i].append(float(data[i,j]))\n",
    "data = np.array(data_)"
   ]
  },
  {
   "cell_type": "code",
   "execution_count": 5,
   "metadata": {},
   "outputs": [],
   "source": [
    "# look at data logE in (16.0,16.5) and cos(zenith) > 0.9\n",
    "data_ = []\n",
    "for shower in data:\n",
    "    E_proton = shower[0]\n",
    "    E_iron = shower[1]\n",
    "    E_avg = np.sqrt(E_proton*E_iron) # geometric mean\n",
    "    logE = np.log10(E_avg)\n",
    "    zen = shower[2]\n",
    "    if logE >= 16 and logE <= 16.5 and np.cos(zen) > 0.9:\n",
    "        data_.append(shower)\n",
    "data_trimmed = np.array(data_)"
   ]
  },
  {
   "cell_type": "code",
   "execution_count": 6,
   "metadata": {},
   "outputs": [
    {
     "name": "stdout",
     "output_type": "stream",
     "text": [
      "454\n"
     ]
    }
   ],
   "source": [
    "print(len(data_trimmed))"
   ]
  },
  {
   "cell_type": "code",
   "execution_count": 7,
   "metadata": {},
   "outputs": [],
   "source": [
    "# split into input and target\n",
    "X = data_trimmed[:,0:4]\n",
    "Y = data_trimmed[:,4]"
   ]
  },
  {
   "cell_type": "code",
   "execution_count": 8,
   "metadata": {},
   "outputs": [],
   "source": [
    "# split the data into test and training set\n",
    "x_train, x_test, y_train, y_test = train_test_split(X,Y)"
   ]
  },
  {
   "cell_type": "code",
   "execution_count": 9,
   "metadata": {},
   "outputs": [
    {
     "data": {
      "text/plain": [
       "StandardScaler(copy=True, with_mean=True, with_std=True)"
      ]
     },
     "execution_count": 9,
     "metadata": {},
     "output_type": "execute_result"
    }
   ],
   "source": [
    "# normalize the data because the network will be sensitive\n",
    "# to relative magnitudes\n",
    "scaler = StandardScaler()\n",
    "scaler.fit(x_train)"
   ]
  },
  {
   "cell_type": "code",
   "execution_count": 10,
   "metadata": {},
   "outputs": [],
   "source": [
    "# apply the scaler to the sets\n",
    "x_train = scaler.transform(x_train)\n",
    "x_test  = scaler.transform(x_test)"
   ]
  },
  {
   "cell_type": "code",
   "execution_count": 11,
   "metadata": {},
   "outputs": [],
   "source": [
    "# create model\n",
    "model1 = Sequential()\n",
    "model1.add(Dense(4,input_dim=4,activation='relu'))\n",
    "model1.add(Dense(4,activation='relu'))\n",
    "model1.add(Dense(1,activation=None))"
   ]
  },
  {
   "cell_type": "code",
   "execution_count": 12,
   "metadata": {},
   "outputs": [],
   "source": [
    "# compile model\n",
    "# loss function: mean square log error\n",
    "# metric: mean absolute percentage error\n",
    "model1.compile(loss='msle',optimizer='adam',metrics=['mape','mse'])"
   ]
  },
  {
   "cell_type": "code",
   "execution_count": 13,
   "metadata": {},
   "outputs": [
    {
     "name": "stdout",
     "output_type": "stream",
     "text": [
      "Epoch 1/150\n",
      "340/340 [==============================] - 0s 1ms/step - loss: 5.8638 - mean_absolute_percentage_error: 110.1784 - mean_squared_error: 179.3327\n",
      "Epoch 2/150\n",
      "340/340 [==============================] - 0s 199us/step - loss: 5.5974 - mean_absolute_percentage_error: 108.7372 - mean_squared_error: 175.6208\n",
      "Epoch 3/150\n",
      "340/340 [==============================] - 0s 199us/step - loss: 5.3023 - mean_absolute_percentage_error: 107.1017 - mean_squared_error: 171.2582\n",
      "Epoch 4/150\n",
      "340/340 [==============================] - 0s 183us/step - loss: 5.0247 - mean_absolute_percentage_error: 105.4667 - mean_squared_error: 167.0715\n",
      "Epoch 5/150\n",
      "340/340 [==============================] - 0s 185us/step - loss: 4.7686 - mean_absolute_percentage_error: 103.8459 - mean_squared_error: 162.7219\n",
      "Epoch 6/150\n",
      "340/340 [==============================] - 0s 195us/step - loss: 4.5374 - mean_absolute_percentage_error: 102.1200 - mean_squared_error: 158.3518\n",
      "Epoch 7/150\n",
      "340/340 [==============================] - 0s 212us/step - loss: 4.3078 - mean_absolute_percentage_error: 100.0294 - mean_squared_error: 153.6632\n",
      "Epoch 8/150\n",
      "340/340 [==============================] - 0s 199us/step - loss: 4.0857 - mean_absolute_percentage_error: 97.8278 - mean_squared_error: 148.8355\n",
      "Epoch 9/150\n",
      "340/340 [==============================] - 0s 190us/step - loss: 3.8555 - mean_absolute_percentage_error: 95.5789 - mean_squared_error: 143.7066\n",
      "Epoch 10/150\n",
      "340/340 [==============================] - 0s 197us/step - loss: 3.6132 - mean_absolute_percentage_error: 93.2081 - mean_squared_error: 138.6190\n",
      "Epoch 11/150\n",
      "340/340 [==============================] - 0s 201us/step - loss: 3.3002 - mean_absolute_percentage_error: 90.5548 - mean_squared_error: 133.1425\n",
      "Epoch 12/150\n",
      "340/340 [==============================] - 0s 213us/step - loss: 2.9104 - mean_absolute_percentage_error: 88.0928 - mean_squared_error: 127.6932\n",
      "Epoch 13/150\n",
      "340/340 [==============================] - 0s 205us/step - loss: 2.6694 - mean_absolute_percentage_error: 86.4054 - mean_squared_error: 122.9626\n",
      "Epoch 14/150\n",
      "340/340 [==============================] - 0s 189us/step - loss: 2.4663 - mean_absolute_percentage_error: 84.8339 - mean_squared_error: 118.5220\n",
      "Epoch 15/150\n",
      "340/340 [==============================] - 0s 200us/step - loss: 2.2285 - mean_absolute_percentage_error: 82.8888 - mean_squared_error: 113.4383\n",
      "Epoch 16/150\n",
      "340/340 [==============================] - 0s 189us/step - loss: 1.9526 - mean_absolute_percentage_error: 80.1679 - mean_squared_error: 107.8163\n",
      "Epoch 17/150\n",
      "340/340 [==============================] - 0s 182us/step - loss: 1.6627 - mean_absolute_percentage_error: 76.7496 - mean_squared_error: 101.6646\n",
      "Epoch 18/150\n",
      "340/340 [==============================] - 0s 197us/step - loss: 1.3912 - mean_absolute_percentage_error: 72.6258 - mean_squared_error: 94.1632\n",
      "Epoch 19/150\n",
      "340/340 [==============================] - 0s 194us/step - loss: 1.1635 - mean_absolute_percentage_error: 68.3507 - mean_squared_error: 86.5112\n",
      "Epoch 20/150\n",
      "340/340 [==============================] - 0s 192us/step - loss: 0.9720 - mean_absolute_percentage_error: 63.9531 - mean_squared_error: 79.0799\n",
      "Epoch 21/150\n",
      "340/340 [==============================] - 0s 197us/step - loss: 0.8158 - mean_absolute_percentage_error: 59.9284 - mean_squared_error: 72.1950\n",
      "Epoch 22/150\n",
      "340/340 [==============================] - 0s 181us/step - loss: 0.6889 - mean_absolute_percentage_error: 55.7042 - mean_squared_error: 65.9355\n",
      "Epoch 23/150\n",
      "340/340 [==============================] - 0s 187us/step - loss: 0.5875 - mean_absolute_percentage_error: 52.7263 - mean_squared_error: 59.9849\n",
      "Epoch 24/150\n",
      "340/340 [==============================] - 0s 181us/step - loss: 0.5066 - mean_absolute_percentage_error: 49.9612 - mean_squared_error: 54.7709\n",
      "Epoch 25/150\n",
      "340/340 [==============================] - 0s 196us/step - loss: 0.4434 - mean_absolute_percentage_error: 47.8865 - mean_squared_error: 50.2313\n",
      "Epoch 26/150\n",
      "340/340 [==============================] - 0s 174us/step - loss: 0.3921 - mean_absolute_percentage_error: 46.2808 - mean_squared_error: 46.0773\n",
      "Epoch 27/150\n",
      "340/340 [==============================] - 0s 197us/step - loss: 0.3519 - mean_absolute_percentage_error: 45.3020 - mean_squared_error: 42.5290\n",
      "Epoch 28/150\n",
      "340/340 [==============================] - 0s 180us/step - loss: 0.3185 - mean_absolute_percentage_error: 44.1966 - mean_squared_error: 39.3349\n",
      "Epoch 29/150\n",
      "340/340 [==============================] - 0s 186us/step - loss: 0.2917 - mean_absolute_percentage_error: 43.6076 - mean_squared_error: 36.6761\n",
      "Epoch 30/150\n",
      "340/340 [==============================] - 0s 194us/step - loss: 0.2686 - mean_absolute_percentage_error: 42.8961 - mean_squared_error: 34.1430\n",
      "Epoch 31/150\n",
      "340/340 [==============================] - 0s 189us/step - loss: 0.2496 - mean_absolute_percentage_error: 42.1629 - mean_squared_error: 31.9966\n",
      "Epoch 32/150\n",
      "340/340 [==============================] - 0s 197us/step - loss: 0.2332 - mean_absolute_percentage_error: 41.4580 - mean_squared_error: 30.1062\n",
      "Epoch 33/150\n",
      "340/340 [==============================] - 0s 210us/step - loss: 0.2185 - mean_absolute_percentage_error: 40.7993 - mean_squared_error: 28.2910\n",
      "Epoch 34/150\n",
      "340/340 [==============================] - 0s 197us/step - loss: 0.2061 - mean_absolute_percentage_error: 40.1122 - mean_squared_error: 26.7357\n",
      "Epoch 35/150\n",
      "340/340 [==============================] - 0s 199us/step - loss: 0.1943 - mean_absolute_percentage_error: 39.3831 - mean_squared_error: 25.2861\n",
      "Epoch 36/150\n",
      "340/340 [==============================] - 0s 174us/step - loss: 0.1842 - mean_absolute_percentage_error: 38.7101 - mean_squared_error: 23.9353\n",
      "Epoch 37/150\n",
      "340/340 [==============================] - 0s 184us/step - loss: 0.1748 - mean_absolute_percentage_error: 37.9901 - mean_squared_error: 22.7466\n",
      "Epoch 38/150\n",
      "340/340 [==============================] - 0s 213us/step - loss: 0.1660 - mean_absolute_percentage_error: 37.2459 - mean_squared_error: 21.5955\n",
      "Epoch 39/150\n",
      "340/340 [==============================] - 0s 181us/step - loss: 0.1584 - mean_absolute_percentage_error: 36.4997 - mean_squared_error: 20.5915\n",
      "Epoch 40/150\n",
      "340/340 [==============================] - 0s 188us/step - loss: 0.1508 - mean_absolute_percentage_error: 35.8315 - mean_squared_error: 19.6211\n",
      "Epoch 41/150\n",
      "340/340 [==============================] - 0s 170us/step - loss: 0.1440 - mean_absolute_percentage_error: 35.1340 - mean_squared_error: 18.7183\n",
      "Epoch 42/150\n",
      "340/340 [==============================] - 0s 181us/step - loss: 0.1378 - mean_absolute_percentage_error: 34.3744 - mean_squared_error: 17.8935\n",
      "Epoch 43/150\n",
      "340/340 [==============================] - 0s 188us/step - loss: 0.1320 - mean_absolute_percentage_error: 33.7075 - mean_squared_error: 17.1726\n",
      "Epoch 44/150\n",
      "340/340 [==============================] - 0s 180us/step - loss: 0.1264 - mean_absolute_percentage_error: 32.9485 - mean_squared_error: 16.4886\n",
      "Epoch 45/150\n",
      "340/340 [==============================] - 0s 181us/step - loss: 0.1213 - mean_absolute_percentage_error: 32.2609 - mean_squared_error: 15.8672\n",
      "Epoch 46/150\n",
      "340/340 [==============================] - 0s 194us/step - loss: 0.1164 - mean_absolute_percentage_error: 31.5995 - mean_squared_error: 15.2454\n",
      "Epoch 47/150\n",
      "340/340 [==============================] - 0s 204us/step - loss: 0.1118 - mean_absolute_percentage_error: 30.9697 - mean_squared_error: 14.6923\n",
      "Epoch 48/150\n",
      "340/340 [==============================] - 0s 179us/step - loss: 0.1076 - mean_absolute_percentage_error: 30.3087 - mean_squared_error: 14.1949\n",
      "Epoch 49/150\n",
      "340/340 [==============================] - 0s 200us/step - loss: 0.1033 - mean_absolute_percentage_error: 29.6916 - mean_squared_error: 13.6748\n",
      "Epoch 50/150\n",
      "340/340 [==============================] - 0s 193us/step - loss: 0.0995 - mean_absolute_percentage_error: 29.0786 - mean_squared_error: 13.1995\n",
      "Epoch 51/150\n",
      "340/340 [==============================] - 0s 201us/step - loss: 0.0958 - mean_absolute_percentage_error: 28.4534 - mean_squared_error: 12.7725\n",
      "Epoch 52/150\n",
      "340/340 [==============================] - 0s 178us/step - loss: 0.0922 - mean_absolute_percentage_error: 27.8808 - mean_squared_error: 12.3609\n",
      "Epoch 53/150\n"
     ]
    },
    {
     "name": "stdout",
     "output_type": "stream",
     "text": [
      "340/340 [==============================] - 0s 186us/step - loss: 0.0890 - mean_absolute_percentage_error: 27.3609 - mean_squared_error: 11.9771\n",
      "Epoch 54/150\n",
      "340/340 [==============================] - 0s 178us/step - loss: 0.0861 - mean_absolute_percentage_error: 26.9096 - mean_squared_error: 11.6353\n",
      "Epoch 55/150\n",
      "340/340 [==============================] - 0s 189us/step - loss: 0.0831 - mean_absolute_percentage_error: 26.2998 - mean_squared_error: 11.2994\n",
      "Epoch 56/150\n",
      "340/340 [==============================] - 0s 181us/step - loss: 0.0804 - mean_absolute_percentage_error: 25.7897 - mean_squared_error: 11.0013\n",
      "Epoch 57/150\n",
      "340/340 [==============================] - 0s 184us/step - loss: 0.0780 - mean_absolute_percentage_error: 25.3954 - mean_squared_error: 10.7221\n",
      "Epoch 58/150\n",
      "340/340 [==============================] - 0s 191us/step - loss: 0.0756 - mean_absolute_percentage_error: 24.8995 - mean_squared_error: 10.4378\n",
      "Epoch 59/150\n",
      "340/340 [==============================] - 0s 206us/step - loss: 0.0734 - mean_absolute_percentage_error: 24.5028 - mean_squared_error: 10.1748\n",
      "Epoch 60/150\n",
      "340/340 [==============================] - 0s 190us/step - loss: 0.0713 - mean_absolute_percentage_error: 24.1360 - mean_squared_error: 9.9327\n",
      "Epoch 61/150\n",
      "340/340 [==============================] - 0s 183us/step - loss: 0.0692 - mean_absolute_percentage_error: 23.7443 - mean_squared_error: 9.7042\n",
      "Epoch 62/150\n",
      "340/340 [==============================] - 0s 176us/step - loss: 0.0675 - mean_absolute_percentage_error: 23.2728 - mean_squared_error: 9.5197\n",
      "Epoch 63/150\n",
      "340/340 [==============================] - 0s 185us/step - loss: 0.0657 - mean_absolute_percentage_error: 22.9754 - mean_squared_error: 9.3233\n",
      "Epoch 64/150\n",
      "340/340 [==============================] - 0s 177us/step - loss: 0.0641 - mean_absolute_percentage_error: 22.6581 - mean_squared_error: 9.1591\n",
      "Epoch 65/150\n",
      "340/340 [==============================] - 0s 190us/step - loss: 0.0626 - mean_absolute_percentage_error: 22.3973 - mean_squared_error: 8.9766\n",
      "Epoch 66/150\n",
      "340/340 [==============================] - 0s 192us/step - loss: 0.0611 - mean_absolute_percentage_error: 22.0522 - mean_squared_error: 8.8276\n",
      "Epoch 67/150\n",
      "340/340 [==============================] - 0s 175us/step - loss: 0.0598 - mean_absolute_percentage_error: 21.8070 - mean_squared_error: 8.6782\n",
      "Epoch 68/150\n",
      "340/340 [==============================] - 0s 183us/step - loss: 0.0585 - mean_absolute_percentage_error: 21.6253 - mean_squared_error: 8.5151\n",
      "Epoch 69/150\n",
      "340/340 [==============================] - 0s 189us/step - loss: 0.0574 - mean_absolute_percentage_error: 21.4781 - mean_squared_error: 8.3821\n",
      "Epoch 70/150\n",
      "340/340 [==============================] - 0s 178us/step - loss: 0.0562 - mean_absolute_percentage_error: 21.1983 - mean_squared_error: 8.2504\n",
      "Epoch 71/150\n",
      "340/340 [==============================] - 0s 182us/step - loss: 0.0552 - mean_absolute_percentage_error: 20.9854 - mean_squared_error: 8.1386\n",
      "Epoch 72/150\n",
      "340/340 [==============================] - 0s 182us/step - loss: 0.0541 - mean_absolute_percentage_error: 20.7097 - mean_squared_error: 8.0234\n",
      "Epoch 73/150\n",
      "340/340 [==============================] - 0s 183us/step - loss: 0.0532 - mean_absolute_percentage_error: 20.4882 - mean_squared_error: 7.9168\n",
      "Epoch 74/150\n",
      "340/340 [==============================] - 0s 180us/step - loss: 0.0522 - mean_absolute_percentage_error: 20.3137 - mean_squared_error: 7.7883\n",
      "Epoch 75/150\n",
      "340/340 [==============================] - 0s 196us/step - loss: 0.0513 - mean_absolute_percentage_error: 20.1299 - mean_squared_error: 7.6705\n",
      "Epoch 76/150\n",
      "340/340 [==============================] - 0s 176us/step - loss: 0.0505 - mean_absolute_percentage_error: 19.9405 - mean_squared_error: 7.5633\n",
      "Epoch 77/150\n",
      "340/340 [==============================] - 0s 183us/step - loss: 0.0496 - mean_absolute_percentage_error: 19.7259 - mean_squared_error: 7.4643\n",
      "Epoch 78/150\n",
      "340/340 [==============================] - 0s 191us/step - loss: 0.0488 - mean_absolute_percentage_error: 19.5807 - mean_squared_error: 7.3366\n",
      "Epoch 79/150\n",
      "340/340 [==============================] - 0s 175us/step - loss: 0.0481 - mean_absolute_percentage_error: 19.3949 - mean_squared_error: 7.2566\n",
      "Epoch 80/150\n",
      "340/340 [==============================] - 0s 182us/step - loss: 0.0473 - mean_absolute_percentage_error: 19.2590 - mean_squared_error: 7.1474\n",
      "Epoch 81/150\n",
      "340/340 [==============================] - 0s 179us/step - loss: 0.0465 - mean_absolute_percentage_error: 19.0938 - mean_squared_error: 7.0370\n",
      "Epoch 82/150\n",
      "340/340 [==============================] - 0s 172us/step - loss: 0.0458 - mean_absolute_percentage_error: 18.9024 - mean_squared_error: 6.9580\n",
      "Epoch 83/150\n",
      "340/340 [==============================] - 0s 174us/step - loss: 0.0452 - mean_absolute_percentage_error: 18.7964 - mean_squared_error: 6.8645\n",
      "Epoch 84/150\n",
      "340/340 [==============================] - 0s 193us/step - loss: 0.0445 - mean_absolute_percentage_error: 18.6076 - mean_squared_error: 6.7880\n",
      "Epoch 85/150\n",
      "340/340 [==============================] - 0s 172us/step - loss: 0.0440 - mean_absolute_percentage_error: 18.5771 - mean_squared_error: 6.6792\n",
      "Epoch 86/150\n",
      "340/340 [==============================] - 0s 169us/step - loss: 0.0433 - mean_absolute_percentage_error: 18.2806 - mean_squared_error: 6.6255\n",
      "Epoch 87/150\n",
      "340/340 [==============================] - 0s 181us/step - loss: 0.0427 - mean_absolute_percentage_error: 18.2130 - mean_squared_error: 6.5346\n",
      "Epoch 88/150\n",
      "340/340 [==============================] - 0s 175us/step - loss: 0.0421 - mean_absolute_percentage_error: 17.9802 - mean_squared_error: 6.4795\n",
      "Epoch 89/150\n",
      "340/340 [==============================] - 0s 185us/step - loss: 0.0415 - mean_absolute_percentage_error: 17.8939 - mean_squared_error: 6.4031\n",
      "Epoch 90/150\n",
      "340/340 [==============================] - 0s 188us/step - loss: 0.0409 - mean_absolute_percentage_error: 17.8413 - mean_squared_error: 6.3273\n",
      "Epoch 91/150\n",
      "340/340 [==============================] - 0s 176us/step - loss: 0.0405 - mean_absolute_percentage_error: 17.6448 - mean_squared_error: 6.2784\n",
      "Epoch 92/150\n",
      "340/340 [==============================] - 0s 190us/step - loss: 0.0399 - mean_absolute_percentage_error: 17.5619 - mean_squared_error: 6.2054\n",
      "Epoch 93/150\n",
      "340/340 [==============================] - 0s 176us/step - loss: 0.0395 - mean_absolute_percentage_error: 17.3331 - mean_squared_error: 6.1645\n",
      "Epoch 94/150\n",
      "340/340 [==============================] - 0s 185us/step - loss: 0.0390 - mean_absolute_percentage_error: 17.3984 - mean_squared_error: 6.0806\n",
      "Epoch 95/150\n",
      "340/340 [==============================] - 0s 160us/step - loss: 0.0386 - mean_absolute_percentage_error: 17.1963 - mean_squared_error: 6.0518\n",
      "Epoch 96/150\n",
      "340/340 [==============================] - 0s 185us/step - loss: 0.0381 - mean_absolute_percentage_error: 17.1471 - mean_squared_error: 6.0020\n",
      "Epoch 97/150\n",
      "340/340 [==============================] - 0s 176us/step - loss: 0.0377 - mean_absolute_percentage_error: 16.9257 - mean_squared_error: 5.9721\n",
      "Epoch 98/150\n",
      "340/340 [==============================] - 0s 175us/step - loss: 0.0373 - mean_absolute_percentage_error: 16.8960 - mean_squared_error: 5.9172\n",
      "Epoch 99/150\n",
      "340/340 [==============================] - 0s 187us/step - loss: 0.0370 - mean_absolute_percentage_error: 16.8245 - mean_squared_error: 5.8788\n",
      "Epoch 100/150\n",
      "340/340 [==============================] - 0s 190us/step - loss: 0.0366 - mean_absolute_percentage_error: 16.7550 - mean_squared_error: 5.8345\n",
      "Epoch 101/150\n",
      "340/340 [==============================] - 0s 165us/step - loss: 0.0364 - mean_absolute_percentage_error: 16.6677 - mean_squared_error: 5.8131\n",
      "Epoch 102/150\n",
      "340/340 [==============================] - 0s 178us/step - loss: 0.0360 - mean_absolute_percentage_error: 16.5870 - mean_squared_error: 5.7784\n",
      "Epoch 103/150\n",
      "340/340 [==============================] - 0s 181us/step - loss: 0.0357 - mean_absolute_percentage_error: 16.6186 - mean_squared_error: 5.7383\n",
      "Epoch 104/150\n",
      "340/340 [==============================] - 0s 180us/step - loss: 0.0354 - mean_absolute_percentage_error: 16.5058 - mean_squared_error: 5.7060\n",
      "Epoch 105/150\n"
     ]
    },
    {
     "name": "stdout",
     "output_type": "stream",
     "text": [
      "340/340 [==============================] - 0s 165us/step - loss: 0.0351 - mean_absolute_percentage_error: 16.3323 - mean_squared_error: 5.6923\n",
      "Epoch 106/150\n",
      "340/340 [==============================] - 0s 180us/step - loss: 0.0351 - mean_absolute_percentage_error: 16.4824 - mean_squared_error: 5.6645\n",
      "Epoch 107/150\n",
      "340/340 [==============================] - 0s 191us/step - loss: 0.0346 - mean_absolute_percentage_error: 16.2206 - mean_squared_error: 5.6304\n",
      "Epoch 108/150\n",
      "340/340 [==============================] - 0s 193us/step - loss: 0.0345 - mean_absolute_percentage_error: 16.2736 - mean_squared_error: 5.5989\n",
      "Epoch 109/150\n",
      "340/340 [==============================] - 0s 183us/step - loss: 0.0341 - mean_absolute_percentage_error: 16.1355 - mean_squared_error: 5.5757\n",
      "Epoch 110/150\n",
      "340/340 [==============================] - 0s 186us/step - loss: 0.0340 - mean_absolute_percentage_error: 16.0370 - mean_squared_error: 5.5793\n",
      "Epoch 111/150\n",
      "340/340 [==============================] - 0s 176us/step - loss: 0.0337 - mean_absolute_percentage_error: 15.9708 - mean_squared_error: 5.5540\n",
      "Epoch 112/150\n",
      "340/340 [==============================] - 0s 173us/step - loss: 0.0336 - mean_absolute_percentage_error: 16.0966 - mean_squared_error: 5.5266\n",
      "Epoch 113/150\n",
      "340/340 [==============================] - 0s 195us/step - loss: 0.0335 - mean_absolute_percentage_error: 15.9959 - mean_squared_error: 5.5287\n",
      "Epoch 114/150\n",
      "340/340 [==============================] - 0s 183us/step - loss: 0.0333 - mean_absolute_percentage_error: 15.8382 - mean_squared_error: 5.5246\n",
      "Epoch 115/150\n",
      "340/340 [==============================] - 0s 258us/step - loss: 0.0332 - mean_absolute_percentage_error: 15.9610 - mean_squared_error: 5.4989\n",
      "Epoch 116/150\n",
      "340/340 [==============================] - 0s 182us/step - loss: 0.0330 - mean_absolute_percentage_error: 15.9496 - mean_squared_error: 5.4812\n",
      "Epoch 117/150\n",
      "340/340 [==============================] - 0s 189us/step - loss: 0.0330 - mean_absolute_percentage_error: 15.8257 - mean_squared_error: 5.4808\n",
      "Epoch 118/150\n",
      "340/340 [==============================] - 0s 174us/step - loss: 0.0328 - mean_absolute_percentage_error: 15.8780 - mean_squared_error: 5.4525\n",
      "Epoch 119/150\n",
      "340/340 [==============================] - 0s 175us/step - loss: 0.0327 - mean_absolute_percentage_error: 15.7853 - mean_squared_error: 5.4487\n",
      "Epoch 120/150\n",
      "340/340 [==============================] - 0s 194us/step - loss: 0.0326 - mean_absolute_percentage_error: 15.8703 - mean_squared_error: 5.4404\n",
      "Epoch 121/150\n",
      "340/340 [==============================] - 0s 183us/step - loss: 0.0324 - mean_absolute_percentage_error: 15.7984 - mean_squared_error: 5.4177\n",
      "Epoch 122/150\n",
      "340/340 [==============================] - 0s 178us/step - loss: 0.0322 - mean_absolute_percentage_error: 15.6872 - mean_squared_error: 5.4066\n",
      "Epoch 123/150\n",
      "340/340 [==============================] - 0s 177us/step - loss: 0.0321 - mean_absolute_percentage_error: 15.7198 - mean_squared_error: 5.3971\n",
      "Epoch 124/150\n",
      "340/340 [==============================] - 0s 186us/step - loss: 0.0320 - mean_absolute_percentage_error: 15.6055 - mean_squared_error: 5.3904\n",
      "Epoch 125/150\n",
      "340/340 [==============================] - 0s 185us/step - loss: 0.0320 - mean_absolute_percentage_error: 15.6228 - mean_squared_error: 5.3752\n",
      "Epoch 126/150\n",
      "340/340 [==============================] - 0s 175us/step - loss: 0.0318 - mean_absolute_percentage_error: 15.6473 - mean_squared_error: 5.3578\n",
      "Epoch 127/150\n",
      "340/340 [==============================] - 0s 175us/step - loss: 0.0317 - mean_absolute_percentage_error: 15.6813 - mean_squared_error: 5.3480\n",
      "Epoch 128/150\n",
      "340/340 [==============================] - 0s 190us/step - loss: 0.0315 - mean_absolute_percentage_error: 15.6545 - mean_squared_error: 5.3362\n",
      "Epoch 129/150\n",
      "340/340 [==============================] - 0s 191us/step - loss: 0.0314 - mean_absolute_percentage_error: 15.5230 - mean_squared_error: 5.3299\n",
      "Epoch 130/150\n",
      "340/340 [==============================] - 0s 193us/step - loss: 0.0314 - mean_absolute_percentage_error: 15.5803 - mean_squared_error: 5.3160\n",
      "Epoch 131/150\n",
      "340/340 [==============================] - 0s 186us/step - loss: 0.0312 - mean_absolute_percentage_error: 15.5276 - mean_squared_error: 5.3021\n",
      "Epoch 132/150\n",
      "340/340 [==============================] - 0s 191us/step - loss: 0.0312 - mean_absolute_percentage_error: 15.5081 - mean_squared_error: 5.2973\n",
      "Epoch 133/150\n",
      "340/340 [==============================] - 0s 188us/step - loss: 0.0311 - mean_absolute_percentage_error: 15.5239 - mean_squared_error: 5.2881\n",
      "Epoch 134/150\n",
      "340/340 [==============================] - 0s 188us/step - loss: 0.0310 - mean_absolute_percentage_error: 15.5082 - mean_squared_error: 5.2701\n",
      "Epoch 135/150\n",
      "340/340 [==============================] - 0s 179us/step - loss: 0.0309 - mean_absolute_percentage_error: 15.4759 - mean_squared_error: 5.2790\n",
      "Epoch 136/150\n",
      "340/340 [==============================] - 0s 166us/step - loss: 0.0309 - mean_absolute_percentage_error: 15.5327 - mean_squared_error: 5.2583\n",
      "Epoch 137/150\n",
      "340/340 [==============================] - 0s 200us/step - loss: 0.0308 - mean_absolute_percentage_error: 15.4636 - mean_squared_error: 5.2524\n",
      "Epoch 138/150\n",
      "340/340 [==============================] - 0s 176us/step - loss: 0.0307 - mean_absolute_percentage_error: 15.3073 - mean_squared_error: 5.2601\n",
      "Epoch 139/150\n",
      "340/340 [==============================] - 0s 201us/step - loss: 0.0306 - mean_absolute_percentage_error: 15.4398 - mean_squared_error: 5.2361\n",
      "Epoch 140/150\n",
      "340/340 [==============================] - 0s 190us/step - loss: 0.0305 - mean_absolute_percentage_error: 15.3862 - mean_squared_error: 5.2308\n",
      "Epoch 141/150\n",
      "340/340 [==============================] - 0s 163us/step - loss: 0.0305 - mean_absolute_percentage_error: 15.4012 - mean_squared_error: 5.2283\n",
      "Epoch 142/150\n",
      "340/340 [==============================] - 0s 183us/step - loss: 0.0303 - mean_absolute_percentage_error: 15.3670 - mean_squared_error: 5.2057\n",
      "Epoch 143/150\n",
      "340/340 [==============================] - 0s 193us/step - loss: 0.0303 - mean_absolute_percentage_error: 15.3401 - mean_squared_error: 5.1986\n",
      "Epoch 144/150\n",
      "340/340 [==============================] - 0s 179us/step - loss: 0.0304 - mean_absolute_percentage_error: 15.2679 - mean_squared_error: 5.2121\n",
      "Epoch 145/150\n",
      "340/340 [==============================] - 0s 183us/step - loss: 0.0302 - mean_absolute_percentage_error: 15.4512 - mean_squared_error: 5.1986\n",
      "Epoch 146/150\n",
      "340/340 [==============================] - 0s 179us/step - loss: 0.0302 - mean_absolute_percentage_error: 15.3454 - mean_squared_error: 5.1968\n",
      "Epoch 147/150\n",
      "340/340 [==============================] - 0s 198us/step - loss: 0.0300 - mean_absolute_percentage_error: 15.2852 - mean_squared_error: 5.1820\n",
      "Epoch 148/150\n",
      "340/340 [==============================] - 0s 190us/step - loss: 0.0300 - mean_absolute_percentage_error: 15.2455 - mean_squared_error: 5.1780\n",
      "Epoch 149/150\n",
      "340/340 [==============================] - 0s 197us/step - loss: 0.0300 - mean_absolute_percentage_error: 15.3492 - mean_squared_error: 5.1644\n",
      "Epoch 150/150\n",
      "340/340 [==============================] - 0s 185us/step - loss: 0.0298 - mean_absolute_percentage_error: 15.2132 - mean_squared_error: 5.1586\n"
     ]
    }
   ],
   "source": [
    "# fit the model to the data\n",
    "history1 = model1.fit(x_train,y_train,epochs=150,batch_size=10)"
   ]
  },
  {
   "cell_type": "code",
   "execution_count": 14,
   "metadata": {},
   "outputs": [
    {
     "data": {
      "image/png": "[encoded data removed]",
      "text/plain": [
       "<matplotlib.figure.Figure at 0x1e46189d0f0>"
      ]
     },
     "metadata": {},
     "output_type": "display_data"
    }
   ],
   "source": [
    "# plot the metrics vs epoch number\n",
    "\n",
    "fig1,ax1 = plt.subplots(1,1,figsize=(6,5))\n",
    "ax1.plot(history1.history['mean_absolute_percentage_error'],color='green')\n",
    "ax1.set_xlabel('Epoch')\n",
    "ax1.set_ylabel('Mean absolute percentage error',color='green')\n",
    "ax1.tick_params(axis='y', labelcolor='green')\n",
    "\n",
    "ax1_ = ax1.twinx()\n",
    "ax1_.plot(history1.history['mean_squared_error'],color='blue')\n",
    "ax1_.set_ylabel('Mean squared error',color='blue')\n",
    "ax1_.tick_params(axis='y', labelcolor='blue')\n",
    "plt.show()"
   ]
  },
  {
   "cell_type": "code",
   "execution_count": 15,
   "metadata": {},
   "outputs": [],
   "source": [
    "# use the model to make predictions\n",
    "predictions1 = model1.predict(x_test)"
   ]
  },
  {
   "cell_type": "code",
   "execution_count": 16,
   "metadata": {},
   "outputs": [
    {
     "data": {
      "image/png": "[encoded data removed]",
      "text/plain": [
       "<matplotlib.figure.Figure at 0x1e46189d518>"
      ]
     },
     "metadata": {},
     "output_type": "display_data"
    }
   ],
   "source": [
    "# plot predictions vs true values\n",
    "fig2,ax2 = plt.subplots(1,1,figsize=(5,5))\n",
    "ax2.scatter(y_test,predictions1,marker='.')\n",
    "x = np.linspace(0,35)\n",
    "ax2.plot(x,x,color='r')\n",
    "ax2.set_xlabel('True muon PEs')\n",
    "ax2.set_ylabel('Predicted muon PEs')\n",
    "fig2.suptitle(r'$log_{10}(\\ E\\ ) \\in (16.0,16.5),\\quad cos(\\theta) > 0.9$')\n",
    "plt.show()"
   ]
  },
  {
   "cell_type": "code",
   "execution_count": 17,
   "metadata": {},
   "outputs": [
    {
     "data": {
      "image/png": "[encoded data removed]",
      "text/plain": [
       "<matplotlib.figure.Figure at 0x1e461799d30>"
      ]
     },
     "metadata": {},
     "output_type": "display_data"
    }
   ],
   "source": [
    "# Plot residuals\n",
    "fig3,ax3=plt.subplots(1,1,figsize=(6,5))\n",
    "residuals1 = [predictions1[i]-y_test[i] for i in range(len(y_test))]\n",
    "ax3.scatter(y_test,residuals1,marker='.')\n",
    "x = np.linspace(0,35)\n",
    "ax3.plot(x,0*x,color='black')\n",
    "ax3.set_xlim(0,35)\n",
    "ax3.set_ylabel('Residual')\n",
    "ax3.set_xlabel('True muon PEs')\n",
    "fig3.suptitle(\"Sum: {0:.3f}\".format(sum(residuals1)[0]))\n",
    "plt.show()"
   ]
  },
  {
   "cell_type": "code",
   "execution_count": null,
   "metadata": {},
   "outputs": [],
   "source": []
  }
 ],
 "metadata": {
  "kernelspec": {
   "display_name": "Python 3",
   "language": "python",
   "name": "python3"
  },
  "language_info": {
   "codemirror_mode": {
    "name": "ipython",
    "version": 3
   },
   "file_extension": ".py",
   "mimetype": "text/x-python",
   "name": "python",
   "nbconvert_exporter": "python",
   "pygments_lexer": "ipython3",
   "version": "3.6.4"
  }
 },
 "nbformat": 4,
 "nbformat_minor": 2
}
