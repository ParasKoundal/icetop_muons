{
 "cells": [
  {
   "cell_type": "markdown",
   "metadata": {},
   "source": [
    "## Neural network to predict muon signal for averaged showers"
   ]
  },
  {
   "cell_type": "code",
   "execution_count": 1,
   "metadata": {},
   "outputs": [
    {
     "name": "stderr",
     "output_type": "stream",
     "text": [
      "C:\\Users\\jfcre\\Anaconda3\\lib\\site-packages\\h5py\\__init__.py:36: FutureWarning: Conversion of the second argument of issubdtype from `float` to `np.floating` is deprecated. In future, it will be treated as `np.float64 == np.dtype(float).type`.\n",
      "  from ._conv import register_converters as _register_converters\n",
      "Using TensorFlow backend.\n"
     ]
    }
   ],
   "source": [
    "import numpy as np\n",
    "\n",
    "from sklearn.model_selection import train_test_split\n",
    "from sklearn.preprocessing import StandardScaler\n",
    "from keras.models import Sequential\n",
    "from keras.layers import Dense\n",
    "\n",
    "import matplotlib.pyplot as plt\n",
    "from sklearn.metrics import mean_squared_error,r2_score"
   ]
  },
  {
   "cell_type": "code",
   "execution_count": 2,
   "metadata": {},
   "outputs": [],
   "source": [
    "np.random.seed(11)"
   ]
  },
  {
   "cell_type": "code",
   "execution_count": 3,
   "metadata": {},
   "outputs": [],
   "source": [
    "# This data was averaged for each run\n",
    "# Columns: Run, E_proton, E_iron, Zen, Q400, MuonVEM, nMuon, Type\n",
    "# Note that right now, nMuon is useless\n",
    "data = np.load('./data/NN_data_400m_avg.npy')"
   ]
  },
  {
   "cell_type": "code",
   "execution_count": 4,
   "metadata": {},
   "outputs": [],
   "source": [
    "# convert the python 2 bytes into python 3 format\n",
    "data_ = []\n",
    "for i in range(len(data)):\n",
    "    data_.append([])\n",
    "    for j in range(0,7):\n",
    "        data_[i].append(float(data[i,j]))\n",
    "data = np.array(data_)"
   ]
  },
  {
   "cell_type": "code",
   "execution_count": 5,
   "metadata": {},
   "outputs": [],
   "source": [
    "# look at data logE in (16.0,16.5) and cos(zenith) > 0.9\n",
    "data_ = []\n",
    "for shower in data:\n",
    "    E_proton = shower[1]\n",
    "    E_iron = shower[2]\n",
    "    E_avg = np.sqrt(E_proton*E_iron) # geometric mean\n",
    "    logE = np.log10(E_avg)\n",
    "    zen = shower[3]\n",
    "    if logE >= 16 and logE <= 16.5 and np.cos(zen) > 0.9:\n",
    "        data_.append(shower)\n",
    "data_trimmed = np.array(data_)"
   ]
  },
  {
   "cell_type": "code",
   "execution_count": 6,
   "metadata": {},
   "outputs": [
    {
     "name": "stdout",
     "output_type": "stream",
     "text": [
      "454\n"
     ]
    }
   ],
   "source": [
    "print(len(data_trimmed))"
   ]
  },
  {
   "cell_type": "code",
   "execution_count": 7,
   "metadata": {},
   "outputs": [],
   "source": [
    "# split into input and target\n",
    "X = data_trimmed[:,0:5]\n",
    "Y = data_trimmed[:,5]"
   ]
  },
  {
   "cell_type": "code",
   "execution_count": 8,
   "metadata": {},
   "outputs": [],
   "source": [
    "# split the data into test and training set\n",
    "x_train, x_test, y_train, y_test = train_test_split(X,Y)"
   ]
  },
  {
   "cell_type": "code",
   "execution_count": 9,
   "metadata": {},
   "outputs": [],
   "source": [
    "runs_train = x_train[:,0]\n",
    "runs_test  = x_test[:,0]\n",
    "\n",
    "x_train = np.delete(x_train,0,axis=1)\n",
    "x_test  = np.delete(x_test,0,axis=1)"
   ]
  },
  {
   "cell_type": "code",
   "execution_count": 10,
   "metadata": {},
   "outputs": [
    {
     "data": {
      "text/plain": [
       "StandardScaler(copy=True, with_mean=True, with_std=True)"
      ]
     },
     "execution_count": 10,
     "metadata": {},
     "output_type": "execute_result"
    }
   ],
   "source": [
    "# normalize the data because the network will be sensitive\n",
    "# to relative magnitudes\n",
    "scaler = StandardScaler()\n",
    "scaler.fit(x_train)"
   ]
  },
  {
   "cell_type": "code",
   "execution_count": 11,
   "metadata": {},
   "outputs": [],
   "source": [
    "# apply the scaler to the sets\n",
    "x_train = scaler.transform(x_train)\n",
    "x_test  = scaler.transform(x_test)"
   ]
  },
  {
   "cell_type": "code",
   "execution_count": 12,
   "metadata": {},
   "outputs": [],
   "source": [
    "# create model\n",
    "model1 = Sequential()\n",
    "model1.add(Dense(4,input_dim=4,activation='relu'))\n",
    "model1.add(Dense(4,activation='relu'))\n",
    "model1.add(Dense(1,activation=None))"
   ]
  },
  {
   "cell_type": "code",
   "execution_count": 13,
   "metadata": {},
   "outputs": [],
   "source": [
    "# compile model\n",
    "# loss function: mean square log error\n",
    "# metric: mean absolute percentage error\n",
    "model1.compile(loss='msle',optimizer='adam',metrics=['mape','mse'])"
   ]
  },
  {
   "cell_type": "code",
   "execution_count": 14,
   "metadata": {},
   "outputs": [
    {
     "name": "stdout",
     "output_type": "stream",
     "text": [
      "Epoch 1/150\n",
      "340/340 [==============================] - 0s 1ms/step - loss: 5.8660 - mean_absolute_percentage_error: 110.2243 - mean_squared_error: 179.3863\n",
      "Epoch 2/150\n",
      "340/340 [==============================] - 0s 164us/step - loss: 5.5887 - mean_absolute_percentage_error: 108.8024 - mean_squared_error: 175.6562\n",
      "Epoch 3/150\n",
      "340/340 [==============================] - 0s 139us/step - loss: 5.3063 - mean_absolute_percentage_error: 107.2063 - mean_squared_error: 171.4596\n",
      "Epoch 4/150\n",
      "340/340 [==============================] - 0s 147us/step - loss: 5.0356 - mean_absolute_percentage_error: 105.5648 - mean_squared_error: 167.3045\n",
      "Epoch 5/150\n",
      "340/340 [==============================] - 0s 181us/step - loss: 4.7852 - mean_absolute_percentage_error: 104.0041 - mean_squared_error: 163.0521\n",
      "Epoch 6/150\n",
      "340/340 [==============================] - 0s 196us/step - loss: 4.5568 - mean_absolute_percentage_error: 102.2946 - mean_squared_error: 158.6794\n",
      "Epoch 7/150\n",
      "340/340 [==============================] - 0s 181us/step - loss: 4.3228 - mean_absolute_percentage_error: 100.1616 - mean_squared_error: 153.9287\n",
      "Epoch 8/150\n",
      "340/340 [==============================] - 0s 192us/step - loss: 4.1000 - mean_absolute_percentage_error: 97.9637 - mean_squared_error: 149.1033\n",
      "Epoch 9/150\n",
      "340/340 [==============================] - 0s 187us/step - loss: 3.8682 - mean_absolute_percentage_error: 95.6836 - mean_squared_error: 143.9177\n",
      "Epoch 10/150\n",
      "340/340 [==============================] - 0s 195us/step - loss: 3.6256 - mean_absolute_percentage_error: 93.3220 - mean_squared_error: 138.8211\n",
      "Epoch 11/150\n",
      "340/340 [==============================] - 0s 198us/step - loss: 3.3164 - mean_absolute_percentage_error: 90.6866 - mean_squared_error: 133.3521\n",
      "Epoch 12/150\n",
      "340/340 [==============================] - 0s 183us/step - loss: 2.9268 - mean_absolute_percentage_error: 88.2150 - mean_squared_error: 127.9016\n",
      "Epoch 13/150\n",
      "340/340 [==============================] - 0s 153us/step - loss: 2.6704 - mean_absolute_percentage_error: 86.4613 - mean_squared_error: 123.0813\n",
      "Epoch 14/150\n",
      "340/340 [==============================] - 0s 165us/step - loss: 2.4455 - mean_absolute_percentage_error: 84.7772 - mean_squared_error: 118.4619\n",
      "Epoch 15/150\n",
      "340/340 [==============================] - 0s 191us/step - loss: 2.1708 - mean_absolute_percentage_error: 82.5222 - mean_squared_error: 113.0466\n",
      "Epoch 16/150\n",
      "340/340 [==============================] - 0s 195us/step - loss: 1.8724 - mean_absolute_percentage_error: 79.4276 - mean_squared_error: 107.0197\n",
      "Epoch 17/150\n",
      "340/340 [==============================] - 0s 178us/step - loss: 1.5730 - mean_absolute_percentage_error: 75.5882 - mean_squared_error: 100.0310\n",
      "Epoch 18/150\n",
      "340/340 [==============================] - 0s 194us/step - loss: 1.3068 - mean_absolute_percentage_error: 71.2013 - mean_squared_error: 92.1553\n",
      "Epoch 19/150\n",
      "340/340 [==============================] - 0s 208us/step - loss: 1.0942 - mean_absolute_percentage_error: 66.9405 - mean_squared_error: 84.6914\n",
      "Epoch 20/150\n",
      "340/340 [==============================] - 0s 201us/step - loss: 0.9194 - mean_absolute_percentage_error: 62.5505 - mean_squared_error: 77.5400\n",
      "Epoch 21/150\n",
      "340/340 [==============================] - 0s 188us/step - loss: 0.7785 - mean_absolute_percentage_error: 58.6799 - mean_squared_error: 70.9939\n",
      "Epoch 22/150\n",
      "340/340 [==============================] - 0s 204us/step - loss: 0.6639 - mean_absolute_percentage_error: 54.7616 - mean_squared_error: 65.0768\n",
      "Epoch 23/150\n",
      "340/340 [==============================] - 0s 190us/step - loss: 0.5720 - mean_absolute_percentage_error: 52.1531 - mean_squared_error: 59.4597\n",
      "Epoch 24/150\n",
      "340/340 [==============================] - 0s 197us/step - loss: 0.4979 - mean_absolute_percentage_error: 49.6776 - mean_squared_error: 54.5276\n",
      "Epoch 25/150\n",
      "340/340 [==============================] - 0s 192us/step - loss: 0.4390 - mean_absolute_percentage_error: 47.7380 - mean_squared_error: 50.1983\n",
      "Epoch 26/150\n",
      "340/340 [==============================] - 0s 172us/step - loss: 0.3908 - mean_absolute_percentage_error: 46.2306 - mean_squared_error: 46.2063\n",
      "Epoch 27/150\n",
      "340/340 [==============================] - 0s 186us/step - loss: 0.3522 - mean_absolute_percentage_error: 45.2889 - mean_squared_error: 42.7643\n",
      "Epoch 28/150\n",
      "340/340 [==============================] - 0s 195us/step - loss: 0.3198 - mean_absolute_percentage_error: 44.1850 - mean_squared_error: 39.6422\n",
      "Epoch 29/150\n",
      "340/340 [==============================] - 0s 201us/step - loss: 0.2934 - mean_absolute_percentage_error: 43.5809 - mean_squared_error: 37.0171\n",
      "Epoch 30/150\n",
      "340/340 [==============================] - 0s 174us/step - loss: 0.2705 - mean_absolute_percentage_error: 42.8516 - mean_squared_error: 34.5085\n",
      "Epoch 31/150\n",
      "340/340 [==============================] - 0s 192us/step - loss: 0.2515 - mean_absolute_percentage_error: 42.1051 - mean_squared_error: 32.3695\n",
      "Epoch 32/150\n",
      "340/340 [==============================] - 0s 184us/step - loss: 0.2350 - mean_absolute_percentage_error: 41.3889 - mean_squared_error: 30.4716\n",
      "Epoch 33/150\n",
      "340/340 [==============================] - 0s 197us/step - loss: 0.2202 - mean_absolute_percentage_error: 40.7421 - mean_squared_error: 28.6484\n",
      "Epoch 34/150\n",
      "340/340 [==============================] - 0s 185us/step - loss: 0.2078 - mean_absolute_percentage_error: 40.0700 - mean_squared_error: 27.0816\n",
      "Epoch 35/150\n",
      "340/340 [==============================] - 0s 176us/step - loss: 0.1959 - mean_absolute_percentage_error: 39.3665 - mean_squared_error: 25.6214\n",
      "Epoch 36/150\n",
      "340/340 [==============================] - 0s 168us/step - loss: 0.1858 - mean_absolute_percentage_error: 38.7059 - mean_squared_error: 24.2656\n",
      "Epoch 37/150\n",
      "340/340 [==============================] - 0s 155us/step - loss: 0.1764 - mean_absolute_percentage_error: 37.9952 - mean_squared_error: 23.0737\n",
      "Epoch 38/150\n",
      "340/340 [==============================] - 0s 202us/step - loss: 0.1678 - mean_absolute_percentage_error: 37.2865 - mean_squared_error: 21.9252\n",
      "Epoch 39/150\n",
      "340/340 [==============================] - 0s 182us/step - loss: 0.1602 - mean_absolute_percentage_error: 36.5780 - mean_squared_error: 20.9369\n",
      "Epoch 40/150\n",
      "340/340 [==============================] - 0s 207us/step - loss: 0.1529 - mean_absolute_percentage_error: 35.9349 - mean_squared_error: 19.9738\n",
      "Epoch 41/150\n",
      "340/340 [==============================] - 0s 187us/step - loss: 0.1461 - mean_absolute_percentage_error: 35.2559 - mean_squared_error: 19.0609\n",
      "Epoch 42/150\n",
      "340/340 [==============================] - 0s 188us/step - loss: 0.1398 - mean_absolute_percentage_error: 34.5233 - mean_squared_error: 18.2273\n",
      "Epoch 43/150\n",
      "340/340 [==============================] - 0s 184us/step - loss: 0.1340 - mean_absolute_percentage_error: 33.8831 - mean_squared_error: 17.4951\n",
      "Epoch 44/150\n",
      "340/340 [==============================] - 0s 199us/step - loss: 0.1284 - mean_absolute_percentage_error: 33.1597 - mean_squared_error: 16.8079\n",
      "Epoch 45/150\n",
      "340/340 [==============================] - 0s 193us/step - loss: 0.1233 - mean_absolute_percentage_error: 32.5164 - mean_squared_error: 16.1754\n",
      "Epoch 46/150\n",
      "340/340 [==============================] - 0s 190us/step - loss: 0.1185 - mean_absolute_percentage_error: 31.8791 - mean_squared_error: 15.5564\n",
      "Epoch 47/150\n",
      "340/340 [==============================] - 0s 197us/step - loss: 0.1140 - mean_absolute_percentage_error: 31.2988 - mean_squared_error: 15.0216\n",
      "Epoch 48/150\n",
      "340/340 [==============================] - 0s 195us/step - loss: 0.1099 - mean_absolute_percentage_error: 30.6656 - mean_squared_error: 14.5192\n",
      "Epoch 49/150\n",
      "340/340 [==============================] - 0s 185us/step - loss: 0.1057 - mean_absolute_percentage_error: 30.0905 - mean_squared_error: 14.0018\n",
      "Epoch 50/150\n",
      "340/340 [==============================] - 0s 191us/step - loss: 0.1020 - mean_absolute_percentage_error: 29.5303 - mean_squared_error: 13.5379\n",
      "Epoch 51/150\n",
      "340/340 [==============================] - 0s 183us/step - loss: 0.0985 - mean_absolute_percentage_error: 28.9742 - mean_squared_error: 13.1263\n",
      "Epoch 52/150\n",
      "340/340 [==============================] - 0s 191us/step - loss: 0.0951 - mean_absolute_percentage_error: 28.4597 - mean_squared_error: 12.7223\n",
      "Epoch 53/150\n"
     ]
    },
    {
     "name": "stdout",
     "output_type": "stream",
     "text": [
      "340/340 [==============================] - 0s 181us/step - loss: 0.0920 - mean_absolute_percentage_error: 27.9642 - mean_squared_error: 12.3484\n",
      "Epoch 54/150\n",
      "340/340 [==============================] - 0s 174us/step - loss: 0.0892 - mean_absolute_percentage_error: 27.5517 - mean_squared_error: 12.0102\n",
      "Epoch 55/150\n",
      "340/340 [==============================] - 0s 200us/step - loss: 0.0862 - mean_absolute_percentage_error: 26.9846 - mean_squared_error: 11.6805\n",
      "Epoch 56/150\n",
      "340/340 [==============================] - 0s 196us/step - loss: 0.0835 - mean_absolute_percentage_error: 26.4839 - mean_squared_error: 11.3911\n",
      "Epoch 57/150\n",
      "340/340 [==============================] - 0s 187us/step - loss: 0.0811 - mean_absolute_percentage_error: 26.0707 - mean_squared_error: 11.1126\n",
      "Epoch 58/150\n",
      "340/340 [==============================] - 0s 197us/step - loss: 0.0787 - mean_absolute_percentage_error: 25.5811 - mean_squared_error: 10.8369\n",
      "Epoch 59/150\n",
      "340/340 [==============================] - 0s 195us/step - loss: 0.0764 - mean_absolute_percentage_error: 25.1992 - mean_squared_error: 10.5711\n",
      "Epoch 60/150\n",
      "340/340 [==============================] - 0s 175us/step - loss: 0.0743 - mean_absolute_percentage_error: 24.8305 - mean_squared_error: 10.3287\n",
      "Epoch 61/150\n",
      "340/340 [==============================] - 0s 202us/step - loss: 0.0723 - mean_absolute_percentage_error: 24.4490 - mean_squared_error: 10.1056\n",
      "Epoch 62/150\n",
      "340/340 [==============================] - 0s 183us/step - loss: 0.0704 - mean_absolute_percentage_error: 24.0094 - mean_squared_error: 9.9200\n",
      "Epoch 63/150\n",
      "340/340 [==============================] - 0s 182us/step - loss: 0.0686 - mean_absolute_percentage_error: 23.7085 - mean_squared_error: 9.7150\n",
      "Epoch 64/150\n",
      "340/340 [==============================] - 0s 183us/step - loss: 0.0669 - mean_absolute_percentage_error: 23.3851 - mean_squared_error: 9.5424\n",
      "Epoch 65/150\n",
      "340/340 [==============================] - 0s 173us/step - loss: 0.0652 - mean_absolute_percentage_error: 23.0909 - mean_squared_error: 9.3448\n",
      "Epoch 66/150\n",
      "340/340 [==============================] - 0s 187us/step - loss: 0.0636 - mean_absolute_percentage_error: 22.7458 - mean_squared_error: 9.1822\n",
      "Epoch 67/150\n",
      "340/340 [==============================] - 0s 192us/step - loss: 0.0623 - mean_absolute_percentage_error: 22.4794 - mean_squared_error: 9.0251\n",
      "Epoch 68/150\n",
      "340/340 [==============================] - 0s 183us/step - loss: 0.0609 - mean_absolute_percentage_error: 22.2529 - mean_squared_error: 8.8553\n",
      "Epoch 69/150\n",
      "340/340 [==============================] - 0s 186us/step - loss: 0.0597 - mean_absolute_percentage_error: 22.0773 - mean_squared_error: 8.7177\n",
      "Epoch 70/150\n",
      "340/340 [==============================] - 0s 160us/step - loss: 0.0584 - mean_absolute_percentage_error: 21.7160 - mean_squared_error: 8.5885\n",
      "Epoch 71/150\n",
      "340/340 [==============================] - 0s 167us/step - loss: 0.0573 - mean_absolute_percentage_error: 21.4859 - mean_squared_error: 8.4704\n",
      "Epoch 72/150\n",
      "340/340 [==============================] - 0s 180us/step - loss: 0.0562 - mean_absolute_percentage_error: 21.1893 - mean_squared_error: 8.3494\n",
      "Epoch 73/150\n",
      "340/340 [==============================] - 0s 193us/step - loss: 0.0552 - mean_absolute_percentage_error: 20.9540 - mean_squared_error: 8.2420\n",
      "Epoch 74/150\n",
      "340/340 [==============================] - 0s 183us/step - loss: 0.0541 - mean_absolute_percentage_error: 20.7410 - mean_squared_error: 8.1160\n",
      "Epoch 75/150\n",
      "340/340 [==============================] - 0s 146us/step - loss: 0.0532 - mean_absolute_percentage_error: 20.5657 - mean_squared_error: 7.9869\n",
      "Epoch 76/150\n",
      "340/340 [==============================] - 0s 161us/step - loss: 0.0523 - mean_absolute_percentage_error: 20.3524 - mean_squared_error: 7.8767\n",
      "Epoch 77/150\n",
      "340/340 [==============================] - 0s 178us/step - loss: 0.0513 - mean_absolute_percentage_error: 20.1425 - mean_squared_error: 7.7794\n",
      "Epoch 78/150\n",
      "340/340 [==============================] - 0s 188us/step - loss: 0.0505 - mean_absolute_percentage_error: 19.9644 - mean_squared_error: 7.6470\n",
      "Epoch 79/150\n",
      "340/340 [==============================] - 0s 187us/step - loss: 0.0497 - mean_absolute_percentage_error: 19.7492 - mean_squared_error: 7.5732\n",
      "Epoch 80/150\n",
      "340/340 [==============================] - 0s 201us/step - loss: 0.0488 - mean_absolute_percentage_error: 19.5512 - mean_squared_error: 7.4609\n",
      "Epoch 81/150\n",
      "340/340 [==============================] - 0s 196us/step - loss: 0.0480 - mean_absolute_percentage_error: 19.3977 - mean_squared_error: 7.3511\n",
      "Epoch 82/150\n",
      "340/340 [==============================] - 0s 195us/step - loss: 0.0473 - mean_absolute_percentage_error: 19.1525 - mean_squared_error: 7.2743\n",
      "Epoch 83/150\n",
      "340/340 [==============================] - 0s 170us/step - loss: 0.0465 - mean_absolute_percentage_error: 19.0036 - mean_squared_error: 7.1735\n",
      "Epoch 84/150\n",
      "340/340 [==============================] - 0s 141us/step - loss: 0.0458 - mean_absolute_percentage_error: 18.8057 - mean_squared_error: 7.0884\n",
      "Epoch 85/150\n",
      "340/340 [==============================] - 0s 153us/step - loss: 0.0451 - mean_absolute_percentage_error: 18.6590 - mean_squared_error: 6.9830\n",
      "Epoch 86/150\n",
      "340/340 [==============================] - 0s 144us/step - loss: 0.0445 - mean_absolute_percentage_error: 18.4393 - mean_squared_error: 6.9174\n",
      "Epoch 87/150\n",
      "340/340 [==============================] - 0s 172us/step - loss: 0.0438 - mean_absolute_percentage_error: 18.3650 - mean_squared_error: 6.8156\n",
      "Epoch 88/150\n",
      "340/340 [==============================] - 0s 180us/step - loss: 0.0432 - mean_absolute_percentage_error: 18.1533 - mean_squared_error: 6.7649\n",
      "Epoch 89/150\n",
      "340/340 [==============================] - 0s 183us/step - loss: 0.0426 - mean_absolute_percentage_error: 18.0658 - mean_squared_error: 6.6846\n",
      "Epoch 90/150\n",
      "340/340 [==============================] - 0s 212us/step - loss: 0.0421 - mean_absolute_percentage_error: 17.9786 - mean_squared_error: 6.6097\n",
      "Epoch 91/150\n",
      "340/340 [==============================] - 0s 197us/step - loss: 0.0417 - mean_absolute_percentage_error: 17.8115 - mean_squared_error: 6.5632\n",
      "Epoch 92/150\n",
      "340/340 [==============================] - 0s 199us/step - loss: 0.0412 - mean_absolute_percentage_error: 17.7288 - mean_squared_error: 6.4907\n",
      "Epoch 93/150\n",
      "340/340 [==============================] - 0s 191us/step - loss: 0.0408 - mean_absolute_percentage_error: 17.5537 - mean_squared_error: 6.4534\n",
      "Epoch 94/150\n",
      "340/340 [==============================] - 0s 193us/step - loss: 0.0404 - mean_absolute_percentage_error: 17.5482 - mean_squared_error: 6.3783\n",
      "Epoch 95/150\n",
      "340/340 [==============================] - 0s 190us/step - loss: 0.0400 - mean_absolute_percentage_error: 17.4081 - mean_squared_error: 6.3517\n",
      "Epoch 96/150\n",
      "340/340 [==============================] - 0s 174us/step - loss: 0.0396 - mean_absolute_percentage_error: 17.3499 - mean_squared_error: 6.3024\n",
      "Epoch 97/150\n",
      "340/340 [==============================] - 0s 194us/step - loss: 0.0392 - mean_absolute_percentage_error: 17.1850 - mean_squared_error: 6.2695\n",
      "Epoch 98/150\n",
      "340/340 [==============================] - 0s 208us/step - loss: 0.0389 - mean_absolute_percentage_error: 17.1130 - mean_squared_error: 6.2218\n",
      "Epoch 99/150\n",
      "340/340 [==============================] - 0s 193us/step - loss: 0.0385 - mean_absolute_percentage_error: 17.0412 - mean_squared_error: 6.1830\n",
      "Epoch 100/150\n",
      "340/340 [==============================] - 0s 201us/step - loss: 0.0382 - mean_absolute_percentage_error: 17.0117 - mean_squared_error: 6.1348\n",
      "Epoch 101/150\n",
      "340/340 [==============================] - 0s 193us/step - loss: 0.0379 - mean_absolute_percentage_error: 16.9086 - mean_squared_error: 6.1089\n",
      "Epoch 102/150\n",
      "340/340 [==============================] - 0s 186us/step - loss: 0.0376 - mean_absolute_percentage_error: 16.8437 - mean_squared_error: 6.0786\n",
      "Epoch 103/150\n",
      "340/340 [==============================] - 0s 181us/step - loss: 0.0373 - mean_absolute_percentage_error: 16.8342 - mean_squared_error: 6.0413\n",
      "Epoch 104/150\n",
      "340/340 [==============================] - 0s 196us/step - loss: 0.0370 - mean_absolute_percentage_error: 16.7123 - mean_squared_error: 6.0127\n",
      "Epoch 105/150\n"
     ]
    },
    {
     "name": "stdout",
     "output_type": "stream",
     "text": [
      "340/340 [==============================] - 0s 176us/step - loss: 0.0367 - mean_absolute_percentage_error: 16.6079 - mean_squared_error: 5.9909\n",
      "Epoch 106/150\n",
      "340/340 [==============================] - 0s 194us/step - loss: 0.0367 - mean_absolute_percentage_error: 16.6975 - mean_squared_error: 5.9643\n",
      "Epoch 107/150\n",
      "340/340 [==============================] - 0s 184us/step - loss: 0.0362 - mean_absolute_percentage_error: 16.5120 - mean_squared_error: 5.9366\n",
      "Epoch 108/150\n",
      "340/340 [==============================] - 0s 197us/step - loss: 0.0361 - mean_absolute_percentage_error: 16.5063 - mean_squared_error: 5.9075\n",
      "Epoch 109/150\n",
      "340/340 [==============================] - 0s 187us/step - loss: 0.0358 - mean_absolute_percentage_error: 16.4256 - mean_squared_error: 5.8856\n",
      "Epoch 110/150\n",
      "340/340 [==============================] - 0s 180us/step - loss: 0.0357 - mean_absolute_percentage_error: 16.3410 - mean_squared_error: 5.8829\n",
      "Epoch 111/150\n",
      "340/340 [==============================] - 0s 201us/step - loss: 0.0355 - mean_absolute_percentage_error: 16.3060 - mean_squared_error: 5.8578\n",
      "Epoch 112/150\n",
      "340/340 [==============================] - 0s 178us/step - loss: 0.0353 - mean_absolute_percentage_error: 16.3649 - mean_squared_error: 5.8309\n",
      "Epoch 113/150\n",
      "340/340 [==============================] - 0s 194us/step - loss: 0.0352 - mean_absolute_percentage_error: 16.3046 - mean_squared_error: 5.8298\n",
      "Epoch 114/150\n",
      "340/340 [==============================] - 0s 203us/step - loss: 0.0351 - mean_absolute_percentage_error: 16.2067 - mean_squared_error: 5.8201\n",
      "Epoch 115/150\n",
      "340/340 [==============================] - 0s 205us/step - loss: 0.0349 - mean_absolute_percentage_error: 16.2503 - mean_squared_error: 5.7908\n",
      "Epoch 116/150\n",
      "340/340 [==============================] - 0s 196us/step - loss: 0.0347 - mean_absolute_percentage_error: 16.2219 - mean_squared_error: 5.7728\n",
      "Epoch 117/150\n",
      "340/340 [==============================] - 0s 189us/step - loss: 0.0346 - mean_absolute_percentage_error: 16.1654 - mean_squared_error: 5.7579\n",
      "Epoch 118/150\n",
      "340/340 [==============================] - 0s 191us/step - loss: 0.0344 - mean_absolute_percentage_error: 16.1790 - mean_squared_error: 5.7345\n",
      "Epoch 119/150\n",
      "340/340 [==============================] - 0s 181us/step - loss: 0.0343 - mean_absolute_percentage_error: 16.1023 - mean_squared_error: 5.7242\n",
      "Epoch 120/150\n",
      "340/340 [==============================] - 0s 197us/step - loss: 0.0342 - mean_absolute_percentage_error: 16.1584 - mean_squared_error: 5.7149\n",
      "Epoch 121/150\n",
      "340/340 [==============================] - 0s 187us/step - loss: 0.0340 - mean_absolute_percentage_error: 16.1127 - mean_squared_error: 5.6916\n",
      "Epoch 122/150\n",
      "340/340 [==============================] - 0s 196us/step - loss: 0.0339 - mean_absolute_percentage_error: 16.0050 - mean_squared_error: 5.6833\n",
      "Epoch 123/150\n",
      "340/340 [==============================] - 0s 191us/step - loss: 0.0338 - mean_absolute_percentage_error: 16.0118 - mean_squared_error: 5.6686\n",
      "Epoch 124/150\n",
      "340/340 [==============================] - 0s 185us/step - loss: 0.0337 - mean_absolute_percentage_error: 15.9653 - mean_squared_error: 5.6647\n",
      "Epoch 125/150\n",
      "340/340 [==============================] - 0s 200us/step - loss: 0.0336 - mean_absolute_percentage_error: 15.9365 - mean_squared_error: 5.6538\n",
      "Epoch 126/150\n",
      "340/340 [==============================] - 0s 185us/step - loss: 0.0334 - mean_absolute_percentage_error: 15.9600 - mean_squared_error: 5.6338\n",
      "Epoch 127/150\n",
      "340/340 [==============================] - 0s 182us/step - loss: 0.0334 - mean_absolute_percentage_error: 15.9738 - mean_squared_error: 5.6253\n",
      "Epoch 128/150\n",
      "340/340 [==============================] - 0s 129us/step - loss: 0.0332 - mean_absolute_percentage_error: 15.9163 - mean_squared_error: 5.6190\n",
      "Epoch 129/150\n",
      "340/340 [==============================] - 0s 121us/step - loss: 0.0331 - mean_absolute_percentage_error: 15.8790 - mean_squared_error: 5.6141\n",
      "Epoch 130/150\n",
      "340/340 [==============================] - 0s 114us/step - loss: 0.0331 - mean_absolute_percentage_error: 15.9030 - mean_squared_error: 5.5985\n",
      "Epoch 131/150\n",
      "340/340 [==============================] - 0s 134us/step - loss: 0.0329 - mean_absolute_percentage_error: 15.8514 - mean_squared_error: 5.5853\n",
      "Epoch 132/150\n",
      "340/340 [==============================] - 0s 121us/step - loss: 0.0329 - mean_absolute_percentage_error: 15.8277 - mean_squared_error: 5.5825\n",
      "Epoch 133/150\n",
      "340/340 [==============================] - 0s 119us/step - loss: 0.0328 - mean_absolute_percentage_error: 15.8433 - mean_squared_error: 5.5751\n",
      "Epoch 134/150\n",
      "340/340 [==============================] - 0s 185us/step - loss: 0.0327 - mean_absolute_percentage_error: 15.8423 - mean_squared_error: 5.5568\n",
      "Epoch 135/150\n",
      "340/340 [==============================] - 0s 185us/step - loss: 0.0326 - mean_absolute_percentage_error: 15.8204 - mean_squared_error: 5.5641\n",
      "Epoch 136/150\n",
      "340/340 [==============================] - 0s 193us/step - loss: 0.0326 - mean_absolute_percentage_error: 15.8585 - mean_squared_error: 5.5457\n",
      "Epoch 137/150\n",
      "340/340 [==============================] - 0s 174us/step - loss: 0.0325 - mean_absolute_percentage_error: 15.8062 - mean_squared_error: 5.5346\n",
      "Epoch 138/150\n",
      "340/340 [==============================] - 0s 203us/step - loss: 0.0324 - mean_absolute_percentage_error: 15.6954 - mean_squared_error: 5.5396\n",
      "Epoch 139/150\n",
      "340/340 [==============================] - 0s 177us/step - loss: 0.0322 - mean_absolute_percentage_error: 15.7570 - mean_squared_error: 5.5158\n",
      "Epoch 140/150\n",
      "340/340 [==============================] - 0s 200us/step - loss: 0.0322 - mean_absolute_percentage_error: 15.6884 - mean_squared_error: 5.5177\n",
      "Epoch 141/150\n",
      "340/340 [==============================] - 0s 184us/step - loss: 0.0321 - mean_absolute_percentage_error: 15.7200 - mean_squared_error: 5.5122\n",
      "Epoch 142/150\n",
      "340/340 [==============================] - 0s 183us/step - loss: 0.0320 - mean_absolute_percentage_error: 15.7170 - mean_squared_error: 5.4939\n",
      "Epoch 143/150\n",
      "340/340 [==============================] - 0s 187us/step - loss: 0.0319 - mean_absolute_percentage_error: 15.6623 - mean_squared_error: 5.4895\n",
      "Epoch 144/150\n",
      "340/340 [==============================] - 0s 174us/step - loss: 0.0320 - mean_absolute_percentage_error: 15.6329 - mean_squared_error: 5.4983\n",
      "Epoch 145/150\n",
      "340/340 [==============================] - 0s 140us/step - loss: 0.0319 - mean_absolute_percentage_error: 15.7461 - mean_squared_error: 5.4863\n",
      "Epoch 146/150\n",
      "340/340 [==============================] - 0s 124us/step - loss: 0.0318 - mean_absolute_percentage_error: 15.6695 - mean_squared_error: 5.4840\n",
      "Epoch 147/150\n",
      "340/340 [==============================] - 0s 128us/step - loss: 0.0317 - mean_absolute_percentage_error: 15.6614 - mean_squared_error: 5.4721\n",
      "Epoch 148/150\n",
      "340/340 [==============================] - 0s 127us/step - loss: 0.0316 - mean_absolute_percentage_error: 15.6481 - mean_squared_error: 5.4650\n",
      "Epoch 149/150\n",
      "340/340 [==============================] - 0s 123us/step - loss: 0.0317 - mean_absolute_percentage_error: 15.6691 - mean_squared_error: 5.4666\n",
      "Epoch 150/150\n",
      "340/340 [==============================] - 0s 136us/step - loss: 0.0316 - mean_absolute_percentage_error: 15.5667 - mean_squared_error: 5.4563\n"
     ]
    }
   ],
   "source": [
    "# fit the model to the data\n",
    "history1 = model1.fit(x_train,y_train,epochs=150,batch_size=10)"
   ]
  },
  {
   "cell_type": "code",
   "execution_count": 15,
   "metadata": {},
   "outputs": [
    {
     "data": {
      "image/png": "[encoded data removed]",
      "text/plain": [
       "<matplotlib.figure.Figure at 0x1717ac7ff98>"
      ]
     },
     "metadata": {},
     "output_type": "display_data"
    }
   ],
   "source": [
    "# plot the metrics vs epoch number\n",
    "\n",
    "fig1,ax1 = plt.subplots(1,1,figsize=(6,5))\n",
    "ax1.plot(history1.history['mean_absolute_percentage_error'],color='green')\n",
    "ax1.set_xlabel('Epoch')\n",
    "ax1.set_ylabel('Mean absolute percentage error',color='green')\n",
    "ax1.tick_params(axis='y', labelcolor='green')\n",
    "\n",
    "ax1_ = ax1.twinx()\n",
    "ax1_.plot(history1.history['mean_squared_error'],color='blue')\n",
    "ax1_.set_ylabel('Mean squared error',color='blue')\n",
    "ax1_.tick_params(axis='y', labelcolor='blue')\n",
    "plt.show()"
   ]
  },
  {
   "cell_type": "code",
   "execution_count": 16,
   "metadata": {},
   "outputs": [],
   "source": [
    "# use the model to make predictions\n",
    "predictions1 = model1.predict(x_test)"
   ]
  },
  {
   "cell_type": "code",
   "execution_count": 18,
   "metadata": {},
   "outputs": [
    {
     "data": {
      "image/png": "[encoded data removed]",
      "text/plain": [
       "<matplotlib.figure.Figure at 0x1717c156b00>"
      ]
     },
     "metadata": {},
     "output_type": "display_data"
    }
   ],
   "source": [
    "# plot predictions vs true values\n",
    "\n",
    "PREDICTION = predictions1\n",
    "TRUTH      = y_test\n",
    "\n",
    "fig2,ax2 = plt.subplots(1,1,figsize=(5,5))\n",
    "# prediction vs truth\n",
    "ax2.scatter(TRUTH,PREDICTION,marker='.')\n",
    "# line y=x\n",
    "xmax = int(1.1*max(TRUTH)+0.5)\n",
    "x = np.linspace(-1,xmax)\n",
    "ax2.plot(x,x,color='r')\n",
    "# stats\n",
    "rmse = np.sqrt(mean_squared_error(TRUTH,PREDICTION))\n",
    "R2 = r2_score(TRUTH,PREDICTION)\n",
    "ax2.text(0.05,0.93,'RMSE = {0:.3f}'.format(rmse),transform=ax2.transAxes,fontsize=12)\n",
    "ax2.text(0.05,0.865,'$R^2$ = {0:.3f}'.format(R2),transform=ax2.transAxes,fontsize=12)\n",
    "# axes\n",
    "ax2.set_xlabel('True muon signal (VEM)')\n",
    "ax2.set_ylabel('Predicted muon signal (VEM)')\n",
    "ax2.set_xlim(-1,xmax)\n",
    "ax2.set_ylim(-1,xmax)\n",
    "# title\n",
    "fig2.suptitle(r'$log_{10}(\\ E\\ ) \\in (16.0,16.5),\\quad cos(\\theta) > 0.9$')\n",
    "\n",
    "plt.show()"
   ]
  },
  {
   "cell_type": "code",
   "execution_count": 19,
   "metadata": {},
   "outputs": [
    {
     "data": {
      "image/png": "[encoded data removed]",
      "text/plain": [
       "<matplotlib.figure.Figure at 0x1717c223518>"
      ]
     },
     "metadata": {},
     "output_type": "display_data"
    }
   ],
   "source": [
    "# Plot residuals\n",
    "fig3,ax3=plt.subplots(1,1,figsize=(6,5))\n",
    "residuals1 = [predictions1[i]-y_test[i] for i in range(len(y_test))]\n",
    "ax3.scatter(y_test,residuals1,marker='.')\n",
    "x = np.linspace(0,35)\n",
    "ax3.plot(x,0*x,color='black')\n",
    "ax3.set_xlim(0,35)\n",
    "ax3.set_ylabel('Residual')\n",
    "ax3.set_xlabel('True muon signal (VEM)')\n",
    "fig3.suptitle(\"Sum: {0:.3f}\".format(sum(residuals1)[0]))\n",
    "plt.show()"
   ]
  },
  {
   "cell_type": "markdown",
   "metadata": {},
   "source": [
    "#### Applying the averaged network to the original data"
   ]
  },
  {
   "cell_type": "code",
   "execution_count": 20,
   "metadata": {},
   "outputs": [],
   "source": [
    "# unaveraged data\n",
    "# Columns: Run, E_proton, E_iron, Zen, Q400, MuonVEM, nMuon, Type\n",
    "# Note that right now, nMuon is useless\n",
    "data2 = np.load('./data/NN_data_400m.npy')"
   ]
  },
  {
   "cell_type": "code",
   "execution_count": 21,
   "metadata": {},
   "outputs": [],
   "source": [
    "# convert the python 2 bytes into python 3 format\n",
    "data_ = []\n",
    "for i in range(len(data2)):\n",
    "    data_.append([])\n",
    "    for j in range(0,6):\n",
    "        data_[i].append(float(data2[i,j]))\n",
    "data2 = np.array(data_)"
   ]
  },
  {
   "cell_type": "code",
   "execution_count": 22,
   "metadata": {},
   "outputs": [],
   "source": [
    "data2_ = []\n",
    "for shower in data2:\n",
    "    if shower[0] in runs_test:\n",
    "        data2_.append(shower)\n",
    "data2 = data2_"
   ]
  },
  {
   "cell_type": "code",
   "execution_count": 23,
   "metadata": {},
   "outputs": [],
   "source": [
    "# look at data logE in (16.0,16.5) and cos(zenith) > 0.9\n",
    "data_ = []\n",
    "for shower in data2:\n",
    "    E_proton = shower[1]\n",
    "    E_iron = shower[2]\n",
    "    E_avg = np.sqrt(E_proton*E_iron) # geometric mean\n",
    "    logE = np.log10(E_avg)\n",
    "    zen = shower[3]\n",
    "    if logE >= 16 and logE <= 16.5 and np.cos(zen) > 0.9:\n",
    "        data_.append(shower[1:])\n",
    "data_trimmed2 = np.array(data_)"
   ]
  },
  {
   "cell_type": "code",
   "execution_count": 24,
   "metadata": {},
   "outputs": [
    {
     "name": "stdout",
     "output_type": "stream",
     "text": [
      "377\n"
     ]
    }
   ],
   "source": [
    "print(len(data_trimmed2))"
   ]
  },
  {
   "cell_type": "code",
   "execution_count": 25,
   "metadata": {},
   "outputs": [],
   "source": [
    "# split into input and target\n",
    "X2 = data_trimmed2[:,0:4]\n",
    "Y2 = data_trimmed2[:,4]"
   ]
  },
  {
   "cell_type": "code",
   "execution_count": 26,
   "metadata": {},
   "outputs": [],
   "source": [
    "x2 = scaler.transform(X2)"
   ]
  },
  {
   "cell_type": "code",
   "execution_count": 27,
   "metadata": {},
   "outputs": [],
   "source": [
    "# use the model to make predictions\n",
    "predictions2 = model1.predict(x2)"
   ]
  },
  {
   "cell_type": "code",
   "execution_count": 29,
   "metadata": {},
   "outputs": [
    {
     "data": {
      "image/png": "[encoded data removed]",
      "text/plain": [
       "<matplotlib.figure.Figure at 0x1717c9ee358>"
      ]
     },
     "metadata": {},
     "output_type": "display_data"
    }
   ],
   "source": [
    "# plot predictions vs true values\n",
    "\n",
    "PREDICTION = predictions2\n",
    "TRUTH      = Y2\n",
    "\n",
    "fig4,ax4 = plt.subplots(1,1,figsize=(5,5))\n",
    "# prediction vs truth\n",
    "ax4.scatter(TRUTH,PREDICTION,marker='.')\n",
    "# line y=x\n",
    "xmax = int(1.1*max(TRUTH)+0.5)\n",
    "x = np.linspace(-1,xmax)\n",
    "ax4.plot(x,x,color='r')\n",
    "# stats\n",
    "rmse = np.sqrt(mean_squared_error(TRUTH,PREDICTION))\n",
    "R2 = r2_score(TRUTH,PREDICTION)\n",
    "ax4.text(0.05,0.93,'RMSE = {0:.3f}'.format(rmse),transform=ax4.transAxes,fontsize=12)\n",
    "ax4.text(0.05,0.865,'$R^2$ = {0:.3f}'.format(R2),transform=ax4.transAxes,fontsize=12)\n",
    "# axes\n",
    "ax4.set_xlabel('True muon signal (VEM)')\n",
    "ax4.set_ylabel('Predicted muon signal (VEM)')\n",
    "ax4.set_xlim(-1,xmax)\n",
    "ax4.set_ylim(-1,xmax)\n",
    "# title\n",
    "fig4.suptitle(r'$log_{10}(\\ E\\ ) \\in (16.0,16.5),\\quad cos(\\theta) > 0.9$')\n",
    "\n",
    "plt.show()"
   ]
  },
  {
   "cell_type": "code",
   "execution_count": 30,
   "metadata": {},
   "outputs": [
    {
     "data": {
      "image/png": "[encoded data removed]",
      "text/plain": [
       "<matplotlib.figure.Figure at 0x1717c308b70>"
      ]
     },
     "metadata": {},
     "output_type": "display_data"
    }
   ],
   "source": [
    "# Plot residuals\n",
    "fig5,ax5=plt.subplots(1,1,figsize=(6,5))\n",
    "residuals2 = [predictions2[i]-Y2[i] for i in range(len(Y2))]\n",
    "ax5.scatter(Y2,residuals2,marker='.')\n",
    "x = np.linspace(0,40)\n",
    "ax5.plot(x,0*x,color='black')\n",
    "ax5.set_xlim(0,40)\n",
    "ax5.set_ylabel('Residual')\n",
    "ax5.set_xlabel('True muon signal (VEM)')\n",
    "fig5.suptitle(\"Sum: {0:.3f}\".format(sum(residuals1)[0]))\n",
    "plt.show()"
   ]
  },
  {
   "cell_type": "code",
   "execution_count": null,
   "metadata": {},
   "outputs": [],
   "source": []
  }
 ],
 "metadata": {
  "kernelspec": {
   "display_name": "Python 3",
   "language": "python",
   "name": "python3"
  },
  "language_info": {
   "codemirror_mode": {
    "name": "ipython",
    "version": 3
   },
   "file_extension": ".py",
   "mimetype": "text/x-python",
   "name": "python",
   "nbconvert_exporter": "python",
   "pygments_lexer": "ipython3",
   "version": "3.6.4"
  }
 },
 "nbformat": 4,
 "nbformat_minor": 2
}
